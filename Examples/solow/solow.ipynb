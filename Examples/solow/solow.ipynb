{
 "cells": [
  {
   "cell_type": "markdown",
   "metadata": {
    "slideshow": {
     "slide_type": "slide"
    }
   },
   "source": [
    "# A notebook with a simple Solow model \n",
    "You ca run each cell by pressing the run tool or shift+enter"
   ]
  },
  {
   "cell_type": "markdown",
   "metadata": {
    "slideshow": {
     "slide_type": "slide"
    }
   },
   "source": [
    "# Import Python libraries"
   ]
  },
  {
   "cell_type": "code",
   "execution_count": 1,
   "metadata": {
    "slideshow": {
     "slide_type": "-"
    }
   },
   "outputs": [
    {
     "data": {
      "text/html": [
       "\n",
       "            <style>\n",
       "                div#notebook-container    { width: 95%; }\n",
       "                div#menubar-container     { width: 65%; }\n",
       "                div#maintoolbar-container { width: 99%; }\n",
       "            </style>\n",
       "            "
      ],
      "text/plain": [
       "<IPython.core.display.HTML object>"
      ]
     },
     "metadata": {},
     "output_type": "display_data"
    },
    {
     "data": {
      "text/html": [
       "            <script>\n",
       "                // AUTORUN ALL CELLS ON NOTEBOOK-LOAD!\n",
       "                require(\n",
       "                    ['base/js/namespace', 'jquery'], \n",
       "                    function(jupyter, $) {\n",
       "                        $(jupyter.events).on('kernel_ready.Kernel', function () {\n",
       "                            console.log('Auto-running all cells-below...');\n",
       "                            jupyter.actions.call('jupyter-notebook:run-all-cells-below');\n",
       "                            jupyter.actions.call('jupyter-notebook:save-notebook');\n",
       "                        });\n",
       "                    }\n",
       "                );\n",
       "            </script>"
      ],
      "text/plain": [
       "<IPython.core.display.HTML object>"
      ]
     },
     "metadata": {},
     "output_type": "display_data"
    }
   ],
   "source": [
    "%matplotlib inline\n",
    "import pandas as pd\n",
    "from modelclass import model\n",
    "model.modelflow_auto()"
   ]
  },
  {
   "cell_type": "markdown",
   "metadata": {
    "slideshow": {
     "slide_type": "slide"
    }
   },
   "source": [
    "# Specify the model \n",
    "The explode function will rewrite the business logic."
   ]
  },
  {
   "cell_type": "code",
   "execution_count": 2,
   "metadata": {
    "slideshow": {
     "slide_type": "-"
    }
   },
   "outputs": [
    {
     "name": "stdout",
     "output_type": "stream",
     "text": [
      "Y         = a * k**alfa * l **(1-alfa) \n",
      "C         = (1-SAVING_RATIO)  * Y \n",
      "I         = Y - C \n",
      "diff(K)   = I-depreciates_rate * K(-1)\n",
      "diff(l)   = labor_growth * L(-1) \n",
      "K_intense = K/L \n",
      "\n"
     ]
    }
   ],
   "source": [
    "fsolow = '''\\\n",
    "Y         = a * k**alfa * l **(1-alfa) \n",
    "C         = (1-SAVING_RATIO)  * Y \n",
    "I         = Y - C \n",
    "diff(K)   = I-depreciates_rate * K(-1)\n",
    "diff(l)   = labor_growth * L(-1) \n",
    "K_intense = K/L \n",
    "'''\n",
    "print(fsolow)"
   ]
  },
  {
   "cell_type": "markdown",
   "metadata": {
    "slideshow": {
     "slide_type": "slide"
    }
   },
   "source": [
    "# Create a model class instance"
   ]
  },
  {
   "cell_type": "code",
   "execution_count": 3,
   "metadata": {
    "slideshow": {
     "slide_type": "-"
    }
   },
   "outputs": [
    {
     "name": "stdout",
     "output_type": "stream",
     "text": [
      "FRML <> Y         = A * K**ALFA * L **(1-ALFA)  $\n",
      "FRML <> C         = (1-SAVING_RATIO)  * Y  $\n",
      "FRML <> I         = Y - C  $\n",
      "FRML <> K=K(-1)+(I-DEPRECIATES_RATE * K(-1))$\n",
      "FRML <> L=L(-1)+(LABOR_GROWTH * L(-1))$\n",
      "FRML <> K_INTENSE = K/L  $\n"
     ]
    }
   ],
   "source": [
    "msolow = model.from_eq(fsolow,modelname='Solow model')\n",
    "print(msolow.equations)  "
   ]
  },
  {
   "cell_type": "markdown",
   "metadata": {
    "slideshow": {
     "slide_type": "slide"
    }
   },
   "source": [
    "# Show model structure"
   ]
  },
  {
   "cell_type": "code",
   "execution_count": 4,
   "metadata": {
    "slideshow": {
     "slide_type": "subslide"
    }
   },
   "outputs": [
    {
     "data": {
      "image/svg+xml": [
       "<svg xmlns=\"http://www.w3.org/2000/svg\" xmlns:xlink=\"http://www.w3.org/1999/xlink\" width=\"360pt\" height=\"179pt\" viewBox=\"0.00 0.00 360.00 178.75\">\n",
       "<g id=\"graph0\" class=\"graph\" transform=\"scale(0.518882 0.518882) rotate(0) translate(4 340.5)\">\n",
       "<title>TD</title>\n",
       "<polygon fill=\"white\" stroke=\"none\" points=\"-4,4 -4,-340.5 689.8,-340.5 689.8,4 -4,4\"/>\n",
       "<text text-anchor=\"middle\" x=\"342.9\" y=\"-7.2\" font-family=\"Times New Roman,serif\" font-size=\"14.00\">A_model_graph</text>\n",
       "<!-- K_INTENSE -->\n",
       "<g id=\"node1\" class=\"node\">\n",
       "<title>K_INTENSE</title>\n",
       "<g id=\"a_node1\"><a xlink:title=\"K_INTENSE\n",
       "FRML &lt;&gt; K_INTENSE = K/L  $\">\n",
       "<polygon fill=\"#63b8ff\" stroke=\"black\" points=\"685.8,-198.5 597.7,-198.5 597.7,-162.5 685.8,-162.5 685.8,-198.5\"/>\n",
       "<text text-anchor=\"start\" x=\"603.5\" y=\"-175.45\" font-family=\"Times New Roman,serif\" font-size=\"14.00\" fill=\"blue\">K_INTENSE:</text>\n",
       "</a>\n",
       "</g>\n",
       "</g>\n",
       "<!-- K -->\n",
       "<g id=\"node2\" class=\"node\">\n",
       "<title>K</title>\n",
       "<g id=\"a_node2\"><a xlink:title=\"K\n",
       "FRML &lt;&gt; K=K(-1)+(I-DEPRECIATES_RATE * K(-1))$\">\n",
       "<polygon fill=\"#63b8ff\" stroke=\"black\" points=\"234.35,-290.5 180.35,-290.5 180.35,-254.5 234.35,-254.5 234.35,-290.5\"/>\n",
       "<text text-anchor=\"start\" x=\"200.6\" y=\"-267.45\" font-family=\"Times New Roman,serif\" font-size=\"14.00\" fill=\"blue\">K:</text>\n",
       "</a>\n",
       "</g>\n",
       "</g>\n",
       "<!-- K&#45;&gt;K_INTENSE -->\n",
       "<g id=\"edge17\" class=\"edge\">\n",
       "<title>K-&gt;K_INTENSE</title>\n",
       "<g id=\"a_edge17\"><a xlink:href=\"bogus\" xlink:title=\"NA\">\n",
       "<path fill=\"none\" stroke=\"black\" stroke-width=\"0.5\" d=\"M234.65,-271.72C268.76,-270.4 330.01,-266.99 381.7,-258.5 463.07,-245.14 483.43,-239.46 561.7,-213.5 571.22,-210.34 581.21,-206.56 590.76,-202.7\"/>\n",
       "<polygon fill=\"black\" stroke=\"black\" stroke-width=\"0.5\" points=\"591.85,-206.04 599.76,-198.99 589.18,-199.56 591.85,-206.04\"/>\n",
       "</a>\n",
       "</g>\n",
       "</g>\n",
       "<!-- Y -->\n",
       "<g id=\"node9\" class=\"node\">\n",
       "<title>Y</title>\n",
       "<g id=\"a_node9\"><a xlink:title=\"Y\n",
       "FRML &lt;&gt; Y         = A * K**ALFA * L **(1-ALFA)  $\">\n",
       "<polygon fill=\"#63b8ff\" stroke=\"black\" points=\"353.02,-152.5 299.02,-152.5 299.02,-116.5 353.02,-116.5 353.02,-152.5\"/>\n",
       "<text text-anchor=\"start\" x=\"319.65\" y=\"-129.45\" font-family=\"Times New Roman,serif\" font-size=\"14.00\" fill=\"blue\">Y:</text>\n",
       "</a>\n",
       "</g>\n",
       "</g>\n",
       "<!-- K&#45;&gt;Y -->\n",
       "<g id=\"edge8\" class=\"edge\">\n",
       "<title>K-&gt;Y</title>\n",
       "<g id=\"a_edge8\"><a xlink:href=\"bogus\" xlink:title=\"NA\">\n",
       "<path fill=\"none\" stroke=\"black\" stroke-width=\"0.5\" d=\"M214.63,-254.19C223.66,-230.21 242.35,-188.11 270.35,-161.5 275.96,-156.17 282.83,-151.68 289.77,-147.98\"/>\n",
       "<polygon fill=\"black\" stroke=\"black\" stroke-width=\"0.5\" points=\"291.06,-151.25 298.53,-143.73 288,-144.95 291.06,-151.25\"/>\n",
       "</a>\n",
       "</g>\n",
       "</g>\n",
       "<!-- K(&#45;1) -->\n",
       "<g id=\"node12\" class=\"node\">\n",
       "<title>K(-1)</title>\n",
       "<g id=\"a_node12\"><a xlink:title=\"K\n",
       "FRML &lt;&gt; K=K(-1)+(I-DEPRECIATES_RATE * K(-1))$\">\n",
       "<polygon fill=\"springgreen\" stroke=\"black\" points=\"353.57,-336.5 298.47,-336.5 298.47,-300.5 353.57,-300.5 353.57,-336.5\"/>\n",
       "<text text-anchor=\"start\" x=\"304.27\" y=\"-313.45\" font-family=\"Times New Roman,serif\" font-size=\"14.00\" fill=\"blue\">K(-1):K</text>\n",
       "</a>\n",
       "</g>\n",
       "</g>\n",
       "<!-- K&#45;&gt;K(&#45;1) -->\n",
       "<g id=\"edge2\" class=\"edge\">\n",
       "<title>K-&gt;K(-1)</title>\n",
       "<g id=\"a_edge2\"><a xlink:href=\"bogus\" xlink:title=\"NA\">\n",
       "<path fill=\"none\" stroke=\"black\" stroke-width=\"0.5\" d=\"M234.83,-277.18C250.97,-282.43 271.81,-290.47 289.4,-298.18\"/>\n",
       "<polygon fill=\"black\" stroke=\"black\" stroke-width=\"0.5\" points=\"287.69,-301.25 298.25,-302.16 290.57,-294.87 287.69,-301.25\"/>\n",
       "</a>\n",
       "</g>\n",
       "</g>\n",
       "<!-- ALFA -->\n",
       "<g id=\"node3\" class=\"node\">\n",
       "<title>ALFA</title>\n",
       "<g id=\"a_node3\"><a xlink:title=\"ALFA\n",
       "Exogen\">\n",
       "<polygon fill=\"yellow\" stroke=\"black\" points=\"234.35,-197.5 180.35,-197.5 180.35,-161.5 234.35,-161.5 234.35,-197.5\"/>\n",
       "<text text-anchor=\"start\" x=\"188.22\" y=\"-174.45\" font-family=\"Times New Roman,serif\" font-size=\"14.00\" fill=\"blue\">ALFA:</text>\n",
       "</a>\n",
       "</g>\n",
       "</g>\n",
       "<!-- ALFA&#45;&gt;Y -->\n",
       "<g id=\"edge5\" class=\"edge\">\n",
       "<title>ALFA-&gt;Y</title>\n",
       "<g id=\"a_edge5\"><a xlink:href=\"bogus\" xlink:title=\"NA\">\n",
       "<path fill=\"none\" stroke=\"black\" stroke-width=\"0.5\" d=\"M234.83,-169.29C251.09,-163.02 272.11,-154.91 289.77,-148.1\"/>\n",
       "<polygon fill=\"black\" stroke=\"black\" stroke-width=\"0.5\" points=\"290.58,-151.53 298.65,-144.67 288.06,-145 290.58,-151.53\"/>\n",
       "</a>\n",
       "</g>\n",
       "</g>\n",
       "<!-- I -->\n",
       "<g id=\"node4\" class=\"node\">\n",
       "<title>I</title>\n",
       "<g id=\"a_node4\"><a xlink:title=\"I\n",
       "FRML &lt;&gt; I         = Y - C  $\">\n",
       "<polygon fill=\"#63b8ff\" stroke=\"black\" points=\"561.7,-204.5 507.7,-204.5 507.7,-168.5 561.7,-168.5 561.7,-204.5\"/>\n",
       "<text text-anchor=\"start\" x=\"530.57\" y=\"-181.45\" font-family=\"Times New Roman,serif\" font-size=\"14.00\" fill=\"blue\">I:</text>\n",
       "</a>\n",
       "</g>\n",
       "</g>\n",
       "<!-- I&#45;&gt;K -->\n",
       "<g id=\"edge10\" class=\"edge\">\n",
       "<title>I-&gt;K</title>\n",
       "<g id=\"a_edge10\"><a xlink:href=\"bogus\" xlink:title=\"NA\">\n",
       "<path fill=\"none\" stroke=\"black\" stroke-width=\"0.5\" d=\"M507.28,-199.33C496.43,-204.25 483.64,-209.6 471.7,-213.5 384.52,-241.94 359.82,-238.4 270.35,-258.5 261.92,-260.39 252.84,-262.44 244.3,-264.37\"/>\n",
       "<polygon fill=\"black\" stroke=\"black\" stroke-width=\"0.5\" points=\"243.58,-260.94 234.59,-266.56 245.12,-267.77 243.58,-260.94\"/>\n",
       "</a>\n",
       "</g>\n",
       "</g>\n",
       "<!-- C -->\n",
       "<g id=\"node5\" class=\"node\">\n",
       "<title>C</title>\n",
       "<g id=\"a_node5\"><a xlink:title=\"C\n",
       "FRML &lt;&gt; C         = (1-SAVING_RATIO)  * Y  $\">\n",
       "<polygon fill=\"#63b8ff\" stroke=\"black\" points=\"471.7,-204.5 417.7,-204.5 417.7,-168.5 471.7,-168.5 471.7,-204.5\"/>\n",
       "<text text-anchor=\"start\" x=\"438.32\" y=\"-181.45\" font-family=\"Times New Roman,serif\" font-size=\"14.00\" fill=\"blue\">C:</text>\n",
       "</a>\n",
       "</g>\n",
       "</g>\n",
       "<!-- C&#45;&gt;I -->\n",
       "<g id=\"edge15\" class=\"edge\">\n",
       "<title>C-&gt;I</title>\n",
       "<g id=\"a_edge15\"><a xlink:href=\"bogus\" xlink:title=\"NA\">\n",
       "<path fill=\"none\" stroke=\"black\" stroke-width=\"0.5\" d=\"M472.1,-186.5C480.11,-186.5 489.04,-186.5 497.57,-186.5\"/>\n",
       "<polygon fill=\"black\" stroke=\"black\" stroke-width=\"0.5\" points=\"497.32,-190 507.32,-186.5 497.32,-183 497.32,-190\"/>\n",
       "</a>\n",
       "</g>\n",
       "</g>\n",
       "<!-- L(&#45;1) -->\n",
       "<g id=\"node6\" class=\"node\">\n",
       "<title>L(-1)</title>\n",
       "<g id=\"a_node6\"><a xlink:title=\"L\n",
       "FRML &lt;&gt; L=L(-1)+(LABOR_GROWTH * L(-1))$\">\n",
       "<polygon fill=\"springgreen\" stroke=\"black\" points=\"353.02,-60.5 299.02,-60.5 299.02,-24.5 353.02,-24.5 353.02,-60.5\"/>\n",
       "<text text-anchor=\"start\" x=\"305.77\" y=\"-37.45\" font-family=\"Times New Roman,serif\" font-size=\"14.00\" fill=\"blue\">L(-1):L</text>\n",
       "</a>\n",
       "</g>\n",
       "</g>\n",
       "<!-- L -->\n",
       "<g id=\"node13\" class=\"node\">\n",
       "<title>L</title>\n",
       "<g id=\"a_node13\"><a xlink:title=\"L\n",
       "FRML &lt;&gt; L=L(-1)+(LABOR_GROWTH * L(-1))$\">\n",
       "<polygon fill=\"#63b8ff\" stroke=\"black\" points=\"234.35,-70.5 180.35,-70.5 180.35,-34.5 234.35,-34.5 234.35,-70.5\"/>\n",
       "<text text-anchor=\"start\" x=\"201.35\" y=\"-47.45\" font-family=\"Times New Roman,serif\" font-size=\"14.00\" fill=\"blue\">L:</text>\n",
       "</a>\n",
       "</g>\n",
       "</g>\n",
       "<!-- L(&#45;1)&#45;&gt;L -->\n",
       "<g id=\"edge6\" class=\"edge\">\n",
       "<title>L(-1)-&gt;L</title>\n",
       "<g id=\"a_edge6\"><a xlink:href=\"bogus\" xlink:title=\"NA\">\n",
       "<path fill=\"none\" stroke=\"black\" stroke-width=\"0.5\" d=\"M298.65,-50.51C282.71,-52.99 262.16,-54.93 244.7,-55.69\"/>\n",
       "<polygon fill=\"black\" stroke=\"black\" stroke-width=\"0.5\" points=\"244.71,-52.19 234.83,-55.99 244.93,-59.18 244.71,-52.19\"/>\n",
       "</a>\n",
       "</g>\n",
       "</g>\n",
       "<!-- A -->\n",
       "<g id=\"node7\" class=\"node\">\n",
       "<title>A</title>\n",
       "<g id=\"a_node7\"><a xlink:title=\"A\n",
       "Exogen\">\n",
       "<polygon fill=\"yellow\" stroke=\"black\" points=\"234.35,-143.5 180.35,-143.5 180.35,-107.5 234.35,-107.5 234.35,-143.5\"/>\n",
       "<text text-anchor=\"start\" x=\"200.6\" y=\"-120.45\" font-family=\"Times New Roman,serif\" font-size=\"14.00\" fill=\"blue\">A:</text>\n",
       "</a>\n",
       "</g>\n",
       "</g>\n",
       "<!-- A&#45;&gt;Y -->\n",
       "<g id=\"edge9\" class=\"edge\">\n",
       "<title>A-&gt;Y</title>\n",
       "<g id=\"a_edge9\"><a xlink:href=\"bogus\" xlink:title=\"NA\">\n",
       "<path fill=\"none\" stroke=\"black\" stroke-width=\"0.5\" d=\"M234.83,-127.54C250.79,-128.77 271.34,-130.36 288.79,-131.71\"/>\n",
       "<polygon fill=\"black\" stroke=\"black\" stroke-width=\"0.5\" points=\"288.41,-135.19 298.65,-132.47 288.95,-128.21 288.41,-135.19\"/>\n",
       "</a>\n",
       "</g>\n",
       "</g>\n",
       "<!-- DEPRECIATES_RATE -->\n",
       "<g id=\"node8\" class=\"node\">\n",
       "<title>DEPRECIATES_RATE</title>\n",
       "<g id=\"a_node8\"><a xlink:title=\"DEPRECIATES_RATE\n",
       "Exogen\">\n",
       "<polygon fill=\"yellow\" stroke=\"black\" points=\"144.35,-290.5 0,-290.5 0,-254.5 144.35,-254.5 144.35,-290.5\"/>\n",
       "<text text-anchor=\"start\" x=\"5.8\" y=\"-267.45\" font-family=\"Times New Roman,serif\" font-size=\"14.00\" fill=\"blue\">DEPRECIATES_RATE:</text>\n",
       "</a>\n",
       "</g>\n",
       "</g>\n",
       "<!-- DEPRECIATES_RATE&#45;&gt;K -->\n",
       "<g id=\"edge14\" class=\"edge\">\n",
       "<title>DEPRECIATES_RATE-&gt;K</title>\n",
       "<g id=\"a_edge14\"><a xlink:href=\"bogus\" xlink:title=\"NA\">\n",
       "<path fill=\"none\" stroke=\"black\" stroke-width=\"0.5\" d=\"M144.83,-272.5C153.56,-272.5 162.18,-272.5 170.07,-272.5\"/>\n",
       "<polygon fill=\"black\" stroke=\"black\" stroke-width=\"0.5\" points=\"169.98,-276 179.98,-272.5 169.98,-269 169.98,-276\"/>\n",
       "</a>\n",
       "</g>\n",
       "</g>\n",
       "<!-- Y&#45;&gt;I -->\n",
       "<g id=\"edge1\" class=\"edge\">\n",
       "<title>Y-&gt;I</title>\n",
       "<g id=\"a_edge1\"><a xlink:href=\"bogus\" xlink:title=\"NA\">\n",
       "<path fill=\"none\" stroke=\"black\" stroke-width=\"0.5\" d=\"M353.33,-137.13C382.66,-140.5 431.29,-147.4 471.7,-159.5 480.54,-162.15 489.79,-165.71 498.37,-169.38\"/>\n",
       "<polygon fill=\"black\" stroke=\"black\" stroke-width=\"0.5\" points=\"496.81,-172.52 507.37,-173.37 499.65,-166.12 496.81,-172.52\"/>\n",
       "</a>\n",
       "</g>\n",
       "</g>\n",
       "<!-- Y&#45;&gt;C -->\n",
       "<g id=\"edge7\" class=\"edge\">\n",
       "<title>Y-&gt;C</title>\n",
       "<g id=\"a_edge7\"><a xlink:href=\"bogus\" xlink:title=\"NA\">\n",
       "<path fill=\"none\" stroke=\"black\" stroke-width=\"0.5\" d=\"M353.5,-146.3C369.76,-153.55 390.78,-162.92 408.44,-170.79\"/>\n",
       "<polygon fill=\"black\" stroke=\"black\" stroke-width=\"0.5\" points=\"406.77,-173.87 417.33,-174.75 409.62,-167.48 406.77,-173.87\"/>\n",
       "</a>\n",
       "</g>\n",
       "</g>\n",
       "<!-- LABOR_GROWTH -->\n",
       "<g id=\"node10\" class=\"node\">\n",
       "<title>LABOR_GROWTH</title>\n",
       "<g id=\"a_node10\"><a xlink:title=\"LABOR_GROWTH\n",
       "Exogen\">\n",
       "<polygon fill=\"yellow\" stroke=\"black\" points=\"136.1,-70.5 8.25,-70.5 8.25,-34.5 136.1,-34.5 136.1,-70.5\"/>\n",
       "<text text-anchor=\"start\" x=\"14.05\" y=\"-47.45\" font-family=\"Times New Roman,serif\" font-size=\"14.00\" fill=\"blue\">LABOR_GROWTH:</text>\n",
       "</a>\n",
       "</g>\n",
       "</g>\n",
       "<!-- LABOR_GROWTH&#45;&gt;L -->\n",
       "<g id=\"edge16\" class=\"edge\">\n",
       "<title>LABOR_GROWTH-&gt;L</title>\n",
       "<g id=\"a_edge16\"><a xlink:href=\"bogus\" xlink:title=\"NA\">\n",
       "<path fill=\"none\" stroke=\"black\" stroke-width=\"0.5\" d=\"M136.25,-52.5C147.85,-52.5 159.59,-52.5 170.06,-52.5\"/>\n",
       "<polygon fill=\"black\" stroke=\"black\" stroke-width=\"0.5\" points=\"170.05,-56 180.05,-52.5 170.05,-49 170.05,-56\"/>\n",
       "</a>\n",
       "</g>\n",
       "</g>\n",
       "<!-- SAVING_RATIO -->\n",
       "<g id=\"node11\" class=\"node\">\n",
       "<title>SAVING_RATIO</title>\n",
       "<g id=\"a_node11\"><a xlink:title=\"SAVING_RATIO\n",
       "Exogen\">\n",
       "<polygon fill=\"yellow\" stroke=\"black\" points=\"381.7,-206.5 270.35,-206.5 270.35,-170.5 381.7,-170.5 381.7,-206.5\"/>\n",
       "<text text-anchor=\"start\" x=\"276.15\" y=\"-183.45\" font-family=\"Times New Roman,serif\" font-size=\"14.00\" fill=\"blue\">SAVING_RATIO:</text>\n",
       "</a>\n",
       "</g>\n",
       "</g>\n",
       "<!-- SAVING_RATIO&#45;&gt;C -->\n",
       "<g id=\"edge11\" class=\"edge\">\n",
       "<title>SAVING_RATIO-&gt;C</title>\n",
       "<g id=\"a_edge11\"><a xlink:href=\"bogus\" xlink:title=\"NA\">\n",
       "<path fill=\"none\" stroke=\"black\" stroke-width=\"0.5\" d=\"M381.95,-187.56C390.59,-187.41 399.33,-187.26 407.42,-187.12\"/>\n",
       "<polygon fill=\"black\" stroke=\"black\" stroke-width=\"0.5\" points=\"407.3,-190.62 417.24,-186.95 407.18,-183.63 407.3,-190.62\"/>\n",
       "</a>\n",
       "</g>\n",
       "</g>\n",
       "<!-- K(&#45;1)&#45;&gt;K -->\n",
       "<g id=\"edge12\" class=\"edge\">\n",
       "<title>K(-1)-&gt;K</title>\n",
       "<g id=\"a_edge12\"><a xlink:href=\"bogus\" xlink:title=\"NA\">\n",
       "<path fill=\"none\" stroke=\"black\" stroke-width=\"0.5\" d=\"M298.25,-313.73C282.05,-308.44 261.2,-300.38 243.65,-292.68\"/>\n",
       "<polygon fill=\"black\" stroke=\"black\" stroke-width=\"0.5\" points=\"245.38,-289.62 234.83,-288.7 242.5,-296 245.38,-289.62\"/>\n",
       "</a>\n",
       "</g>\n",
       "</g>\n",
       "<!-- L&#45;&gt;K_INTENSE -->\n",
       "<g id=\"edge13\" class=\"edge\">\n",
       "<title>L-&gt;K_INTENSE</title>\n",
       "<g id=\"a_edge13\"><a xlink:href=\"bogus\" xlink:title=\"NA\">\n",
       "<path fill=\"none\" stroke=\"black\" stroke-width=\"0.5\" d=\"M234.75,-60.31C304.52,-80.97 494.85,-137.31 587.99,-164.88\"/>\n",
       "<polygon fill=\"black\" stroke=\"black\" stroke-width=\"0.5\" points=\"586.92,-168.22 597.51,-167.7 588.91,-161.5 586.92,-168.22\"/>\n",
       "</a>\n",
       "</g>\n",
       "</g>\n",
       "<!-- L&#45;&gt;L(&#45;1) -->\n",
       "<g id=\"edge4\" class=\"edge\">\n",
       "<title>L-&gt;L(-1)</title>\n",
       "<g id=\"a_edge4\"><a xlink:href=\"bogus\" xlink:title=\"NA\">\n",
       "<path fill=\"none\" stroke=\"black\" stroke-width=\"0.5\" d=\"M234.83,-44.47C250.79,-42 271.34,-40.06 288.79,-39.31\"/>\n",
       "<polygon fill=\"black\" stroke=\"black\" stroke-width=\"0.5\" points=\"288.77,-42.81 298.65,-39.01 288.55,-35.81 288.77,-42.81\"/>\n",
       "</a>\n",
       "</g>\n",
       "</g>\n",
       "<!-- L&#45;&gt;Y -->\n",
       "<g id=\"edge3\" class=\"edge\">\n",
       "<title>L-&gt;Y</title>\n",
       "<g id=\"a_edge3\"><a xlink:href=\"bogus\" xlink:title=\"NA\">\n",
       "<path fill=\"none\" stroke=\"black\" stroke-width=\"0.5\" d=\"M229.55,-70.9C241.25,-80.73 256.24,-92.76 270.35,-102.5 276.65,-106.85 283.57,-111.2 290.3,-115.23\"/>\n",
       "<polygon fill=\"black\" stroke=\"black\" stroke-width=\"0.5\" points=\"288.27,-118.09 298.67,-120.13 291.81,-112.06 288.27,-118.09\"/>\n",
       "</a>\n",
       "</g>\n",
       "</g>\n",
       "</g>\n",
       "</svg>"
      ],
      "text/plain": [
       "<IPython.core.display.SVG object>"
      ]
     },
     "metadata": {},
     "output_type": "display_data"
    }
   ],
   "source": [
    "msolow.drawmodel(sink = 'K_INTENSE',size=(5,5))"
   ]
  },
  {
   "cell_type": "markdown",
   "metadata": {
    "slideshow": {
     "slide_type": "slide"
    }
   },
   "source": [
    "# Show solving structure (only current year)"
   ]
  },
  {
   "cell_type": "code",
   "execution_count": 5,
   "metadata": {
    "cell_style": "split",
    "slideshow": {
     "slide_type": "subslide"
    }
   },
   "outputs": [
    {
     "data": {
      "image/svg+xml": [
       "<svg xmlns=\"http://www.w3.org/2000/svg\" xmlns:xlink=\"http://www.w3.org/1999/xlink\" width=\"360pt\" height=\"122pt\" viewBox=\"0.00 0.00 360.00 122.07\">\n",
       "<g id=\"graph0\" class=\"graph\" transform=\"scale(0.65922 0.65922) rotate(0) translate(4 181.17)\">\n",
       "<title>TD</title>\n",
       "<polygon fill=\"white\" stroke=\"none\" points=\"-4,4 -4,-181.17 542.1,-181.17 542.1,4 -4,4\"/>\n",
       "<text text-anchor=\"middle\" x=\"269.05\" y=\"-7.2\" font-family=\"Times New Roman,serif\" font-size=\"14.00\">A_model_graph</text>\n",
       "<!-- K_INTENSE -->\n",
       "<g id=\"node1\" class=\"node\">\n",
       "<title>K_INTENSE</title>\n",
       "<g id=\"a_node1\"><a xlink:title=\"K_INTENSE\n",
       "FRML &lt;&gt; K_INTENSE = K/L  $\">\n",
       "<polygon fill=\"#63b8ff\" stroke=\"black\" points=\"538.1,-176.17 450,-176.17 450,-140.17 538.1,-140.17 538.1,-176.17\"/>\n",
       "<text text-anchor=\"start\" x=\"455.8\" y=\"-153.12\" font-family=\"Times New Roman,serif\" font-size=\"14.00\" fill=\"blue\">K_INTENSE:</text>\n",
       "</a>\n",
       "</g>\n",
       "</g>\n",
       "<!-- K -->\n",
       "<g id=\"node2\" class=\"node\">\n",
       "<title>K</title>\n",
       "<g id=\"a_node2\"><a xlink:title=\"K\n",
       "FRML &lt;&gt; K=K(-1)+(I-DEPRECIATES_RATE * K(-1))$\">\n",
       "<polygon fill=\"#63b8ff\" stroke=\"black\" points=\"144,-119.17 90,-119.17 90,-83.17 144,-83.17 144,-119.17\"/>\n",
       "<text text-anchor=\"start\" x=\"110.25\" y=\"-96.12\" font-family=\"Times New Roman,serif\" font-size=\"14.00\" fill=\"blue\">K:</text>\n",
       "</a>\n",
       "</g>\n",
       "</g>\n",
       "<!-- K&#45;&gt;K_INTENSE -->\n",
       "<g id=\"edge8\" class=\"edge\">\n",
       "<title>K-&gt;K_INTENSE</title>\n",
       "<g id=\"a_edge8\"><a xlink:href=\"bogus\" xlink:title=\"NA\">\n",
       "<path fill=\"none\" stroke=\"black\" stroke-width=\"0.5\" d=\"M144.5,-106.59C155.46,-108.76 168.32,-111.2 180,-113.17 271.1,-128.52 377.67,-143.13 440.03,-151.35\"/>\n",
       "<polygon fill=\"black\" stroke=\"black\" stroke-width=\"0.5\" points=\"439.28,-154.78 449.65,-152.61 440.19,-147.84 439.28,-154.78\"/>\n",
       "</a>\n",
       "</g>\n",
       "</g>\n",
       "<!-- Y -->\n",
       "<g id=\"node5\" class=\"node\">\n",
       "<title>Y</title>\n",
       "<g id=\"a_node5\"><a xlink:title=\"Y\n",
       "FRML &lt;&gt; Y         = A * K**ALFA * L **(1-ALFA)  $\">\n",
       "<polygon fill=\"#63b8ff\" stroke=\"black\" points=\"234,-73.17 180,-73.17 180,-37.17 234,-37.17 234,-73.17\"/>\n",
       "<text text-anchor=\"start\" x=\"200.62\" y=\"-50.12\" font-family=\"Times New Roman,serif\" font-size=\"14.00\" fill=\"blue\">Y:</text>\n",
       "</a>\n",
       "</g>\n",
       "</g>\n",
       "<!-- K&#45;&gt;Y -->\n",
       "<g id=\"edge4\" class=\"edge\">\n",
       "<title>K-&gt;Y</title>\n",
       "<g id=\"a_edge4\"><a xlink:href=\"bogus\" xlink:title=\"NA\">\n",
       "<path fill=\"none\" stroke=\"black\" stroke-width=\"0.5\" d=\"M144.4,-87.37C152.76,-83 162.12,-78.11 170.98,-73.48\"/>\n",
       "<polygon fill=\"black\" stroke=\"black\" stroke-width=\"0.5\" points=\"172.37,-76.7 179.62,-68.96 169.13,-70.49 172.37,-76.7\"/>\n",
       "</a>\n",
       "</g>\n",
       "</g>\n",
       "<!-- I -->\n",
       "<g id=\"node3\" class=\"node\">\n",
       "<title>I</title>\n",
       "<g id=\"a_node3\"><a xlink:title=\"I\n",
       "FRML &lt;&gt; I         = Y - C  $\">\n",
       "<polygon fill=\"#63b8ff\" stroke=\"black\" points=\"414,-73.17 360,-73.17 360,-37.17 414,-37.17 414,-73.17\"/>\n",
       "<text text-anchor=\"start\" x=\"382.88\" y=\"-50.12\" font-family=\"Times New Roman,serif\" font-size=\"14.00\" fill=\"blue\">I:</text>\n",
       "</a>\n",
       "</g>\n",
       "</g>\n",
       "<!-- I&#45;&gt;K -->\n",
       "<g id=\"edge5\" class=\"edge\">\n",
       "<title>I-&gt;K</title>\n",
       "<g id=\"a_edge5\"><a xlink:href=\"bogus\" xlink:title=\"NA\">\n",
       "<path fill=\"none\" stroke=\"black\" stroke-width=\"0.5\" d=\"M359.5,-68.93C348.76,-73.91 336.05,-79.08 324,-82.17 265.95,-97.08 196.06,-100.62 154.42,-101.29\"/>\n",
       "<polygon fill=\"black\" stroke=\"black\" stroke-width=\"0.5\" points=\"154.43,-97.78 144.47,-101.4 154.51,-104.78 154.43,-97.78\"/>\n",
       "</a>\n",
       "</g>\n",
       "</g>\n",
       "<!-- C -->\n",
       "<g id=\"node4\" class=\"node\">\n",
       "<title>C</title>\n",
       "<g id=\"a_node4\"><a xlink:title=\"C\n",
       "FRML &lt;&gt; C         = (1-SAVING_RATIO)  * Y  $\">\n",
       "<polygon fill=\"#63b8ff\" stroke=\"black\" points=\"324,-73.17 270,-73.17 270,-37.17 324,-37.17 324,-73.17\"/>\n",
       "<text text-anchor=\"start\" x=\"290.62\" y=\"-50.12\" font-family=\"Times New Roman,serif\" font-size=\"14.00\" fill=\"blue\">C:</text>\n",
       "</a>\n",
       "</g>\n",
       "</g>\n",
       "<!-- C&#45;&gt;I -->\n",
       "<g id=\"edge7\" class=\"edge\">\n",
       "<title>C-&gt;I</title>\n",
       "<g id=\"a_edge7\"><a xlink:href=\"bogus\" xlink:title=\"NA\">\n",
       "<path fill=\"none\" stroke=\"black\" stroke-width=\"0.5\" d=\"M324.4,-55.17C332.41,-55.17 341.34,-55.17 349.87,-55.17\"/>\n",
       "<polygon fill=\"black\" stroke=\"black\" stroke-width=\"0.5\" points=\"349.62,-58.67 359.62,-55.17 349.62,-51.67 349.62,-58.67\"/>\n",
       "</a>\n",
       "</g>\n",
       "</g>\n",
       "<!-- Y&#45;&gt;I -->\n",
       "<g id=\"edge1\" class=\"edge\">\n",
       "<title>Y-&gt;I</title>\n",
       "<g id=\"a_edge1\"><a xlink:href=\"bogus\" xlink:title=\"NA\">\n",
       "<path fill=\"none\" stroke=\"black\" stroke-width=\"0.5\" d=\"M234.37,-40.84C245.09,-35.77 257.82,-30.71 270,-28.17 293.5,-23.28 300.5,-23.28 324,-28.17 332.95,-30.03 342.19,-33.26 350.71,-36.85\"/>\n",
       "<polygon fill=\"black\" stroke=\"black\" stroke-width=\"0.5\" points=\"349.08,-39.95 359.63,-40.84 351.93,-33.56 349.08,-39.95\"/>\n",
       "</a>\n",
       "</g>\n",
       "</g>\n",
       "<!-- Y&#45;&gt;C -->\n",
       "<g id=\"edge3\" class=\"edge\">\n",
       "<title>Y-&gt;C</title>\n",
       "<g id=\"a_edge3\"><a xlink:href=\"bogus\" xlink:title=\"NA\">\n",
       "<path fill=\"none\" stroke=\"black\" stroke-width=\"0.5\" d=\"M234.4,-55.17C242.41,-55.17 251.34,-55.17 259.87,-55.17\"/>\n",
       "<polygon fill=\"black\" stroke=\"black\" stroke-width=\"0.5\" points=\"259.62,-58.67 269.62,-55.17 259.62,-51.67 259.62,-58.67\"/>\n",
       "</a>\n",
       "</g>\n",
       "</g>\n",
       "<!-- L -->\n",
       "<g id=\"node6\" class=\"node\">\n",
       "<title>L</title>\n",
       "<g id=\"a_node6\"><a xlink:title=\"L\n",
       "FRML &lt;&gt; L=L(-1)+(LABOR_GROWTH * L(-1))$\">\n",
       "<polygon fill=\"#63b8ff\" stroke=\"black\" points=\"54,-134.17 0,-134.17 0,-98.17 54,-98.17 54,-134.17\"/>\n",
       "<text text-anchor=\"start\" x=\"21\" y=\"-111.12\" font-family=\"Times New Roman,serif\" font-size=\"14.00\" fill=\"blue\">L:</text>\n",
       "</a>\n",
       "</g>\n",
       "</g>\n",
       "<!-- L&#45;&gt;K_INTENSE -->\n",
       "<g id=\"edge6\" class=\"edge\">\n",
       "<title>L-&gt;K_INTENSE</title>\n",
       "<g id=\"a_edge6\"><a xlink:href=\"bogus\" xlink:title=\"NA\">\n",
       "<path fill=\"none\" stroke=\"black\" stroke-width=\"0.5\" d=\"M54.47,-131.41C88.42,-149.47 149.65,-177.17 206,-177.17 206,-177.17 206,-177.17 298,-177.17 346.2,-177.17 400.79,-171.35 439.93,-166.15\"/>\n",
       "<polygon fill=\"black\" stroke=\"black\" stroke-width=\"0.5\" points=\"440.35,-169.63 449.78,-164.82 439.4,-162.69 440.35,-169.63\"/>\n",
       "</a>\n",
       "</g>\n",
       "</g>\n",
       "<!-- L&#45;&gt;Y -->\n",
       "<g id=\"edge2\" class=\"edge\">\n",
       "<title>L-&gt;Y</title>\n",
       "<g id=\"a_edge2\"><a xlink:href=\"bogus\" xlink:title=\"NA\">\n",
       "<path fill=\"none\" stroke=\"black\" stroke-width=\"0.5\" d=\"M49.91,-97.88C61.22,-89.37 75.63,-79.89 90,-74.17 115.6,-63.98 146.46,-59.25 169.92,-57.06\"/>\n",
       "<polygon fill=\"black\" stroke=\"black\" stroke-width=\"0.5\" points=\"170.12,-60.56 179.8,-56.25 169.55,-53.58 170.12,-60.56\"/>\n",
       "</a>\n",
       "</g>\n",
       "</g>\n",
       "</g>\n",
       "</svg>"
      ],
      "text/plain": [
       "<IPython.core.display.SVG object>"
      ]
     },
     "metadata": {},
     "output_type": "display_data"
    }
   ],
   "source": [
    "msolow.drawendo(sink = 'K_INTENSE',source='L',size=(5,5))"
   ]
  },
  {
   "cell_type": "code",
   "execution_count": 6,
   "metadata": {
    "cell_style": "split"
   },
   "outputs": [
    {
     "data": {
      "image/png": "[encoded data removed]",
      "text/plain": [
       "<Figure size 500x500 with 1 Axes>"
      ]
     },
     "metadata": {},
     "output_type": "display_data"
    }
   ],
   "source": [
    "msolow.plotadjacency();"
   ]
  },
  {
   "cell_type": "markdown",
   "metadata": {
    "code_folding": [],
    "slideshow": {
     "slide_type": "slide"
    }
   },
   "source": [
    "# Create DataFrame with baseline exogenous "
   ]
  },
  {
   "cell_type": "code",
   "execution_count": 7,
   "metadata": {
    "slideshow": {
     "slide_type": "-"
    }
   },
   "outputs": [
    {
     "data": {
      "text/html": [
       "<div>\n",
       "<style scoped>\n",
       "    .dataframe tbody tr th:only-of-type {\n",
       "        vertical-align: middle;\n",
       "    }\n",
       "\n",
       "    .dataframe tbody tr th {\n",
       "        vertical-align: top;\n",
       "    }\n",
       "\n",
       "    .dataframe thead th {\n",
       "        text-align: right;\n",
       "    }\n",
       "</style>\n",
       "<table border=\"1\" class=\"dataframe\">\n",
       "  <thead>\n",
       "    <tr style=\"text-align: right;\">\n",
       "      <th></th>\n",
       "      <th>L</th>\n",
       "      <th>K</th>\n",
       "      <th>ALFA</th>\n",
       "      <th>A</th>\n",
       "      <th>DEPRECIATES_RATE</th>\n",
       "      <th>LABOR_GROWTH</th>\n",
       "      <th>SAVING_RATIO</th>\n",
       "    </tr>\n",
       "  </thead>\n",
       "  <tbody>\n",
       "    <tr>\n",
       "      <th>0</th>\n",
       "      <td>100</td>\n",
       "      <td>100</td>\n",
       "      <td>0.5</td>\n",
       "      <td>1.0</td>\n",
       "      <td>0.05</td>\n",
       "      <td>0.01</td>\n",
       "      <td>0.05</td>\n",
       "    </tr>\n",
       "    <tr>\n",
       "      <th>1</th>\n",
       "      <td>100</td>\n",
       "      <td>100</td>\n",
       "      <td>0.5</td>\n",
       "      <td>1.0</td>\n",
       "      <td>0.05</td>\n",
       "      <td>0.01</td>\n",
       "      <td>0.05</td>\n",
       "    </tr>\n",
       "    <tr>\n",
       "      <th>2</th>\n",
       "      <td>100</td>\n",
       "      <td>100</td>\n",
       "      <td>0.5</td>\n",
       "      <td>1.0</td>\n",
       "      <td>0.05</td>\n",
       "      <td>0.01</td>\n",
       "      <td>0.05</td>\n",
       "    </tr>\n",
       "    <tr>\n",
       "      <th>3</th>\n",
       "      <td>100</td>\n",
       "      <td>100</td>\n",
       "      <td>0.5</td>\n",
       "      <td>1.0</td>\n",
       "      <td>0.05</td>\n",
       "      <td>0.01</td>\n",
       "      <td>0.05</td>\n",
       "    </tr>\n",
       "    <tr>\n",
       "      <th>4</th>\n",
       "      <td>100</td>\n",
       "      <td>100</td>\n",
       "      <td>0.5</td>\n",
       "      <td>1.0</td>\n",
       "      <td>0.05</td>\n",
       "      <td>0.01</td>\n",
       "      <td>0.05</td>\n",
       "    </tr>\n",
       "  </tbody>\n",
       "</table>\n",
       "</div>"
      ],
      "text/plain": [
       "     L    K  ALFA    A  DEPRECIATES_RATE  LABOR_GROWTH  SAVING_RATIO\n",
       "0  100  100   0.5  1.0              0.05          0.01          0.05\n",
       "1  100  100   0.5  1.0              0.05          0.01          0.05\n",
       "2  100  100   0.5  1.0              0.05          0.01          0.05\n",
       "3  100  100   0.5  1.0              0.05          0.01          0.05\n",
       "4  100  100   0.5  1.0              0.05          0.01          0.05"
      ]
     },
     "metadata": {},
     "output_type": "display_data"
    }
   ],
   "source": [
    "N = 300  \n",
    "df = pd.DataFrame({'L':[100]*N,'K':[100]*N})\n",
    "df.loc[:,'ALFA'] = 0.5\n",
    "df.loc[:,'A'] = 1.\n",
    "df.loc[:,'DEPRECIATES_RATE'] = 0.05\n",
    "df.loc[:,'LABOR_GROWTH'] = 0.01\n",
    "df.loc[:,'SAVING_RATIO'] = 0.05\n",
    "display(df.head())"
   ]
  },
  {
   "cell_type": "markdown",
   "metadata": {
    "slideshow": {
     "slide_type": "slide"
    }
   },
   "source": [
    "# Run Baseline"
   ]
  },
  {
   "cell_type": "code",
   "execution_count": 8,
   "metadata": {
    "slideshow": {
     "slide_type": "-"
    }
   },
   "outputs": [
    {
     "data": {
      "text/html": [
       "<div>\n",
       "<style scoped>\n",
       "    .dataframe tbody tr th:only-of-type {\n",
       "        vertical-align: middle;\n",
       "    }\n",
       "\n",
       "    .dataframe tbody tr th {\n",
       "        vertical-align: top;\n",
       "    }\n",
       "\n",
       "    .dataframe thead th {\n",
       "        text-align: right;\n",
       "    }\n",
       "</style>\n",
       "<table border=\"1\" class=\"dataframe\">\n",
       "  <thead>\n",
       "    <tr style=\"text-align: right;\">\n",
       "      <th></th>\n",
       "      <th>L</th>\n",
       "      <th>K</th>\n",
       "      <th>ALFA</th>\n",
       "      <th>A</th>\n",
       "      <th>DEPRECIATES_RATE</th>\n",
       "      <th>LABOR_GROWTH</th>\n",
       "      <th>SAVING_RATIO</th>\n",
       "      <th>I</th>\n",
       "      <th>Y</th>\n",
       "      <th>K_INTENSE</th>\n",
       "      <th>C</th>\n",
       "    </tr>\n",
       "  </thead>\n",
       "  <tbody>\n",
       "    <tr>\n",
       "      <th>0</th>\n",
       "      <td>100.000000</td>\n",
       "      <td>100.000000</td>\n",
       "      <td>0.5</td>\n",
       "      <td>1.0</td>\n",
       "      <td>0.05</td>\n",
       "      <td>0.01</td>\n",
       "      <td>0.05</td>\n",
       "      <td>0.000000</td>\n",
       "      <td>0.000000</td>\n",
       "      <td>0.000000</td>\n",
       "      <td>0.000000</td>\n",
       "    </tr>\n",
       "    <tr>\n",
       "      <th>1</th>\n",
       "      <td>101.000000</td>\n",
       "      <td>100.025580</td>\n",
       "      <td>0.5</td>\n",
       "      <td>1.0</td>\n",
       "      <td>0.05</td>\n",
       "      <td>0.01</td>\n",
       "      <td>0.05</td>\n",
       "      <td>5.025580</td>\n",
       "      <td>100.511609</td>\n",
       "      <td>0.990352</td>\n",
       "      <td>95.486029</td>\n",
       "    </tr>\n",
       "    <tr>\n",
       "      <th>2</th>\n",
       "      <td>102.010000</td>\n",
       "      <td>100.076226</td>\n",
       "      <td>0.5</td>\n",
       "      <td>1.0</td>\n",
       "      <td>0.05</td>\n",
       "      <td>0.01</td>\n",
       "      <td>0.05</td>\n",
       "      <td>5.051924</td>\n",
       "      <td>101.038487</td>\n",
       "      <td>0.981043</td>\n",
       "      <td>95.986562</td>\n",
       "    </tr>\n",
       "    <tr>\n",
       "      <th>3</th>\n",
       "      <td>103.030100</td>\n",
       "      <td>100.151443</td>\n",
       "      <td>0.5</td>\n",
       "      <td>1.0</td>\n",
       "      <td>0.05</td>\n",
       "      <td>0.01</td>\n",
       "      <td>0.05</td>\n",
       "      <td>5.079029</td>\n",
       "      <td>101.580575</td>\n",
       "      <td>0.972060</td>\n",
       "      <td>96.501546</td>\n",
       "    </tr>\n",
       "    <tr>\n",
       "      <th>4</th>\n",
       "      <td>104.060401</td>\n",
       "      <td>100.250762</td>\n",
       "      <td>0.5</td>\n",
       "      <td>1.0</td>\n",
       "      <td>0.05</td>\n",
       "      <td>0.01</td>\n",
       "      <td>0.05</td>\n",
       "      <td>5.106891</td>\n",
       "      <td>102.137821</td>\n",
       "      <td>0.963390</td>\n",
       "      <td>97.030930</td>\n",
       "    </tr>\n",
       "  </tbody>\n",
       "</table>\n",
       "</div>"
      ],
      "text/plain": [
       "            L           K  ALFA    A  DEPRECIATES_RATE  LABOR_GROWTH   \n",
       "0  100.000000  100.000000   0.5  1.0              0.05          0.01  \\\n",
       "1  101.000000  100.025580   0.5  1.0              0.05          0.01   \n",
       "2  102.010000  100.076226   0.5  1.0              0.05          0.01   \n",
       "3  103.030100  100.151443   0.5  1.0              0.05          0.01   \n",
       "4  104.060401  100.250762   0.5  1.0              0.05          0.01   \n",
       "\n",
       "   SAVING_RATIO         I           Y  K_INTENSE          C  \n",
       "0          0.05  0.000000    0.000000   0.000000   0.000000  \n",
       "1          0.05  5.025580  100.511609   0.990352  95.486029  \n",
       "2          0.05  5.051924  101.038487   0.981043  95.986562  \n",
       "3          0.05  5.079029  101.580575   0.972060  96.501546  \n",
       "4          0.05  5.106891  102.137821   0.963390  97.030930  "
      ]
     },
     "metadata": {},
     "output_type": "display_data"
    }
   ],
   "source": [
    "res1 = msolow(df)\n",
    "display(res1.head())"
   ]
  },
  {
   "cell_type": "markdown",
   "metadata": {
    "slideshow": {
     "slide_type": "slide"
    }
   },
   "source": [
    "# Create interactive widgets \n",
    "If you are not familiar with Python and Ipywidgets, don't try to understand the code. \n",
    "Just notice that it is fairly short. \n",
    "\n",
    "You can try different parameter values"
   ]
  },
  {
   "cell_type": "code",
   "execution_count": 9,
   "metadata": {},
   "outputs": [],
   "source": [
    "slidedef =      {'Productivity'     : {'var':'ALFA',             'value': 0.5 ,'min':0.0, 'max':1.0},\n",
    "                 'DEPRECIATES_RATE' : {'var':'DEPRECIATES_RATE', 'value': 0.05,'min':0.0, 'max':1.0}, \n",
    "                 'LABOR_GROWTH'     : {'var':'LABOR_GROWTH',     'value': 0.01,'min':0.0, 'max':1.0},\n",
    "                 'SAVING_RATIO'     : {'var': 'SAVING_RATIO',    'value': 0.05,'min':0.0, 'max':1.0}\n",
    "                        }  "
   ]
  },
  {
   "cell_type": "code",
   "execution_count": 10,
   "metadata": {
    "slideshow": {
     "slide_type": "slide"
    }
   },
   "outputs": [
    {
     "data": {
      "application/vnd.jupyter.widget-view+json": {
       "model_id": "ed3ccd38998943039e2dba88e476861b",
       "version_major": 2,
       "version_minor": 0
      },
      "text/plain": [
       "VBox(children=(HBox(children=(Label(value='Input new parameter ', layout=Layout(width='52%')), Label(value='Al…"
      ]
     },
     "metadata": {},
     "output_type": "display_data"
    },
    {
     "data": {
      "application/vnd.jupyter.widget-view+json": {
       "model_id": "5fdf4f556f4c47029c55c70f4a39da88",
       "version_major": 2,
       "version_minor": 0
      },
      "text/plain": [
       "VBox(children=(Tab(children=(VBox(children=(Tab(children=(Output(), Output(), Output(), Output()), selected_in…"
      ]
     },
     "metadata": {},
     "output_type": "display_data"
    }
   ],
   "source": [
    "     \n",
    "input = msolow.inputwidget(basedf=res1,slidedef=slidedef,showout=True,varpat='Y C I K L K_INTENSE')"
   ]
  },
  {
   "cell_type": "code",
   "execution_count": null,
   "metadata": {},
   "outputs": [],
   "source": []
  }
 ],
 "metadata": {
  "celltoolbar": "Slideshow",
  "hide_input": false,
  "kernelspec": {
   "display_name": "Python 3 (ipykernel)",
   "language": "python",
   "name": "python3"
  },
  "language_info": {
   "codemirror_mode": {
    "name": "ipython",
    "version": 3
   },
   "file_extension": ".py",
   "mimetype": "text/x-python",
   "name": "python",
   "nbconvert_exporter": "python",
   "pygments_lexer": "ipython3",
   "version": "3.10.11"
  },
  "toc": {
   "base_numbering": 1,
   "nav_menu": {},
   "number_sections": true,
   "sideBar": true,
   "skip_h1_title": false,
   "title_cell": "Table of Contents",
   "title_sidebar": "Contents",
   "toc_cell": false,
   "toc_position": {},
   "toc_section_display": true,
   "toc_window_display": false
  },
  "varInspector": {
   "cols": {
    "lenName": 16,
    "lenType": 16,
    "lenVar": 40
   },
   "kernels_config": {
    "python": {
     "delete_cmd_postfix": "",
     "delete_cmd_prefix": "del ",
     "library": "var_list.py",
     "varRefreshCmd": "print(var_dic_list())"
    },
    "r": {
     "delete_cmd_postfix": ") ",
     "delete_cmd_prefix": "rm(",
     "library": "var_list.r",
     "varRefreshCmd": "cat(var_dic_list()) "
    }
   },
   "oldHeight": 122.4,
   "position": {
    "height": "143.68px",
    "left": "945.36px",
    "right": "20px",
    "top": "120px",
    "width": "250px"
   },
   "types_to_exclude": [
    "module",
    "function",
    "builtin_function_or_method",
    "instance",
    "_Feature"
   ],
   "varInspector_section_display": "block",
   "window_display": false
  },
  "vscode": {
   "interpreter": {
    "hash": "83dcedee8a978fc9d4c3c364d059862820cde10361c6887104a04d2b8f6911d7"
   }
  }
 },
 "nbformat": 4,
 "nbformat_minor": 4
}
