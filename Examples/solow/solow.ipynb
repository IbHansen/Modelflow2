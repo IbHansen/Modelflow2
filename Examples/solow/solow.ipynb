{
 "cells": [
  {
   "cell_type": "markdown",
   "metadata": {
    "slideshow": {
     "slide_type": "slide"
    }
   },
   "source": [
    "# A notebook with a simple Solow model \n",
    "You ca run each cell by pressing the run tool or shift+enter"
   ]
  },
  {
   "cell_type": "markdown",
   "metadata": {
    "slideshow": {
     "slide_type": "slide"
    }
   },
   "source": [
    "# Import Python libraries"
   ]
  },
  {
   "cell_type": "code",
   "execution_count": null,
   "metadata": {
    "slideshow": {
     "slide_type": "-"
    }
   },
   "outputs": [
    {
     "data": {
      "text/html": [
       "\n",
       "            <style>\n",
       "                div#notebook-container    { width: 95%; }\n",
       "                div#menubar-container     { width: 65%; }\n",
       "                div#maintoolbar-container { width: 99%; }\n",
       "            </style>\n",
       "            "
      ],
      "text/plain": [
       "<IPython.core.display.HTML object>"
      ]
     },
     "metadata": {},
     "output_type": "display_data"
    },
    {
     "data": {
      "text/html": [
       "            <script>\n",
       "                // AUTORUN ALL CELLS ON NOTEBOOK-LOAD!\n",
       "                require(\n",
       "                    ['base/js/namespace', 'jquery'], \n",
       "                    function(jupyter, $) {\n",
       "                        $(jupyter.events).on('kernel_ready.Kernel', function () {\n",
       "                            console.log('Auto-running all cells-below...');\n",
       "                            jupyter.actions.call('jupyter-notebook:run-all-cells-below');\n",
       "                            jupyter.actions.call('jupyter-notebook:save-notebook');\n",
       "                        });\n",
       "                    }\n",
       "                );\n",
       "            </script>"
      ],
      "text/plain": [
       "<IPython.core.display.HTML object>"
      ]
     },
     "metadata": {},
     "output_type": "display_data"
    }
   ],
   "source": [
    "%matplotlib inline\n",
    "import pandas as pd\n",
    "from modelclass import model\n",
    "model.modelflow_auto()"
   ]
  },
  {
   "cell_type": "markdown",
   "metadata": {
    "slideshow": {
     "slide_type": "slide"
    }
   },
   "source": [
    "# Specify the model \n",
    "The explode function will rewrite the business logic."
   ]
  },
  {
   "cell_type": "code",
   "execution_count": null,
   "metadata": {
    "slideshow": {
     "slide_type": "-"
    }
   },
   "outputs": [
    {
     "name": "stdout",
     "output_type": "stream",
     "text": [
      "Y         = a * k**alfa * l **(1-alfa) \n",
      "C         = (1-SAVING_RATIO)  * Y \n",
      "I         = Y - C \n",
      "diff(K)   = I-depreciates_rate * K(-1)\n",
      "diff(l)   = labor_growth * L(-1) \n",
      "K_intense = K/L \n",
      "\n"
     ]
    }
   ],
   "source": [
    "fsolow = '''\\\n",
    "Y         = a * k**alfa * l **(1-alfa) \n",
    "C         = (1-SAVING_RATIO)  * Y \n",
    "I         = Y - C \n",
    "diff(K)   = I-depreciates_rate * K(-1)\n",
    "diff(l)   = labor_growth * L(-1) \n",
    "K_intense = K/L \n",
    "'''\n",
    "print(fsolow)"
   ]
  },
  {
   "cell_type": "markdown",
   "metadata": {
    "slideshow": {
     "slide_type": "slide"
    }
   },
   "source": [
    "# Create a model class instance"
   ]
  },
  {
   "cell_type": "code",
   "execution_count": null,
   "metadata": {
    "slideshow": {
     "slide_type": "-"
    }
   },
   "outputs": [
    {
     "name": "stdout",
     "output_type": "stream",
     "text": [
      "FRML <> Y         = A * K**ALFA * L **(1-ALFA)  $\n",
      "FRML <> C         = (1-SAVING_RATIO)  * Y  $\n",
      "FRML <> I         = Y - C  $\n",
      "FRML <> K=K(-1)+(I-DEPRECIATES_RATE * K(-1))$\n",
      "FRML <> L=L(-1)+(LABOR_GROWTH * L(-1))$\n",
      "FRML <> K_INTENSE = K/L  $\n"
     ]
    }
   ],
   "source": [
    "msolow = model.from_eq(fsolow,modelname='Solow model')\n",
    "print(msolow.equations)  "
   ]
  },
  {
   "cell_type": "markdown",
   "metadata": {
    "slideshow": {
     "slide_type": "slide"
    }
   },
   "source": [
    "# Show model structure"
   ]
  },
  {
   "cell_type": "code",
   "execution_count": null,
   "metadata": {
    "slideshow": {
     "slide_type": "subslide"
    }
   },
   "outputs": [
    {
     "data": {
      "image/svg+xml": "<svg xmlns=\"http://www.w3.org/2000/svg\" xmlns:xlink=\"http://www.w3.org/1999/xlink\" width=\"360pt\" height=\"173pt\" viewBox=\"0.00 0.00 360.00 172.94\">\n<g id=\"graph0\" class=\"graph\" transform=\"scale(0.504202 0.504202) rotate(0) translate(4 339)\">\n<title>TD</title>\n<polygon fill=\"white\" stroke=\"none\" points=\"-4,4 -4,-339 710,-339 710,4 -4,4\"/>\n<text text-anchor=\"middle\" x=\"353\" y=\"-7.8\" font-family=\"Times New Roman,serif\" font-size=\"14.00\">A_model_graph</text>\n<!-- K_INTENSE -->\n<g id=\"node1\" class=\"node\"><title>K_INTENSE</title>\n<g id=\"a_node1\"><a xlink:title=\"K_INTENSE\nFRML &lt;&gt; K_INTENSE = K/L  $\">\n<polygon fill=\"#63b8ff\" stroke=\"black\" points=\"706,-197 615,-197 615,-161 706,-161 706,-197\"/>\n<text text-anchor=\"start\" x=\"621.5\" y=\"-174.8\" font-family=\"Times New Roman,serif\" font-size=\"14.00\" fill=\"blue\">K_INTENSE:</text>\n</a>\n</g>\n</g>\n<!-- I -->\n<g id=\"node2\" class=\"node\"><title>I</title>\n<g id=\"a_node2\"><a xlink:title=\"I\nFRML &lt;&gt; I         = Y - C  $\">\n<polygon fill=\"#63b8ff\" stroke=\"black\" points=\"579,-201 525,-201 525,-165 579,-165 579,-201\"/>\n<text text-anchor=\"start\" x=\"548\" y=\"-178.8\" font-family=\"Times New Roman,serif\" font-size=\"14.00\" fill=\"blue\">I:</text>\n</a>\n</g>\n</g>\n<!-- K -->\n<g id=\"node5\" class=\"node\"><title>K</title>\n<g id=\"a_node5\"><a xlink:title=\"K\nFRML &lt;&gt; K=K(-1)+(I-DEPRECIATES_RATE * K(-1))$\">\n<polygon fill=\"#63b8ff\" stroke=\"black\" points=\"244,-289 190,-289 190,-253 244,-253 244,-289\"/>\n<text text-anchor=\"start\" x=\"211\" y=\"-266.8\" font-family=\"Times New Roman,serif\" font-size=\"14.00\" fill=\"blue\">K:</text>\n</a>\n</g>\n</g>\n<!-- I&#45;&gt;K -->\n<g id=\"edge13\" class=\"edge\"><title>I-&gt;K</title>\n<g id=\"a_edge13\"><a xlink:href=\"bogus\" xlink:title=\"NA\">\n<path fill=\"none\" stroke=\"black\" stroke-width=\"0.5\" d=\"M524.878,-195.688C513.97,-200.639 501.052,-206.06 489,-210 398.504,-239.584 372.88,-236.07 280,-257 271.658,-258.88 262.685,-260.904 254.228,-262.814\"/>\n<polygon fill=\"black\" stroke=\"black\" stroke-width=\"0.5\" points=\"253.228,-259.451 244.245,-265.068 254.77,-266.279 253.228,-259.451\"/>\n</a>\n</g>\n</g>\n<!-- C -->\n<g id=\"node3\" class=\"node\"><title>C</title>\n<g id=\"a_node3\"><a xlink:title=\"C\nFRML &lt;&gt; C         = (1-SAVING_RATIO)  * Y  $\">\n<polygon fill=\"#63b8ff\" stroke=\"black\" points=\"489,-201 435,-201 435,-165 489,-165 489,-201\"/>\n<text text-anchor=\"start\" x=\"456\" y=\"-178.8\" font-family=\"Times New Roman,serif\" font-size=\"14.00\" fill=\"blue\">C:</text>\n</a>\n</g>\n</g>\n<!-- C&#45;&gt;I -->\n<g id=\"edge3\" class=\"edge\"><title>C-&gt;I</title>\n<g id=\"a_edge3\"><a xlink:href=\"bogus\" xlink:title=\"NA\">\n<path fill=\"none\" stroke=\"black\" stroke-width=\"0.5\" d=\"M489.403,-183C497.393,-183 506.311,-183 514.824,-183\"/>\n<polygon fill=\"black\" stroke=\"black\" stroke-width=\"0.5\" points=\"514.919,-186.5 524.919,-183 514.919,-179.5 514.919,-186.5\"/>\n</a>\n</g>\n</g>\n<!-- LABOR_GROWTH -->\n<g id=\"node4\" class=\"node\"><title>LABOR_GROWTH</title>\n<g id=\"a_node4\"><a xlink:title=\"LABOR_GROWTH\nExogen\">\n<polygon fill=\"yellow\" stroke=\"black\" points=\"143.5,-69 10.5,-69 10.5,-33 143.5,-33 143.5,-69\"/>\n<text text-anchor=\"start\" x=\"17\" y=\"-46.8\" font-family=\"Times New Roman,serif\" font-size=\"14.00\" fill=\"blue\">LABOR_GROWTH:</text>\n</a>\n</g>\n</g>\n<!-- L -->\n<g id=\"node13\" class=\"node\"><title>L</title>\n<g id=\"a_node13\"><a xlink:title=\"L\nFRML &lt;&gt; L=L(-1)+(LABOR_GROWTH * L(-1))$\">\n<polygon fill=\"#63b8ff\" stroke=\"black\" points=\"244,-69 190,-69 190,-33 244,-33 244,-69\"/>\n<text text-anchor=\"start\" x=\"211\" y=\"-46.8\" font-family=\"Times New Roman,serif\" font-size=\"14.00\" fill=\"blue\">L:</text>\n</a>\n</g>\n</g>\n<!-- LABOR_GROWTH&#45;&gt;L -->\n<g id=\"edge12\" class=\"edge\"><title>LABOR_GROWTH-&gt;L</title>\n<g id=\"a_edge12\"><a xlink:href=\"bogus\" xlink:title=\"NA\">\n<path fill=\"none\" stroke=\"black\" stroke-width=\"0.5\" d=\"M143.767,-51C156.182,-51 168.737,-51 179.82,-51\"/>\n<polygon fill=\"black\" stroke=\"black\" stroke-width=\"0.5\" points=\"179.942,-54.5001 189.942,-51 179.942,-47.5001 179.942,-54.5001\"/>\n</a>\n</g>\n</g>\n<!-- K&#45;&gt;K_INTENSE -->\n<g id=\"edge1\" class=\"edge\"><title>K-&gt;K_INTENSE</title>\n<g id=\"a_edge1\"><a xlink:href=\"bogus\" xlink:title=\"NA\">\n<path fill=\"none\" stroke=\"black\" stroke-width=\"0.5\" d=\"M244.255,-270.434C279.628,-269.338 344.45,-266.156 399,-257 480.541,-243.313 500.297,-235.341 579,-210 587.689,-207.202 596.804,-203.979 605.65,-200.692\"/>\n<polygon fill=\"black\" stroke=\"black\" stroke-width=\"0.5\" points=\"606.992,-203.927 615.109,-197.118 604.518,-197.379 606.992,-203.927\"/>\n</a>\n</g>\n</g>\n<!-- Y -->\n<g id=\"node11\" class=\"node\"><title>Y</title>\n<g id=\"a_node11\"><a xlink:title=\"Y\nFRML &lt;&gt; Y         = A * K**ALFA * L **(1-ALFA)  $\">\n<polygon fill=\"#63b8ff\" stroke=\"black\" points=\"366.5,-151 312.5,-151 312.5,-115 366.5,-115 366.5,-151\"/>\n<text text-anchor=\"start\" x=\"333.5\" y=\"-128.8\" font-family=\"Times New Roman,serif\" font-size=\"14.00\" fill=\"blue\">Y:</text>\n</a>\n</g>\n</g>\n<!-- K&#45;&gt;Y -->\n<g id=\"edge4\" class=\"edge\"><title>K-&gt;Y</title>\n<g id=\"a_edge4\"><a xlink:href=\"bogus\" xlink:title=\"NA\">\n<path fill=\"none\" stroke=\"black\" stroke-width=\"0.5\" d=\"M224.028,-252.988C232.878,-228.96 251.493,-186.393 280,-160 286.548,-153.937 294.697,-149.031 302.812,-145.149\"/>\n<polygon fill=\"black\" stroke=\"black\" stroke-width=\"0.5\" points=\"304.452,-148.253 312.226,-141.055 301.66,-141.834 304.452,-148.253\"/>\n</a>\n</g>\n</g>\n<!-- K(&#45;1) -->\n<g id=\"node12\" class=\"node\"><title>K(-1)</title>\n<g id=\"a_node12\"><a xlink:title=\"K\nFRML &lt;&gt; K=K(-1)+(I-DEPRECIATES_RATE * K(-1))$\">\n<polygon fill=\"springgreen\" stroke=\"black\" points=\"367,-335 312,-335 312,-299 367,-299 367,-335\"/>\n<text text-anchor=\"start\" x=\"318.5\" y=\"-312.8\" font-family=\"Times New Roman,serif\" font-size=\"14.00\" fill=\"blue\">K(-1):K</text>\n</a>\n</g>\n</g>\n<!-- K&#45;&gt;K(&#45;1) -->\n<g id=\"edge16\" class=\"edge\"><title>K-&gt;K(-1)</title>\n<g id=\"a_edge16\"><a xlink:href=\"bogus\" xlink:title=\"NA\">\n<path fill=\"none\" stroke=\"black\" stroke-width=\"0.5\" d=\"M244.147,-275.303C261.319,-280.643 284.002,-289.121 302.824,-297.157\"/>\n<polygon fill=\"black\" stroke=\"black\" stroke-width=\"0.5\" points=\"301.424,-300.365 311.988,-301.175 304.235,-293.954 301.424,-300.365\"/>\n</a>\n</g>\n</g>\n<!-- ALFA -->\n<g id=\"node6\" class=\"node\"><title>ALFA</title>\n<g id=\"a_node6\"><a xlink:title=\"ALFA\nExogen\">\n<polygon fill=\"yellow\" stroke=\"black\" points=\"244,-196 190,-196 190,-160 244,-160 244,-196\"/>\n<text text-anchor=\"start\" x=\"197\" y=\"-173.8\" font-family=\"Times New Roman,serif\" font-size=\"14.00\" fill=\"blue\">ALFA:</text>\n</a>\n</g>\n</g>\n<!-- ALFA&#45;&gt;Y -->\n<g id=\"edge15\" class=\"edge\"><title>ALFA-&gt;Y</title>\n<g id=\"a_edge15\"><a xlink:href=\"bogus\" xlink:title=\"NA\">\n<path fill=\"none\" stroke=\"black\" stroke-width=\"0.5\" d=\"M244.147,-168.236C261.358,-161.808 284.107,-153.313 302.954,-146.274\"/>\n<polygon fill=\"black\" stroke=\"black\" stroke-width=\"0.5\" points=\"304.261,-149.523 312.404,-142.745 301.812,-142.965 304.261,-149.523\"/>\n</a>\n</g>\n</g>\n<!-- A -->\n<g id=\"node7\" class=\"node\"><title>A</title>\n<g id=\"a_node7\"><a xlink:title=\"A\nExogen\">\n<polygon fill=\"yellow\" stroke=\"black\" points=\"244,-142 190,-142 190,-106 244,-106 244,-142\"/>\n<text text-anchor=\"start\" x=\"211\" y=\"-119.8\" font-family=\"Times New Roman,serif\" font-size=\"14.00\" fill=\"blue\">A:</text>\n</a>\n</g>\n</g>\n<!-- A&#45;&gt;Y -->\n<g id=\"edge17\" class=\"edge\"><title>A-&gt;Y</title>\n<g id=\"a_edge17\"><a xlink:href=\"bogus\" xlink:title=\"NA\">\n<path fill=\"none\" stroke=\"black\" stroke-width=\"0.5\" d=\"M244.147,-125.953C261.122,-127.221 283.481,-128.891 302.174,-130.287\"/>\n<polygon fill=\"black\" stroke=\"black\" stroke-width=\"0.5\" points=\"302.171,-133.796 312.404,-131.051 302.693,-126.816 302.171,-133.796\"/>\n</a>\n</g>\n</g>\n<!-- SAVING_RATIO -->\n<g id=\"node8\" class=\"node\"><title>SAVING_RATIO</title>\n<g id=\"a_node8\"><a xlink:title=\"SAVING_RATIO\nExogen\">\n<polygon fill=\"yellow\" stroke=\"black\" points=\"399,-205 280,-205 280,-169 399,-169 399,-205\"/>\n<text text-anchor=\"start\" x=\"286.5\" y=\"-182.8\" font-family=\"Times New Roman,serif\" font-size=\"14.00\" fill=\"blue\">SAVING_RATIO:</text>\n</a>\n</g>\n</g>\n<!-- SAVING_RATIO&#45;&gt;C -->\n<g id=\"edge8\" class=\"edge\"><title>SAVING_RATIO-&gt;C</title>\n<g id=\"a_edge8\"><a xlink:href=\"bogus\" xlink:title=\"NA\">\n<path fill=\"none\" stroke=\"black\" stroke-width=\"0.5\" d=\"M399.338,-185.047C407.978,-184.76 416.657,-184.472 424.664,-184.206\"/>\n<polygon fill=\"black\" stroke=\"black\" stroke-width=\"0.5\" points=\"424.864,-187.702 434.742,-183.872 424.631,-180.705 424.864,-187.702\"/>\n</a>\n</g>\n</g>\n<!-- DEPRECIATES_RATE -->\n<g id=\"node9\" class=\"node\"><title>DEPRECIATES_RATE</title>\n<g id=\"a_node9\"><a xlink:title=\"DEPRECIATES_RATE\nExogen\">\n<polygon fill=\"yellow\" stroke=\"black\" points=\"154,-289 0,-289 0,-253 154,-253 154,-289\"/>\n<text text-anchor=\"start\" x=\"6\" y=\"-266.8\" font-family=\"Times New Roman,serif\" font-size=\"14.00\" fill=\"blue\">DEPRECIATES_RATE:</text>\n</a>\n</g>\n</g>\n<!-- DEPRECIATES_RATE&#45;&gt;K -->\n<g id=\"edge14\" class=\"edge\"><title>DEPRECIATES_RATE-&gt;K</title>\n<g id=\"a_edge14\"><a xlink:href=\"bogus\" xlink:title=\"NA\">\n<path fill=\"none\" stroke=\"black\" stroke-width=\"0.5\" d=\"M154.265,-271C163.194,-271 171.958,-271 179.952,-271\"/>\n<polygon fill=\"black\" stroke=\"black\" stroke-width=\"0.5\" points=\"179.965,-274.5 189.965,-271 179.965,-267.5 179.965,-274.5\"/>\n</a>\n</g>\n</g>\n<!-- L(&#45;1) -->\n<g id=\"node10\" class=\"node\"><title>L(-1)</title>\n<g id=\"a_node10\"><a xlink:title=\"L\nFRML &lt;&gt; L=L(-1)+(LABOR_GROWTH * L(-1))$\">\n<polygon fill=\"springgreen\" stroke=\"black\" points=\"366.5,-59 312.5,-59 312.5,-23 366.5,-23 366.5,-59\"/>\n<text text-anchor=\"start\" x=\"319.5\" y=\"-36.8\" font-family=\"Times New Roman,serif\" font-size=\"14.00\" fill=\"blue\">L(-1):L</text>\n</a>\n</g>\n</g>\n<!-- L(&#45;1)&#45;&gt;L -->\n<g id=\"edge11\" class=\"edge\"><title>L(-1)-&gt;L</title>\n<g id=\"a_edge11\"><a xlink:href=\"bogus\" xlink:title=\"NA\">\n<path fill=\"none\" stroke=\"black\" stroke-width=\"0.5\" d=\"M312.404,-48.8404C295.44,-51.4512 273.082,-53.5002 254.383,-54.236\"/>\n<polygon fill=\"black\" stroke=\"black\" stroke-width=\"0.5\" points=\"254.05,-50.7436 244.147,-54.5086 254.236,-57.7411 254.05,-50.7436\"/>\n</a>\n</g>\n</g>\n<!-- Y&#45;&gt;I -->\n<g id=\"edge5\" class=\"edge\"><title>Y-&gt;I</title>\n<g id=\"a_edge5\"><a xlink:href=\"bogus\" xlink:title=\"NA\">\n<path fill=\"none\" stroke=\"black\" stroke-width=\"0.5\" d=\"M366.693,-135.008C396.71,-137.777 447.155,-143.868 489,-156 497.766,-158.542 506.926,-162.029 515.432,-165.655\"/>\n<polygon fill=\"black\" stroke=\"black\" stroke-width=\"0.5\" points=\"514.141,-168.911 524.701,-169.763 516.977,-162.511 514.141,-168.911\"/>\n</a>\n</g>\n</g>\n<!-- Y&#45;&gt;C -->\n<g id=\"edge9\" class=\"edge\"><title>Y-&gt;C</title>\n<g id=\"a_edge9\"><a xlink:href=\"bogus\" xlink:title=\"NA\">\n<path fill=\"none\" stroke=\"black\" stroke-width=\"0.5\" d=\"M366.647,-143.849C383.858,-150.991 406.607,-160.43 425.454,-168.251\"/>\n<polygon fill=\"black\" stroke=\"black\" stroke-width=\"0.5\" points=\"424.326,-171.572 434.904,-172.172 427.009,-165.107 424.326,-171.572\"/>\n</a>\n</g>\n</g>\n<!-- K(&#45;1)&#45;&gt;K -->\n<g id=\"edge10\" class=\"edge\"><title>K(-1)-&gt;K</title>\n<g id=\"a_edge10\"><a xlink:href=\"bogus\" xlink:title=\"NA\">\n<path fill=\"none\" stroke=\"black\" stroke-width=\"0.5\" d=\"M311.988,-312.583C294.817,-307.223 272.251,-298.78 253.534,-290.783\"/>\n<polygon fill=\"black\" stroke=\"black\" stroke-width=\"0.5\" points=\"254.71,-287.476 244.147,-286.66 251.895,-293.885 254.71,-287.476\"/>\n</a>\n</g>\n</g>\n<!-- L&#45;&gt;K_INTENSE -->\n<g id=\"edge6\" class=\"edge\"><title>L-&gt;K_INTENSE</title>\n<g id=\"a_edge6\"><a xlink:href=\"bogus\" xlink:title=\"NA\">\n<path fill=\"none\" stroke=\"black\" stroke-width=\"0.5\" d=\"M244.296,-58.6237C314.848,-79.0781 509.433,-135.492 605.042,-163.211\"/>\n<polygon fill=\"black\" stroke=\"black\" stroke-width=\"0.5\" points=\"604.231,-166.621 614.811,-166.044 606.181,-159.897 604.231,-166.621\"/>\n</a>\n</g>\n</g>\n<!-- L&#45;&gt;L(&#45;1) -->\n<g id=\"edge2\" class=\"edge\"><title>L-&gt;L(-1)</title>\n<g id=\"a_edge2\"><a xlink:href=\"bogus\" xlink:title=\"NA\">\n<path fill=\"none\" stroke=\"black\" stroke-width=\"0.5\" d=\"M244.147,-43.1517C261.122,-40.5421 283.481,-38.495 302.174,-37.7617\"/>\n<polygon fill=\"black\" stroke=\"black\" stroke-width=\"0.5\" points=\"302.501,-41.2544 312.404,-37.4908 302.315,-34.2569 302.501,-41.2544\"/>\n</a>\n</g>\n</g>\n<!-- L&#45;&gt;Y -->\n<g id=\"edge7\" class=\"edge\"><title>L-&gt;Y</title>\n<g id=\"a_edge7\"><a xlink:href=\"bogus\" xlink:title=\"NA\">\n<path fill=\"none\" stroke=\"black\" stroke-width=\"0.5\" d=\"M238.523,-69.0911C250.273,-79.0483 265.518,-91.3121 280,-101 287.331,-105.904 295.479,-110.723 303.31,-115.074\"/>\n<polygon fill=\"black\" stroke=\"black\" stroke-width=\"0.5\" points=\"301.829,-118.253 312.288,-119.943 305.166,-112.099 301.829,-118.253\"/>\n</a>\n</g>\n</g>\n</g>\n</svg>",
      "text/plain": [
       "<IPython.core.display.SVG object>"
      ]
     },
     "metadata": {},
     "output_type": "display_data"
    }
   ],
   "source": [
    "msolow.drawmodel(sink = 'K_INTENSE',size=(5,5))"
   ]
  },
  {
   "cell_type": "markdown",
   "metadata": {
    "slideshow": {
     "slide_type": "slide"
    }
   },
   "source": [
    "# Show solving structure (only current year)"
   ]
  },
  {
   "cell_type": "code",
   "execution_count": null,
   "metadata": {
    "cell_style": "split",
    "slideshow": {
     "slide_type": "subslide"
    }
   },
   "outputs": [
    {
     "data": {
      "image/svg+xml": "<svg xmlns=\"http://www.w3.org/2000/svg\" xmlns:xlink=\"http://www.w3.org/1999/xlink\" width=\"360pt\" height=\"96pt\" viewBox=\"0.00 0.00 360.00 95.74\">\n<g id=\"graph0\" class=\"graph\" transform=\"scale(0.655738 0.655738) rotate(0) translate(4 142.002)\">\n<title>TD</title>\n<polygon fill=\"white\" stroke=\"none\" points=\"-4,4 -4,-142.002 545,-142.002 545,4 -4,4\"/>\n<text text-anchor=\"middle\" x=\"270.5\" y=\"-7.8\" font-family=\"Times New Roman,serif\" font-size=\"14.00\">A_model_graph</text>\n<!-- K_INTENSE -->\n<g id=\"node1\" class=\"node\"><title>K_INTENSE</title>\n<g id=\"a_node1\"><a xlink:title=\"K_INTENSE\nFRML &lt;&gt; K_INTENSE = K/L  $\">\n<polygon fill=\"#63b8ff\" stroke=\"black\" points=\"541,-133.002 450,-133.002 450,-97.0018 541,-97.0018 541,-133.002\"/>\n<text text-anchor=\"start\" x=\"456.5\" y=\"-110.802\" font-family=\"Times New Roman,serif\" font-size=\"14.00\" fill=\"blue\">K_INTENSE:</text>\n</a>\n</g>\n</g>\n<!-- C -->\n<g id=\"node2\" class=\"node\"><title>C</title>\n<g id=\"a_node2\"><a xlink:title=\"C\nFRML &lt;&gt; C         = (1-SAVING_RATIO)  * Y  $\">\n<polygon fill=\"#63b8ff\" stroke=\"black\" points=\"234,-72.0018 180,-72.0018 180,-36.0018 234,-36.0018 234,-72.0018\"/>\n<text text-anchor=\"start\" x=\"201\" y=\"-49.8018\" font-family=\"Times New Roman,serif\" font-size=\"14.00\" fill=\"blue\">C:</text>\n</a>\n</g>\n</g>\n<!-- I -->\n<g id=\"node6\" class=\"node\"><title>I</title>\n<g id=\"a_node6\"><a xlink:title=\"I\nFRML &lt;&gt; I         = Y - C  $\">\n<polygon fill=\"#63b8ff\" stroke=\"black\" points=\"324,-72.0018 270,-72.0018 270,-36.0018 324,-36.0018 324,-72.0018\"/>\n<text text-anchor=\"start\" x=\"293\" y=\"-49.8018\" font-family=\"Times New Roman,serif\" font-size=\"14.00\" fill=\"blue\">I:</text>\n</a>\n</g>\n</g>\n<!-- C&#45;&gt;I -->\n<g id=\"edge2\" class=\"edge\"><title>C-&gt;I</title>\n<g id=\"a_edge2\"><a xlink:href=\"bogus\" xlink:title=\"NA\">\n<path fill=\"none\" stroke=\"black\" stroke-width=\"0.5\" d=\"M234.403,-54.0018C242.393,-54.0018 251.311,-54.0018 259.824,-54.0018\"/>\n<polygon fill=\"black\" stroke=\"black\" stroke-width=\"0.5\" points=\"259.919,-57.5019 269.919,-54.0018 259.919,-50.5019 259.919,-57.5019\"/>\n</a>\n</g>\n</g>\n<!-- L -->\n<g id=\"node3\" class=\"node\"><title>L</title>\n<g id=\"a_node3\"><a xlink:title=\"L\nFRML &lt;&gt; L=L(-1)+(LABOR_GROWTH * L(-1))$\">\n<polygon fill=\"#63b8ff\" stroke=\"black\" points=\"54,-133.002 0,-133.002 0,-97.0018 54,-97.0018 54,-133.002\"/>\n<text text-anchor=\"start\" x=\"21\" y=\"-110.802\" font-family=\"Times New Roman,serif\" font-size=\"14.00\" fill=\"blue\">L:</text>\n</a>\n</g>\n</g>\n<!-- L&#45;&gt;K_INTENSE -->\n<g id=\"edge6\" class=\"edge\"><title>L-&gt;K_INTENSE</title>\n<g id=\"a_edge6\"><a xlink:href=\"bogus\" xlink:title=\"NA\">\n<path fill=\"none\" stroke=\"black\" stroke-width=\"0.5\" d=\"M54.1027,-120.511C88.6744,-127.315 151.626,-138.002 206,-138.002 206,-138.002 206,-138.002 298,-138.002 346.185,-138.002 400.569,-131.095 439.888,-124.851\"/>\n<polygon fill=\"black\" stroke=\"black\" stroke-width=\"0.5\" points=\"440.49,-128.299 449.799,-123.24 439.368,-121.39 440.49,-128.299\"/>\n</a>\n</g>\n</g>\n<!-- Y -->\n<g id=\"node5\" class=\"node\"><title>Y</title>\n<g id=\"a_node5\"><a xlink:title=\"Y\nFRML &lt;&gt; Y         = A * K**ALFA * L **(1-ALFA)  $\">\n<polygon fill=\"#63b8ff\" stroke=\"black\" points=\"144,-91.0018 90,-91.0018 90,-55.0018 144,-55.0018 144,-91.0018\"/>\n<text text-anchor=\"start\" x=\"111\" y=\"-68.8018\" font-family=\"Times New Roman,serif\" font-size=\"14.00\" fill=\"blue\">Y:</text>\n</a>\n</g>\n</g>\n<!-- L&#45;&gt;Y -->\n<g id=\"edge5\" class=\"edge\"><title>L-&gt;Y</title>\n<g id=\"a_edge5\"><a xlink:href=\"bogus\" xlink:title=\"NA\">\n<path fill=\"none\" stroke=\"black\" stroke-width=\"0.5\" d=\"M54.4029,-102.4C62.6567,-98.4611 71.8995,-94.0498 80.6647,-89.8664\"/>\n<polygon fill=\"black\" stroke=\"black\" stroke-width=\"0.5\" points=\"82.4017,-92.9156 89.919,-85.4496 79.3866,-86.5982 82.4017,-92.9156\"/>\n</a>\n</g>\n</g>\n<!-- K -->\n<g id=\"node4\" class=\"node\"><title>K</title>\n<g id=\"a_node4\"><a xlink:title=\"K\nFRML &lt;&gt; K=K(-1)+(I-DEPRECIATES_RATE * K(-1))$\">\n<polygon fill=\"#63b8ff\" stroke=\"black\" points=\"414,-110.002 360,-110.002 360,-74.0018 414,-74.0018 414,-110.002\"/>\n<text text-anchor=\"start\" x=\"381\" y=\"-87.8018\" font-family=\"Times New Roman,serif\" font-size=\"14.00\" fill=\"blue\">K:</text>\n</a>\n</g>\n</g>\n<!-- K&#45;&gt;K_INTENSE -->\n<g id=\"edge1\" class=\"edge\"><title>K-&gt;K_INTENSE</title>\n<g id=\"a_edge1\"><a xlink:href=\"bogus\" xlink:title=\"NA\">\n<path fill=\"none\" stroke=\"black\" stroke-width=\"0.5\" d=\"M414.053,-97.6282C421.838,-99.3095 430.683,-101.22 439.59,-103.143\"/>\n<polygon fill=\"black\" stroke=\"black\" stroke-width=\"0.5\" points=\"439.107,-106.62 449.62,-105.309 440.584,-99.7773 439.107,-106.62\"/>\n</a>\n</g>\n</g>\n<!-- K&#45;&gt;Y -->\n<g id=\"edge3\" class=\"edge\"><title>K-&gt;Y</title>\n<g id=\"a_edge3\"><a xlink:href=\"bogus\" xlink:title=\"NA\">\n<path fill=\"none\" stroke=\"black\" stroke-width=\"0.5\" d=\"M359.94,-91.2367C320.805,-89.9461 244.558,-86.8821 180,-81.0018 171.624,-80.2389 162.638,-79.2048 154.179,-78.1337\"/>\n<polygon fill=\"black\" stroke=\"black\" stroke-width=\"0.5\" points=\"154.568,-74.6548 144.198,-76.8244 153.658,-81.5954 154.568,-74.6548\"/>\n</a>\n</g>\n</g>\n<!-- Y&#45;&gt;C -->\n<g id=\"edge7\" class=\"edge\"><title>Y-&gt;C</title>\n<g id=\"a_edge7\"><a xlink:href=\"bogus\" xlink:title=\"NA\">\n<path fill=\"none\" stroke=\"black\" stroke-width=\"0.5\" d=\"M144.403,-67.3012C152.481,-65.557 161.507,-63.6083 170.105,-61.7519\"/>\n<polygon fill=\"black\" stroke=\"black\" stroke-width=\"0.5\" points=\"170.883,-65.1646 179.919,-59.6329 169.406,-58.3223 170.883,-65.1646\"/>\n</a>\n</g>\n</g>\n<!-- Y&#45;&gt;I -->\n<g id=\"edge4\" class=\"edge\"><title>Y-&gt;I</title>\n<g id=\"a_edge4\"><a xlink:href=\"bogus\" xlink:title=\"NA\">\n<path fill=\"none\" stroke=\"black\" stroke-width=\"0.5\" d=\"M135.724,-54.9868C147.243,-44.6095 163.202,-32.553 180,-27.0018 206.455,-18.2594 237.2,-26.2011 260.388,-35.6852\"/>\n<polygon fill=\"black\" stroke=\"black\" stroke-width=\"0.5\" points=\"259.263,-39.0128 269.828,-39.8001 262.06,-32.5959 259.263,-39.0128\"/>\n</a>\n</g>\n</g>\n<!-- I&#45;&gt;K -->\n<g id=\"edge8\" class=\"edge\"><title>I-&gt;K</title>\n<g id=\"a_edge8\"><a xlink:href=\"bogus\" xlink:title=\"NA\">\n<path fill=\"none\" stroke=\"black\" stroke-width=\"0.5\" d=\"M324.403,-65.4031C332.657,-68.9672 341.9,-72.9584 350.665,-76.7434\"/>\n<polygon fill=\"black\" stroke=\"black\" stroke-width=\"0.5\" points=\"349.351,-79.9883 359.919,-80.7395 352.126,-73.5619 349.351,-79.9883\"/>\n</a>\n</g>\n</g>\n</g>\n</svg>",
      "text/plain": [
       "<IPython.core.display.SVG object>"
      ]
     },
     "metadata": {},
     "output_type": "display_data"
    }
   ],
   "source": [
    "msolow.drawendo(sink = 'K_INTENSE',source='L',size=(5,5))"
   ]
  },
  {
   "cell_type": "code",
   "execution_count": null,
   "metadata": {
    "cell_style": "split"
   },
   "outputs": [
    {
     "data": {
      "image/png": "[encoded data removed]",
      "text/plain": [
       "<Figure size 360x360 with 1 Axes>"
      ]
     },
     "metadata": {
      "needs_background": "light"
     },
     "output_type": "display_data"
    }
   ],
   "source": [
    "msolow.plotadjacency();"
   ]
  },
  {
   "cell_type": "markdown",
   "metadata": {
    "code_folding": [],
    "slideshow": {
     "slide_type": "slide"
    }
   },
   "source": [
    "# Create DataFrame with baseline exogenous "
   ]
  },
  {
   "cell_type": "code",
   "execution_count": null,
   "metadata": {
    "slideshow": {
     "slide_type": "-"
    }
   },
   "outputs": [
    {
     "data": {
      "text/html": [
       "<div>\n",
       "<style scoped>\n",
       "    .dataframe tbody tr th:only-of-type {\n",
       "        vertical-align: middle;\n",
       "    }\n",
       "\n",
       "    .dataframe tbody tr th {\n",
       "        vertical-align: top;\n",
       "    }\n",
       "\n",
       "    .dataframe thead th {\n",
       "        text-align: right;\n",
       "    }\n",
       "</style>\n",
       "<table border=\"1\" class=\"dataframe\">\n",
       "  <thead>\n",
       "    <tr style=\"text-align: right;\">\n",
       "      <th></th>\n",
       "      <th>L</th>\n",
       "      <th>K</th>\n",
       "      <th>ALFA</th>\n",
       "      <th>A</th>\n",
       "      <th>DEPRECIATES_RATE</th>\n",
       "      <th>LABOR_GROWTH</th>\n",
       "      <th>SAVING_RATIO</th>\n",
       "    </tr>\n",
       "  </thead>\n",
       "  <tbody>\n",
       "    <tr>\n",
       "      <th>0</th>\n",
       "      <td>100</td>\n",
       "      <td>100</td>\n",
       "      <td>0.5</td>\n",
       "      <td>1.0</td>\n",
       "      <td>0.05</td>\n",
       "      <td>0.01</td>\n",
       "      <td>0.05</td>\n",
       "    </tr>\n",
       "    <tr>\n",
       "      <th>1</th>\n",
       "      <td>100</td>\n",
       "      <td>100</td>\n",
       "      <td>0.5</td>\n",
       "      <td>1.0</td>\n",
       "      <td>0.05</td>\n",
       "      <td>0.01</td>\n",
       "      <td>0.05</td>\n",
       "    </tr>\n",
       "    <tr>\n",
       "      <th>2</th>\n",
       "      <td>100</td>\n",
       "      <td>100</td>\n",
       "      <td>0.5</td>\n",
       "      <td>1.0</td>\n",
       "      <td>0.05</td>\n",
       "      <td>0.01</td>\n",
       "      <td>0.05</td>\n",
       "    </tr>\n",
       "    <tr>\n",
       "      <th>3</th>\n",
       "      <td>100</td>\n",
       "      <td>100</td>\n",
       "      <td>0.5</td>\n",
       "      <td>1.0</td>\n",
       "      <td>0.05</td>\n",
       "      <td>0.01</td>\n",
       "      <td>0.05</td>\n",
       "    </tr>\n",
       "    <tr>\n",
       "      <th>4</th>\n",
       "      <td>100</td>\n",
       "      <td>100</td>\n",
       "      <td>0.5</td>\n",
       "      <td>1.0</td>\n",
       "      <td>0.05</td>\n",
       "      <td>0.01</td>\n",
       "      <td>0.05</td>\n",
       "    </tr>\n",
       "  </tbody>\n",
       "</table>\n",
       "</div>"
      ],
      "text/plain": [
       "     L    K  ALFA    A  DEPRECIATES_RATE  LABOR_GROWTH  SAVING_RATIO\n",
       "0  100  100   0.5  1.0              0.05          0.01          0.05\n",
       "1  100  100   0.5  1.0              0.05          0.01          0.05\n",
       "2  100  100   0.5  1.0              0.05          0.01          0.05\n",
       "3  100  100   0.5  1.0              0.05          0.01          0.05\n",
       "4  100  100   0.5  1.0              0.05          0.01          0.05"
      ]
     },
     "metadata": {},
     "output_type": "display_data"
    }
   ],
   "source": [
    "N = 300  \n",
    "df = pd.DataFrame({'L':[100]*N,'K':[100]*N})\n",
    "df.loc[:,'ALFA'] = 0.5\n",
    "df.loc[:,'A'] = 1.\n",
    "df.loc[:,'DEPRECIATES_RATE'] = 0.05\n",
    "df.loc[:,'LABOR_GROWTH'] = 0.01\n",
    "df.loc[:,'SAVING_RATIO'] = 0.05\n",
    "display(df.head())"
   ]
  },
  {
   "cell_type": "markdown",
   "metadata": {
    "slideshow": {
     "slide_type": "slide"
    }
   },
   "source": [
    "# Run Baseline"
   ]
  },
  {
   "cell_type": "code",
   "execution_count": null,
   "metadata": {
    "slideshow": {
     "slide_type": "-"
    }
   },
   "outputs": [
    {
     "data": {
      "text/html": [
       "<div>\n",
       "<style scoped>\n",
       "    .dataframe tbody tr th:only-of-type {\n",
       "        vertical-align: middle;\n",
       "    }\n",
       "\n",
       "    .dataframe tbody tr th {\n",
       "        vertical-align: top;\n",
       "    }\n",
       "\n",
       "    .dataframe thead th {\n",
       "        text-align: right;\n",
       "    }\n",
       "</style>\n",
       "<table border=\"1\" class=\"dataframe\">\n",
       "  <thead>\n",
       "    <tr style=\"text-align: right;\">\n",
       "      <th></th>\n",
       "      <th>L</th>\n",
       "      <th>K</th>\n",
       "      <th>ALFA</th>\n",
       "      <th>A</th>\n",
       "      <th>DEPRECIATES_RATE</th>\n",
       "      <th>LABOR_GROWTH</th>\n",
       "      <th>SAVING_RATIO</th>\n",
       "      <th>K_INTENSE</th>\n",
       "      <th>C</th>\n",
       "      <th>I</th>\n",
       "      <th>Y</th>\n",
       "    </tr>\n",
       "  </thead>\n",
       "  <tbody>\n",
       "    <tr>\n",
       "      <th>0</th>\n",
       "      <td>100.000000</td>\n",
       "      <td>100.000000</td>\n",
       "      <td>0.5</td>\n",
       "      <td>1.0</td>\n",
       "      <td>0.05</td>\n",
       "      <td>0.01</td>\n",
       "      <td>0.05</td>\n",
       "      <td>0.000000</td>\n",
       "      <td>0.000000</td>\n",
       "      <td>0.000000</td>\n",
       "      <td>0.000000</td>\n",
       "    </tr>\n",
       "    <tr>\n",
       "      <th>1</th>\n",
       "      <td>101.000000</td>\n",
       "      <td>100.025580</td>\n",
       "      <td>0.5</td>\n",
       "      <td>1.0</td>\n",
       "      <td>0.05</td>\n",
       "      <td>0.01</td>\n",
       "      <td>0.05</td>\n",
       "      <td>0.990352</td>\n",
       "      <td>95.486029</td>\n",
       "      <td>5.025580</td>\n",
       "      <td>100.511609</td>\n",
       "    </tr>\n",
       "    <tr>\n",
       "      <th>2</th>\n",
       "      <td>102.010000</td>\n",
       "      <td>100.076226</td>\n",
       "      <td>0.5</td>\n",
       "      <td>1.0</td>\n",
       "      <td>0.05</td>\n",
       "      <td>0.01</td>\n",
       "      <td>0.05</td>\n",
       "      <td>0.981043</td>\n",
       "      <td>95.986562</td>\n",
       "      <td>5.051924</td>\n",
       "      <td>101.038487</td>\n",
       "    </tr>\n",
       "    <tr>\n",
       "      <th>3</th>\n",
       "      <td>103.030100</td>\n",
       "      <td>100.151443</td>\n",
       "      <td>0.5</td>\n",
       "      <td>1.0</td>\n",
       "      <td>0.05</td>\n",
       "      <td>0.01</td>\n",
       "      <td>0.05</td>\n",
       "      <td>0.972060</td>\n",
       "      <td>96.501546</td>\n",
       "      <td>5.079029</td>\n",
       "      <td>101.580575</td>\n",
       "    </tr>\n",
       "    <tr>\n",
       "      <th>4</th>\n",
       "      <td>104.060401</td>\n",
       "      <td>100.250762</td>\n",
       "      <td>0.5</td>\n",
       "      <td>1.0</td>\n",
       "      <td>0.05</td>\n",
       "      <td>0.01</td>\n",
       "      <td>0.05</td>\n",
       "      <td>0.963390</td>\n",
       "      <td>97.030930</td>\n",
       "      <td>5.106891</td>\n",
       "      <td>102.137821</td>\n",
       "    </tr>\n",
       "  </tbody>\n",
       "</table>\n",
       "</div>"
      ],
      "text/plain": [
       "            L           K  ALFA    A  DEPRECIATES_RATE  LABOR_GROWTH  \\\n",
       "0  100.000000  100.000000   0.5  1.0              0.05          0.01   \n",
       "1  101.000000  100.025580   0.5  1.0              0.05          0.01   \n",
       "2  102.010000  100.076226   0.5  1.0              0.05          0.01   \n",
       "3  103.030100  100.151443   0.5  1.0              0.05          0.01   \n",
       "4  104.060401  100.250762   0.5  1.0              0.05          0.01   \n",
       "\n",
       "   SAVING_RATIO  K_INTENSE          C         I           Y  \n",
       "0          0.05   0.000000   0.000000  0.000000    0.000000  \n",
       "1          0.05   0.990352  95.486029  5.025580  100.511609  \n",
       "2          0.05   0.981043  95.986562  5.051924  101.038487  \n",
       "3          0.05   0.972060  96.501546  5.079029  101.580575  \n",
       "4          0.05   0.963390  97.030930  5.106891  102.137821  "
      ]
     },
     "metadata": {},
     "output_type": "display_data"
    }
   ],
   "source": [
    "res1 = msolow(df)\n",
    "display(res1.head())"
   ]
  },
  {
   "cell_type": "markdown",
   "metadata": {
    "slideshow": {
     "slide_type": "slide"
    }
   },
   "source": [
    "# Create interactive widgets \n",
    "If you are not familiar with Python and Ipywidgets, don't try to understand the code. \n",
    "Just notice that it is fairly short. \n",
    "\n",
    "You can try different parameter values"
   ]
  },
  {
   "cell_type": "code",
   "execution_count": null,
   "metadata": {},
   "outputs": [],
   "source": [
    "slidedef =      {'Productivity'     : {'var':'ALFA',             'value': 0.5 ,'min':0.0, 'max':1.0},\n",
    "                 'DEPRECIATES_RATE' : {'var':'DEPRECIATES_RATE', 'value': 0.05,'min':0.0, 'max':1.0}, \n",
    "                 'LABOR_GROWTH'     : {'var':'LABOR_GROWTH',     'value': 0.01,'min':0.0, 'max':1.0},\n",
    "                 'SAVING_RATIO'     : {'var': 'SAVING_RATIO',    'value': 0.05,'min':0.0, 'max':1.0}\n",
    "                        }  "
   ]
  },
  {
   "cell_type": "code",
   "execution_count": null,
   "metadata": {
    "slideshow": {
     "slide_type": "slide"
    }
   },
   "outputs": [
    {
     "data": {
      "application/vnd.jupyter.widget-view+json": {
       "model_id": "4726baefe139454aae75dd7d0b16176d",
       "version_major": 2,
       "version_minor": 0
      },
      "text/plain": [
       "VBox(children=(HBox(children=(Label(value='Input new parameter ', layout=Layout(width='52%')), Label(value='Al…"
      ]
     },
     "metadata": {},
     "output_type": "display_data"
    },
    {
     "data": {
      "application/vnd.jupyter.widget-view+json": {
       "model_id": "8a599f50e25b45339244907324799eaa",
       "version_major": 2,
       "version_minor": 0
      },
      "text/plain": [
       "VBox(children=(Tab(children=(VBox(children=(Tab(children=(Output(), Output(), Output(), Output()), _titles={'0…"
      ]
     },
     "metadata": {},
     "output_type": "display_data"
    }
   ],
   "source": [
    "     \n",
    "input = msolow.inputwidget(basedf=res1,slidedef=slidedef,showout=True,varpat='Y C I K L K_INTENSE')"
   ]
  },
  {
   "cell_type": "code",
   "execution_count": null,
   "metadata": {},
   "outputs": [],
   "source": []
  }
 ],
 "metadata": {
  "celltoolbar": "Slideshow",
  "hide_input": false,
  "kernelspec": {
   "display_name": "Python 3.9.13 ('mfdoc39')",
   "language": "python",
   "name": "python3"
  },
  "language_info": {
   "codemirror_mode": {
    "name": "ipython",
    "version": 3
   },
   "file_extension": ".py",
   "mimetype": "text/x-python",
   "name": "python",
   "nbconvert_exporter": "python",
   "pygments_lexer": "ipython3",
   "version": "3.9.13"
  },
  "toc": {
   "base_numbering": 1,
   "nav_menu": {},
   "number_sections": true,
   "sideBar": true,
   "skip_h1_title": false,
   "title_cell": "Table of Contents",
   "title_sidebar": "Contents",
   "toc_cell": false,
   "toc_position": {},
   "toc_section_display": true,
   "toc_window_display": false
  },
  "varInspector": {
   "cols": {
    "lenName": 16,
    "lenType": 16,
    "lenVar": 40
   },
   "kernels_config": {
    "python": {
     "delete_cmd_postfix": "",
     "delete_cmd_prefix": "del ",
     "library": "var_list.py",
     "varRefreshCmd": "print(var_dic_list())"
    },
    "r": {
     "delete_cmd_postfix": ") ",
     "delete_cmd_prefix": "rm(",
     "library": "var_list.r",
     "varRefreshCmd": "cat(var_dic_list()) "
    }
   },
   "oldHeight": 122.4,
   "position": {
    "height": "143.68px",
    "left": "945.36px",
    "right": "20px",
    "top": "120px",
    "width": "250px"
   },
   "types_to_exclude": [
    "module",
    "function",
    "builtin_function_or_method",
    "instance",
    "_Feature"
   ],
   "varInspector_section_display": "block",
   "window_display": false
  },
  "vscode": {
   "interpreter": {
    "hash": "83dcedee8a978fc9d4c3c364d059862820cde10361c6887104a04d2b8f6911d7"
   }
  }
 },
 "nbformat": 4,
 "nbformat_minor": 4
}
