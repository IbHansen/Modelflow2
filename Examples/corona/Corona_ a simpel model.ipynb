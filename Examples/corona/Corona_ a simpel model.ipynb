{
 "cells": [
  {
   "cell_type": "markdown",
   "metadata": {
    "slideshow": {
     "slide_type": "slide"
    }
   },
   "source": [
    "# A very simpel model for spreading of infectious diseases\n",
    "This is an experimental model. Inspirered by https://triplebyte.com/blog/modeling-infectious-diseases. \n",
    "\n",
    "The model is purely for testing the capabilities of ModelFlow, the parameters selected are for ilustration of the dynamic and are not actual estimates. \n",
    "\n",
    "This is a Jupyter Notebook running Python. \n",
    "\n",
    "The notebook is located on github here: https://github.com/IbHansen/Modelflow2\n",
    "\n",
    "Feel free to use this notebook. **To run the notebook** find the menu line above and select **cell>run all** \n",
    "\n",
    "THE Notebook IS PROVIDED \"AS IS\", WITHOUT WARRANTY OF ANY KIND, EXPRESS OR\n",
    "IMPLIED, INCLUDING BUT NOT LIMITED TO THE WARRANTIES OF MERCHANTABILITY,\n",
    "FITNESS FOR A PARTICULAR PURPOSE AND NONINFRINGEMENT. IN NO EVENT SHALL THE\n",
    "AUTHORS OR COPYRIGHT HOLDERS BE LIABLE FOR ANY CLAIM, DAMAGES OR OTHER\n",
    "LIABILITY, WHETHER IN AN ACTION OF CONTRACT, TORT OR OTHERWISE, ARISING FROM,\n",
    "OUT OF OR IN CONNECTION WITH THE SOFTWARE OR THE USE OR OTHER DEALINGS IN THE\n",
    "SOFTWARE.\n",
    "\n",
    "The model is specified as equations in the Python code below (you don't have to understand the Python code). The equations defines the daily transition between the states which the population can exist in:\n",
    "\n",
    " - susciptible\n",
    " - exposed\n",
    " - infectious\n",
    " - recovered\n",
    " - dead \n",
    "\n",
    "# Make experiments \n",
    "The model will run with a baseline scenario and you can inspect the results. \n",
    "\n",
    "Then you can use the sliders to change the scenario.\n",
    "You can make your own scenario. Use the sliders to define an scenario. Then press the **Run scenario** button. The model will solve, and the results can be inspected.\n",
    "\n",
    "For instance, try to increase *Daily rate of contact* to 6 and press **Run scenario**  and watch how the values changes.\n",
    "\n",
    "You can change the scenario name. After **Run scenario** a graph for each scenario will be shown. \n",
    "\n",
    "Again, you don't have to understand the Python code. "
   ]
  },
  {
   "cell_type": "code",
   "execution_count": 1,
   "metadata": {},
   "outputs": [
    {
     "data": {
      "application/vnd.jupyter.widget-view+json": {
       "model_id": "654b84b6fac9401ab276e1a6150908c2",
       "version_major": 2,
       "version_minor": 0
      },
      "text/plain": [
       "VBox(children=(HBox(children=(Label(value='Input new parameter ', layout=Layout(width='52%')), Label(value='Al…"
      ]
     },
     "metadata": {},
     "output_type": "display_data"
    },
    {
     "data": {
      "application/vnd.jupyter.widget-view+json": {
       "model_id": "c1dd806cf11945f4847846486d0ac745",
       "version_major": 2,
       "version_minor": 0
      },
      "text/plain": [
       "VBox(children=(Tab(children=(VBox(children=(Tab(children=(Output(), Output(), Output(), Output()), _titles={'0…"
      ]
     },
     "metadata": {},
     "output_type": "display_data"
    }
   ],
   "source": [
    "import pandas as pd\n",
    "\n",
    "from modelclass import model\n",
    "model.modelflow_auto()\n",
    "\n",
    "# Specify the model \n",
    "#    Some conventions:\n",
    "#       - (-1) after a variable means the value the day before.\n",
    "#       - diff means the change in variable from the day before\n",
    "\n",
    "rcorona = '''\\\n",
    "             infection_rate        = min(rate_contact * probability_transmision * infectious(-1) / population(-1),1.0) \n",
    "             new_exposed           = infection_rate * susceptible\n",
    "             diff(exposed)         = new_exposed - new_infectious + exo_exposed\n",
    "\n",
    "             new_infectious        = incubation_rate * exposed \n",
    "             diff(infectious)      = new_infectious - new_recovered  - new_dead\n",
    "\n",
    "             diff(susceptible)     = -new_exposed  \n",
    "\n",
    "             new_recovered         = recovery_rate * infectious(-1)\n",
    "             diff(recovered)       = new_recovered \n",
    "             \n",
    "             new_dead              = dead_rate * infectious(-1)\n",
    "             diff(dead)            = new_dead \n",
    "             diff(population)      = -diff(dead)             \n",
    "'''\n",
    "mcorona = model.from_eq(rcorona)       # create a model instance which can solve the model \n",
    "\n",
    "DAYS = 500                                # number of days the model will run \n",
    "basedf = pd.DataFrame(index=range(DAYS))  # make an empty dataframe with DAYS rows\n",
    "basedf.index.name = 'Day'\n",
    "\n",
    "# Define user interface \n",
    "cow = mcorona.inputwidget(basedf=basedf,modelopt={'silent':0,'max_iterations':1000,'first_test':10},\n",
    "                  slidedef = {\n",
    "                     'Population            '     :{'var' : 'POPULATION SUSCEPTIBLE', 'min' : 0.0, 'max' : 10_000_000, 'value' : 1_000_000,'step':100_000,'op':'=start-','dec':0},\n",
    "                     'Number of infected t=1'     :{'var' : 'EXO_EXPOSED',            'min' : 0.0, 'max' : 1000,       'value' : 300,      'step':10,'op':'=impulse','dec':0},\n",
    "                     'Daily incubation rate'      :{'var' : 'INCUBATION_RATE',        'min' : 0.0, 'max' : 1.0,        'value' : 0.1,                'op':'='},\n",
    "                     'Daily death rate'           :{'var' : 'DEAD_RATE',              'min' : 0.0, 'max' : 1.0,        'value' : 0.01,               'op':'=' },\n",
    "                     'Daily recovery rate'        :{'var' : 'RECOVERY_RATE',          'min' : 0.0, 'max' : 1.0,        'value' : 0.1,                'op':'='},\n",
    "                     'Daily rate of contact'      :{'var' : 'RATE_CONTACT',           'min' : 0.0, 'max' : 30,         'value' : 4,'step':0.1,         'op':'='},\n",
    "                     'Probability of transmission':{'var' : 'PROBABILITY_TRANSMISION','min' : 0.0, 'max' : 1.0,        'value' : 0.05,'step':0.005,  'op':'=','dec':3},\n",
    "                             },\n",
    "                 varpat='infectious recovered dead new_infectious new_recovered new_dead',showvar=False);"
   ]
  },
  {
   "cell_type": "code",
   "execution_count": null,
   "metadata": {},
   "outputs": [],
   "source": []
  }
 ],
 "metadata": {
  "hide_input": false,
  "kernelspec": {
   "display_name": "Python 3 (ipykernel)",
   "language": "python",
   "name": "python3"
  },
  "language_info": {
   "codemirror_mode": {
    "name": "ipython",
    "version": 3
   },
   "file_extension": ".py",
   "mimetype": "text/x-python",
   "name": "python",
   "nbconvert_exporter": "python",
   "pygments_lexer": "ipython3",
   "version": "3.8.8"
  },
  "toc": {
   "base_numbering": 1,
   "nav_menu": {},
   "number_sections": true,
   "sideBar": true,
   "skip_h1_title": false,
   "title_cell": "Table of Contents",
   "title_sidebar": "Contents",
   "toc_cell": false,
   "toc_position": {},
   "toc_section_display": true,
   "toc_window_display": false
  },
  "varInspector": {
   "cols": {
    "lenName": 16,
    "lenType": 16,
    "lenVar": 40
   },
   "kernels_config": {
    "python": {
     "delete_cmd_postfix": "",
     "delete_cmd_prefix": "del ",
     "library": "var_list.py",
     "varRefreshCmd": "print(var_dic_list())"
    },
    "r": {
     "delete_cmd_postfix": ") ",
     "delete_cmd_prefix": "rm(",
     "library": "var_list.r",
     "varRefreshCmd": "cat(var_dic_list()) "
    }
   },
   "types_to_exclude": [
    "module",
    "function",
    "builtin_function_or_method",
    "instance",
    "_Feature"
   ],
   "window_display": false
  }
 },
 "nbformat": 4,
 "nbformat_minor": 4
}
