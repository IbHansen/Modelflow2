{
 "cells": [
  {
   "cell_type": "markdown",
   "metadata": {
    "slideshow": {
     "slide_type": "slide"
    }
   },
   "source": [
    "# Modelling spreading of infectious diseases\n",
    "This is an experimental model. Inspirered by https://kagr.shinyapps.io/C19DK/ but for this example without age groups\n",
    "\n",
    "The model is purely for testing the capabilities of ModelFlow, the parameters selected are for ilustration of the dynamic and are not actual estimates. \n",
    "\n",
    "This is a Jupyter Notebook running Python. \n",
    "\n",
    "The notebook is located on github here: https://github.com/IbHansen/Modelflow2\n",
    "\n",
    "Feel free to use this notebook. **To run the notebook** find the menu line above and select **cell>run all** \n",
    "\n",
    "\n",
    "THE Notebook IS PROVIDED \"AS IS\", WITHOUT WARRANTY OF ANY KIND, EXPRESS OR\n",
    "IMPLIED, INCLUDING BUT NOT LIMITED TO THE WARRANTIES OF MERCHANTABILITY,\n",
    "FITNESS FOR A PARTICULAR PURPOSE AND NONINFRINGEMENT. IN NO EVENT SHALL THE\n",
    "AUTHORS OR COPYRIGHT HOLDERS BE LIABLE FOR ANY CLAIM, DAMAGES OR OTHER\n",
    "LIABILITY, WHETHER IN AN ACTION OF CONTRACT, TORT OR OTHERWISE, ARISING FROM,\n",
    "OUT OF OR IN CONNECTION WITH THE SOFTWARE OR THE USE OR OTHER DEALINGS IN THE\n",
    "SOFTWARE.\n",
    "\n",
    "The model is specified as equations. The equations defines the daily transition between the states:\n",
    "\n",
    " - susciptible\n",
    " - exposed\n",
    " - infectious\n",
    " - hospitalized \n",
    " - In ICU \n",
    " - recovered\n",
    " - dead \n",
    "\n",
    "# Make eksperiments \n",
    "The model will run with a baseline scenario and you can inspect the results. \n",
    "\n",
    "Then you can use the sliders to change the scenario.\n",
    "You can make your own scenario. Use the sliders to define an scenario. Then press the **Run scenario** button. The model will solve, and the results can be inspected.\n",
    "\n",
    "For instance, try to increase *Daily rate of contact* to 6 and press **Run scenario**  and watch how the values changes.\n",
    "\n",
    "You can change the scenario name. After **Run scenario** a graph for each scenario will be shown. \n",
    "\n",
    "Again, you don't have to understand the Python code. "
   ]
  },
  {
   "cell_type": "code",
   "execution_count": 1,
   "metadata": {},
   "outputs": [],
   "source": [
    "import pandas as pd\n",
    "from numpy import arange \n",
    "from ipywidgets import interact, Dropdown, Checkbox, IntRangeSlider,SelectMultiple, Layout\n",
    "from ipywidgets import interactive\n",
    "\n",
    "from modelclass import model\n",
    "import modelmf\n",
    "model.modelflow_auto()  # to run the model, when loaded"
   ]
  },
  {
   "cell_type": "markdown",
   "metadata": {},
   "source": [
    "# Specify the model \n",
    "First a model specification **rcorona** is ceated. It specifies the dynamic of the different states.\n",
    "    \n",
    "Then a model instance **mcorona** from rcorona. This is a python class object which contains the solver of the model and different relevant metohds to manipulate the model. \n",
    "\n",
    "Some conventions are used setting up the model specification:\n",
    "       - (-1) after a variable means the value the day before.\n",
    "       - diff means the change in variable from the day before."
   ]
  },
  {
   "cell_type": "code",
   "execution_count": 2,
   "metadata": {},
   "outputs": [],
   "source": [
    "rcorona = '''\\\n",
    "infection_rate        = rate_contact * probability_transmision * infectious(-1) / population(-1)\n",
    "new_exposed           = infection_rate * susceptible + exo_exposed\n",
    "diff(exposed)         = new_exposed - new_infectious\n",
    "\n",
    "new_infectious        = new_exposed(-2)*0.8 + new_exposed(-3)*0.2 \n",
    "\n",
    "new_infectious_to_recover      = new_infectious * new_infectious_to_recover_rate\n",
    "exit_infectious_to_recover     = new_infectious_to_recover(-14)\n",
    "\n",
    "new_infectious_to_hospital     = new_infectious * (1-new_infectious_to_recover_rate)\n",
    "diff(infectious) = new_infectious - exit_infectious_to_recover-exit_intensive_to_recover -exit_hospital_to_recover -exit_intensive_to_dead\n",
    "\n",
    "new_hospital_to_recover        =  new_infectious_to_hospital * new_hospital_to_recover_rate\n",
    "exit_hospital_to_recover       = new_hospital_to_recover(-5)\n",
    "diff(hospital_to_recover)      = new_hospital_to_recover - exit_hospital_to_recover\n",
    "\n",
    "new_hospital_to_Intensive      =  new_infectious_to_hospital * (1-new_hospital_to_recover_rate)\n",
    "\n",
    "new_Intensive_to_recover       = new_hospital_to_Intensive * new_Intensive_to_recover_rate \n",
    "exit_intensive_to_recover      = new_intensive_to_recover(-7)\n",
    "diff(intensive_to_recover)     = new_intensive_to_recover-exit_intensive_to_recover \n",
    "\n",
    "new_Intensive_to_dead          = new_hospital_to_Intensive * (1-new_Intensive_to_recover_rate)              \n",
    "exit_intensive_to_dead         = new_intensive_to_dead(-20)\n",
    "diff(intensive_to_dead)     = new_intensive_to_dead-exit_intensive_to_dead \n",
    "\n",
    "diff(hospital_non_icu)  = new_hospital_to_recover - exit_Hospital_to_recover\n",
    "diff(hospital_icu)      = new_Intensive_to_recover+new_Intensive_to_dead-(exit_intensive_to_recover+exit_Intensive_to_dead)\n",
    "hospital                = hospital_non_icu+hospital_icu\n",
    "diff(dead) = exit_intensive_to_dead   \n",
    "\n",
    "diff(susceptible)     = -new_exposed  \n",
    "\n",
    "\n",
    "diff(recovered)       = exit_infectious_to_recover + exit_intensive_to_recover + exit_hospital_to_recover\n",
    "\n",
    "diff(population)      = -diff(dead)  \n",
    "\n",
    "dead_delta            = diff(dead)\n",
    "infectious_delta      = diff(infectious)\n",
    "hospital_delta        = diff(hospital)\n",
    "hospital_icu_delta    = diff(hospital_icu)\n",
    "\n",
    "dead_growth            = 100 * dead_delta / dead(-1)\n",
    "infectious_growth      = 100 * infectious_delta / infectious(-1)\n",
    "hospital_growth        = 100 * hospital_delta / hospital(-1)\n",
    "hospital_icu_growth    = 100 * hospital_icu_delta / hospital_icu(-1)\n",
    "\n",
    "\n",
    "'''\n",
    "mcorona = model.from_eq(rcorona)  # create a model instance which can solve the model "
   ]
  },
  {
   "cell_type": "markdown",
   "metadata": {},
   "source": [
    "# Specify a baseline with no infections\n",
    "A dataframe newdf is created. It contains baseline with information regarding the population, the infection, the spreading and the number of infested. \n",
    "\n",
    "In the baseline there there are no infections as \n",
    "EXO_EXPOSED is set to 0 "
   ]
  },
  {
   "cell_type": "code",
   "execution_count": 3,
   "metadata": {},
   "outputs": [],
   "source": [
    "DAYS = 500                               # number of days the model will run \n",
    "empty = pd.DataFrame(index=range(DAYS))  # make an empty dataframe with DAYS rows\n",
    "empty.index.name = 'Day'"
   ]
  },
  {
   "cell_type": "code",
   "execution_count": 4,
   "metadata": {},
   "outputs": [],
   "source": [
    "newdf  = empty.mfcalc('''\\\n",
    "POPULATION                     = 1000000         \n",
    "SUSCEPTIBLE                    = 1000000      \n",
    "EXO_EXPOSED                    = 0       \n",
    "NEW_INFECTIOUS_TO_RECOVER_RATE = 0.9\n",
    "NEW_HOSPITAL_TO_RECOVER_RATE   = 0.01\n",
    "NEW_INTENSIVE_TO_RECOVER_RATE  = 0.6\n",
    "RATE_CONTACT                   = 4.\n",
    "PROBABILITY_TRANSMISION        = 0.05\n",
    "'''  )"
   ]
  },
  {
   "cell_type": "markdown",
   "metadata": {},
   "source": [
    "## Display the first days of the baseline "
   ]
  },
  {
   "cell_type": "code",
   "execution_count": 5,
   "metadata": {
    "scrolled": true
   },
   "outputs": [],
   "source": [
    "newdf.head(4).T.style.format(\"{:15.2f}\")"
   ]
  },
  {
   "cell_type": "markdown",
   "metadata": {},
   "source": [
    "# Run the model, and show some results "
   ]
  },
  {
   "cell_type": "markdown",
   "metadata": {},
   "source": [
    "## Update with 10 infected from the outside on day 30"
   ]
  },
  {
   "cell_type": "code",
   "execution_count": 6,
   "metadata": {},
   "outputs": [],
   "source": [
    "baseline = model.update_from_list(newdf, f'''\n",
    "EXO_EXPOSED                    = 10         30 31    ''') # getting 10 infected at day 30  "
   ]
  },
  {
   "cell_type": "markdown",
   "metadata": {},
   "source": [
    "## Run the model"
   ]
  },
  {
   "cell_type": "code",
   "execution_count": 7,
   "metadata": {},
   "outputs": [],
   "source": [
    "base_result = mcorona(baseline,keep = f'baseline 10 persons infested at day 30')"
   ]
  },
  {
   "cell_type": "markdown",
   "metadata": {},
   "source": [
    "## Dump the model and baseline\n",
    "This allows us to load the model and baseline in other notebooks "
   ]
  },
  {
   "cell_type": "code",
   "execution_count": 8,
   "metadata": {},
   "outputs": [],
   "source": [
    "mcorona.modeldump('coronatest.pcim')"
   ]
  },
  {
   "cell_type": "markdown",
   "metadata": {},
   "source": [
    "This \"precooked\" model can be loaded in other notebooks like in this one [Interactive slideshow](Corona%20experiments%20with%20policy%20-%20interactive%20slideshow.ipynb) where you can look at other experiments"
   ]
  },
  {
   "cell_type": "markdown",
   "metadata": {},
   "source": [
    "# Display the results "
   ]
  },
  {
   "cell_type": "code",
   "execution_count": 9,
   "metadata": {},
   "outputs": [],
   "source": [
    "with mcorona.set_smpl(20,300):\n",
    "    mcorona.keep_plot(' hospital_icu dead infectious',diff=0,legend=1,dec='0')"
   ]
  },
  {
   "cell_type": "markdown",
   "metadata": {},
   "source": [
    "# Make eksperiments with a range of initial infections\n",
    "Run and display "
   ]
  },
  {
   "cell_type": "code",
   "execution_count": 10,
   "metadata": {
    "scrolled": false
   },
   "outputs": [],
   "source": [
    "mcorona_infection = model.from_eq(rcorona)     # we make a model instance for this esperiment \n",
    "start = 30                                     # Day with infection\n",
    "for infested in arange(0,11,1):                # Loop over values for number of infested from outside \n",
    "    eks = f'EXO_EXPOSED                    = {infested}      {start}  {start+1}'    # Specify the update\n",
    "    eksdf = model.update_from_list(newdf,eks)                                            # Update the baseline dataframe\n",
    "    mcorona_infection(eksdf,keep = f'{infested} infested at t={start}');  # Run the model on the updated dataframe\n",
    "    # print(eksdf.EXO_EXPOSED[30:40])\n",
    "\n",
    "mcorona_infection.keep_viz('dead hospital_icu',smpl=(75,250))"
   ]
  },
  {
   "cell_type": "markdown",
   "metadata": {},
   "source": [
    "# Try different rate of contact"
   ]
  },
  {
   "cell_type": "code",
   "execution_count": 11,
   "metadata": {},
   "outputs": [],
   "source": [
    "mcorona_rate_contact = model.from_eq(rcorona)     # we make a model instance for this experiment \n",
    "start = 30                                     # Day with infection\n",
    "for RATE_CONTACT in range(0,11,1):\n",
    "    eks = f'''\n",
    "    EXO_EXPOSED                    = 10       {start} {start+1}\n",
    "    RATE_CONTACT                   = {RATE_CONTACT}\n",
    "    '''\n",
    "    eksdf = model.update_from_list(newdf,eks)\n",
    "    mcorona_rate_contact(eksdf,keep = f'Rate of contact: {RATE_CONTACT}');\n",
    "\n",
    "mcorona_rate_contact.keep_viz('DEAD HOSPITAL_ICU')"
   ]
  },
  {
   "cell_type": "markdown",
   "metadata": {},
   "source": [
    "# Try different probability of transmission "
   ]
  },
  {
   "cell_type": "code",
   "execution_count": 12,
   "metadata": {},
   "outputs": [],
   "source": [
    "mcorona_transmission = model.from_eq(rcorona)     # we make a model instance for this esperiment \n",
    "start = 30                                        # Day with infection\n",
    "for PROBABILITY_TRANSMISION in arange(0.00,0.1,0.01):\n",
    "    eks = f'''\n",
    "    EXO_EXPOSED                    = 10       {start} {start+1}\n",
    "    RATE_CONTACT                   = 4      \n",
    "    PROBABILITY_TRANSMISION        = {PROBABILITY_TRANSMISION}\n",
    "    '''\n",
    "    eksdf = model.update_from_list(newdf,eks)\n",
    "    mcorona_transmission(eksdf,keep = f'Probability of transmission: {PROBABILITY_TRANSMISION}');\n",
    "\n",
    "mcorona_transmission.keep_viz('DEAD HOSPITAL_ICU')"
   ]
  },
  {
   "cell_type": "markdown",
   "metadata": {},
   "source": [
    "# An interactive interface\n",
    "We can also use an interactive interface to make experiment.\n",
    "\n",
    "Try the to change the different input parametres (try Daily rate of contact\n",
    " and Probability of transmission)\n",
    "then press **run scenario**. "
   ]
  },
  {
   "cell_type": "code",
   "execution_count": 13,
   "metadata": {},
   "outputs": [],
   "source": [
    "# Define user interface \n",
    "mcorona.inputwidget(basedf = empty,\n",
    "                  slidedef = {\n",
    "'Population            '              :{'var' : 'POPULATION SUSCEPTIBLE', 'min' : 0.0, 'max' : 100_000_000, 'value' : 10_000_000,'step':100_000,'op':'=start-','dec':0},\n",
    "'Number of infected t=1'              :{'var' : 'EXO_EXPOSED',            'min' : 0.0, 'max' : 1000,       'value' : 1000,      'step':10,'op':'=impulse','dec':0},\n",
    "'Share of infected with mild symptom' :{'var' : 'NEW_INFECTIOUS_TO_RECOVER_RATE',        'min' : 0.0, 'max' : 1.0,        'value' : 0.1,                'op':'='},\n",
    "'Share in hospital no ICU and recover':{'var' : 'NEW_HOSPITAL_TO_RECOVER_RATE',          'min' : 0.0, 'max' : 1.0,        'value' : 0.01,               'op':'=' },\n",
    "'Share in ICU which recovers'         :{'var' : 'NEW_INTENSIVE_TO_RECOVER_RATE',         'min' : 0.0, 'max' : 1.0,        'value' : 0.1,                'op':'='},\n",
    "'Daily rate of contact'               :{'var' : 'RATE_CONTACT',           'min' : 0.0, 'max' : 30,         'value' : 0,'step':0.1,         'op':'='},\n",
    "'Probability of transmission'         :{'var' : 'PROBABILITY_TRANSMISION','min' : 0.0, 'max' : 1.0,        'value' : 0.0,'step':0.005,  'op':'=','dec':3},\n",
    "                             },\n",
    "                 varpat='infectious recovered dead hospital* *_growth',showvar=True);"
   ]
  },
  {
   "cell_type": "code",
   "execution_count": null,
   "metadata": {},
   "outputs": [],
   "source": []
  }
 ],
 "metadata": {
  "hide_input": false,
  "kernelspec": {
   "display_name": "Python 3 (ipykernel)",
   "language": "python",
   "name": "python3"
  },
  "language_info": {
   "codemirror_mode": {
    "name": "ipython",
    "version": 3
   },
   "file_extension": ".py",
   "mimetype": "text/x-python",
   "name": "python",
   "nbconvert_exporter": "python",
   "pygments_lexer": "ipython3",
   "version": "3.9.16"
  },
  "toc": {
   "base_numbering": 1,
   "nav_menu": {},
   "number_sections": true,
   "sideBar": true,
   "skip_h1_title": false,
   "title_cell": "Table of Contents",
   "title_sidebar": "Contents",
   "toc_cell": false,
   "toc_position": {},
   "toc_section_display": true,
   "toc_window_display": false
  },
  "varInspector": {
   "cols": {
    "lenName": 16,
    "lenType": 16,
    "lenVar": 40
   },
   "kernels_config": {
    "python": {
     "delete_cmd_postfix": "",
     "delete_cmd_prefix": "del ",
     "library": "var_list.py",
     "varRefreshCmd": "print(var_dic_list())"
    },
    "r": {
     "delete_cmd_postfix": ") ",
     "delete_cmd_prefix": "rm(",
     "library": "var_list.r",
     "varRefreshCmd": "cat(var_dic_list()) "
    }
   },
   "types_to_exclude": [
    "module",
    "function",
    "builtin_function_or_method",
    "instance",
    "_Feature"
   ],
   "window_display": false
  }
 },
 "nbformat": 4,
 "nbformat_minor": 4
}
