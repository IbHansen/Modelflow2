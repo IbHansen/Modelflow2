{
 "cells": [
  {
   "cell_type": "markdown",
   "metadata": {
    "slideshow": {
     "slide_type": "slide"
    }
   },
   "source": [
    "# Run ADAM \n",
    "\n",
    "The model ADAM (Annual Danish Aggregate Model)is a model of the Danish\n",
    "economy maintained and developed by Danmarks Statistik.  A Link to the model: https://www.dst.dk/pubomtale/18836. It has 4624 equations \n",
    "\n",
    "Danmarks Statistik has kindly provided the model version JUN17X and an associated databank for this demo. \n",
    "\n",
    "The model and databank is not the current model and forecast, but serves as an example. \n",
    "\n",
    "This is a basic demo. However you can use all the features of ModelFlow to manipulate the model.  \n",
    "\n",
    "The notebook runs when loaded. To run a cell press Shift-enter, "
   ]
  },
  {
   "cell_type": "markdown",
   "metadata": {
    "slideshow": {
     "slide_type": "slide"
    }
   },
   "source": [
    "# Import ModelFlow and Pandas"
   ]
  },
  {
   "cell_type": "code",
   "execution_count": null,
   "metadata": {},
   "outputs": [],
   "source": [
    "%load_ext autoreload\n",
    "%autoreload 2"
   ]
  },
  {
   "cell_type": "code",
   "execution_count": 1,
   "metadata": {
    "slideshow": {
     "slide_type": "-"
    }
   },
   "outputs": [],
   "source": [
    "import pandas as pd\n",
    "from ipywidgets import interact,Dropdown,Checkbox\n",
    "\n",
    "\n",
    "from IPython.display import display    # , clear_output\n",
    "\n",
    "from modelclass import model \n",
    "import modeljupyter as mj\n",
    "# model.modelflow_auto()"
   ]
  },
  {
   "cell_type": "markdown",
   "metadata": {
    "slideshow": {
     "slide_type": "slide"
    }
   },
   "source": [
    "# load  model and databank\n",
    "The model and baseline has been created in [ADAM - create the model and run.ipynb](ADAM%20-%20create%20the%20model%20and%20run.ipynb)"
   ]
  },
  {
   "cell_type": "code",
   "execution_count": 2,
   "metadata": {},
   "outputs": [
    {
     "name": "stdout",
     "output_type": "stream",
     "text": [
      "file read:  C:\\modelflow2\\Examples\\ADAM\\adam\\jul17x.pcim\n"
     ]
    }
   ],
   "source": [
    "turbo=0\n",
    "madam,basedf0 = model.modelload('adam/jul17x.pcim',run=1,ljit=turbo,stringjit=0)"
   ]
  },
  {
   "cell_type": "markdown",
   "metadata": {
    "slideshow": {
     "slide_type": "slide"
    }
   },
   "source": [
    "# Define a interface to experiments\n",
    "\n",
    "The next cell defines interactive widget. \n",
    "\n",
    "You can add additional variables using by adding extra entries to the slidedef dictionary "
   ]
  },
  {
   "cell_type": "code",
   "execution_count": 3,
   "metadata": {},
   "outputs": [
    {
     "data": {
      "application/vnd.jupyter.widget-view+json": {
       "model_id": "dc11b3622a854ceaa861e0540abe7c44",
       "version_major": 2,
       "version_minor": 0
      },
      "text/plain": [
       "VBox(children=(HBox(children=(Label(value='Input new parameter ', layout=Layout(width='52%')), Label(value='Al…"
      ]
     },
     "metadata": {},
     "output_type": "display_data"
    },
    {
     "data": {
      "application/vnd.jupyter.widget-view+json": {
       "model_id": "1f20dcec78014a629b939666b363fcf0",
       "version_major": 2,
       "version_minor": 0
      },
      "text/plain": [
       "VBox(children=(Tab(children=(VBox(children=(Tab(children=(Output(), Output(), Output(), Output()), selected_in…"
      ]
     },
     "metadata": {},
     "output_type": "display_data"
    }
   ],
   "source": [
    "# ADAM Variable descriptions \n",
    "vtrans = {'ENL'  :'Balance of Payment, surplus','UL':'Unemployment','FY':'Real GDP',\n",
    "         'TFN_O' :'Public surplus','TFN_OY':'Public surplus, Percent of GDP'}\n",
    "\n",
    "# Define some input fields \n",
    "slidedef = {'Value added tax rate':                {'var':'TG','value':-0.05,'min':-0.1, 'max':0.1,'op':'+'},\n",
    "            'Extra labour supply, 1000 ':          {'var':'UQ','value':10,'min':-8,    'max':8,   'op':'+','step':1},\n",
    "            }\n",
    "# Now call the input widget to display the input\n",
    "input = madam.inputwidget(2018,2030,slidedef=slidedef\n",
    "                   ,showout=True,varpat='FY ENL UL TFN_O TFN_OY',trans=vtrans)"
   ]
  },
  {
   "cell_type": "markdown",
   "metadata": {},
   "source": [
    "# Attributions to the results from changed variables"
   ]
  },
  {
   "cell_type": "code",
   "execution_count": 4,
   "metadata": {},
   "outputs": [
    {
     "name": "stdout",
     "output_type": "stream",
     "text": [
      "Total dekomp took       :         4.057 Seconds\n",
      "TOTDEKOMP made\n"
     ]
    },
    {
     "data": {
      "application/vnd.jupyter.widget-view+json": {
       "model_id": "2aefaa5df8f04c56b0e11721b08d07fb",
       "version_major": 2,
       "version_minor": 0
      },
      "text/plain": [
       "interactive(children=(Dropdown(description='Variable', index=1469, options=('AFCO', 'AFCP', 'AFE', 'AFIBH', 'A…"
      ]
     },
     "metadata": {},
     "output_type": "display_data"
    },
    {
     "data": {
      "text/plain": [
       "None"
      ]
     },
     "metadata": {},
     "output_type": "display_data"
    }
   ],
   "source": [
    "display(madam.get_att_gui(desdic=vtrans))"
   ]
  },
  {
   "cell_type": "markdown",
   "metadata": {
    "slideshow": {
     "slide_type": "slide"
    }
   },
   "source": [
    "# Attributions to an equation from its input. \n",
    "You can decide how many levels back in the dependency tree you want to calculate the attributions "
   ]
  },
  {
   "cell_type": "code",
   "execution_count": 10,
   "metadata": {
    "scrolled": false
   },
   "outputs": [
    {
     "data": {
      "application/vnd.jupyter.widget-view+json": {
       "model_id": "3809bf0602ad413dacc6b759f9e19054",
       "version_major": 2,
       "version_minor": 0
      },
      "text/plain": [
       "interactive(children=(Dropdown(description='Variable', index=1469, options=('AFCO', 'AFCP', 'AFE', 'AFIBH', 'A…"
      ]
     },
     "metadata": {},
     "output_type": "display_data"
    }
   ],
   "source": [
    "@interact(Threshold = (0.0,10.0,1.))\n",
    "def explain(Variable  = Dropdown(options = sorted(madam.endogene),value='FY'),\n",
    "            Pct       = Checkbox(description='Percent growth',value=False),\n",
    "            Periode   = Dropdown(options = madam.current_per,value=2022),\n",
    "            Threshold = 0.0):\n",
    "    mj.get_frml_latex(madam,Variable)\n",
    "    display(madam.dekomp_plot(Variable,pct=Pct,threshold=Threshold))\n",
    "    display(madam.dekomp_plot_per(Variable,pct=Pct,threshold=Threshold,per=Periode,sort=True))\n"
   ]
  },
  {
   "cell_type": "markdown",
   "metadata": {},
   "source": [
    "# Attribution going back in the dependency tree\n",
    "You might have to zoom in order to look at the actual numbers.\n",
    "Also the result can be inspected in the graph/ folder.\n",
    "\n",
    "Pointing at a variable name will display the variable label."
   ]
  },
  {
   "cell_type": "code",
   "execution_count": null,
   "metadata": {},
   "outputs": [],
   "source": [
    "madam.modeldash('UL',jupyter=1,inline=False,dashport=5005\n",
    "            )"
   ]
  }
 ],
 "metadata": {
  "hide_input": false,
  "kernelspec": {
   "display_name": "Python 3 (ipykernel)",
   "language": "python",
   "name": "python3"
  },
  "language_info": {
   "codemirror_mode": {
    "name": "ipython",
    "version": 3
   },
   "file_extension": ".py",
   "mimetype": "text/x-python",
   "name": "python",
   "nbconvert_exporter": "python",
   "pygments_lexer": "ipython3",
   "version": "3.10.11"
  },
  "toc": {
   "base_numbering": 1,
   "nav_menu": {},
   "number_sections": true,
   "sideBar": true,
   "skip_h1_title": false,
   "title_cell": "Table of Contents",
   "title_sidebar": "Contents",
   "toc_cell": false,
   "toc_position": {
    "height": "calc(100% - 180px)",
    "left": "10px",
    "top": "150px",
    "width": "164.996px"
   },
   "toc_section_display": true,
   "toc_window_display": false
  },
  "varInspector": {
   "cols": {
    "lenName": 16,
    "lenType": 16,
    "lenVar": 40
   },
   "kernels_config": {
    "python": {
     "delete_cmd_postfix": "",
     "delete_cmd_prefix": "del ",
     "library": "var_list.py",
     "varRefreshCmd": "print(var_dic_list())"
    },
    "r": {
     "delete_cmd_postfix": ") ",
     "delete_cmd_prefix": "rm(",
     "library": "var_list.r",
     "varRefreshCmd": "cat(var_dic_list()) "
    }
   },
   "oldHeight": 134.43022200000001,
   "position": {
    "height": "156.55px",
    "left": "1033.67px",
    "right": "20px",
    "top": "238px",
    "width": "612.183px"
   },
   "types_to_exclude": [
    "module",
    "function",
    "builtin_function_or_method",
    "instance",
    "_Feature"
   ],
   "varInspector_section_display": "block",
   "window_display": true
  }
 },
 "nbformat": 4,
 "nbformat_minor": 4
}
