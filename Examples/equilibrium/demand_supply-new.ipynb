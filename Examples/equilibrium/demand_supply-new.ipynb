{
 "cells": [
  {
   "cell_type": "markdown",
   "metadata": {},
   "source": [
    "# An un-normalized model example\n",
    "A model of demand and supply, where the price is implicit determines. \n",
    "\n",
    "The model is first un-normalized: that is: $y = f(x,y)$ is changed to $0 = y - f(x,y)$"
   ]
  },
  {
   "cell_type": "code",
   "execution_count": 2,
   "metadata": {},
   "outputs": [
    {
     "data": {
      "text/html": [
       "\n",
       "        <style>\n",
       "            div#notebook-container    { width: 95%; }\n",
       "            div#menubar-container     { width: 65%; }\n",
       "            div#maintoolbar-container { width: 99%; }\n",
       "        </style>\n",
       "        "
      ],
      "text/plain": [
       "<IPython.core.display.HTML object>"
      ]
     },
     "metadata": {},
     "output_type": "display_data"
    }
   ],
   "source": [
    "import pandas as pd\n",
    "import numpy as np\n",
    "\n",
    "\n",
    "from modelclass import model\n",
    "import modelmanipulation as mp \n",
    "\n",
    "#model.modelflow_auto()\n",
    "model.widescreen()"
   ]
  },
  {
   "cell_type": "markdown",
   "metadata": {},
   "source": [
    "# Specify Model "
   ]
  },
  {
   "cell_type": "code",
   "execution_count": 3,
   "metadata": {},
   "outputs": [],
   "source": [
    "rdm = '''\\\n",
    "             demand = demand_ofset + demand_slope * price + demand_second * price**2\n",
    "             supply = supply_ofset + supply_slope * price + supply_second * price**2\n",
    "<endo=price> supply = demand  \n",
    "'''"
   ]
  },
  {
   "cell_type": "markdown",
   "metadata": {},
   "source": [
    "# rewrite the model as an un normalized model 0 = G(y,x)\n",
    "The nodel is transformed. The goal of the newton solving is to make sure that `<variable>___RES` becomes very close to 0.  "
   ]
  },
  {
   "cell_type": "code",
   "execution_count": 4,
   "metadata": {},
   "outputs": [
    {
     "name": "stdout",
     "output_type": "stream",
     "text": [
      "FRML <> DEMAND___RES = ( DEMAND_OFSET + DEMAND_SLOPE * PRICE + DEMAND_SECOND * PRICE**2 ) - ( DEMAND ) $\n",
      "FRML <> SUPPLY___RES = ( SUPPLY_OFSET + SUPPLY_SLOPE * PRICE + SUPPLY_SECOND * PRICE**2 ) - ( SUPPLY ) $\n",
      "FRML <ENDO=PRICE> PRICE___RES = ( DEMAND ) - ( SUPPLY ) $\n"
     ]
    }
   ],
   "source": [
    "fdm  = mp.un_normalize_simpel(rdm)\n",
    "print(fdm)"
   ]
  },
  {
   "cell_type": "markdown",
   "metadata": {},
   "source": [
    "# Create a model instance "
   ]
  },
  {
   "cell_type": "code",
   "execution_count": 5,
   "metadata": {},
   "outputs": [],
   "source": [
    "mdm = model(fdm,modelname='A demand/supply model')"
   ]
  },
  {
   "cell_type": "markdown",
   "metadata": {},
   "source": [
    "# Now we need some data, so we make a datataframe. \n",
    "it has three rows with different parameters "
   ]
  },
  {
   "cell_type": "code",
   "execution_count": 6,
   "metadata": {},
   "outputs": [],
   "source": [
    "grunddf = pd.DataFrame(0.0,index=[1,2,3],columns=['DEMAND_OFSET', 'DEMAND_SLOPE',\n",
    " 'DEMAND_SECOND', 'SUPPLY_OFSET', 'SUPPLY_SLOPE', 'SUPPLY_SECOND', 'PRICE'])"
   ]
  },
  {
   "cell_type": "markdown",
   "metadata": {},
   "source": [
    "# Stuff some values into the Dataframe\n",
    "We start out with linear demand and supply curves"
   ]
  },
  {
   "cell_type": "code",
   "execution_count": 20,
   "metadata": {},
   "outputs": [
    {
     "name": "stdout",
     "output_type": "stream",
     "text": [
      "                 1    2    3\n",
      "DEMAND_OFSET   1.0  0.9  0.8\n",
      "DEMAND_SLOPE  -0.5 -0.5 -0.5\n",
      "DEMAND_SECOND  0.0  0.0  0.0\n",
      "SUPPLY_OFSET   0.0  0.0  0.0\n",
      "SUPPLY_SLOPE   0.5  0.5  0.5\n",
      "SUPPLY_SECOND  0.0  0.0  0.0\n",
      "PRICE          4.0  4.0  4.0\n"
     ]
    }
   ],
   "source": [
    "demandparam = 1,-0.5,0.0   # down sloping intersection 1, no second order \n",
    "supplyparam = 0.0,0.5,0.   # up sloping intersection 0, no second order \n",
    "\n",
    "grunddf.loc[:,:] = demandparam+supplyparam+(4.,)\n",
    "grunddf.loc[:,'DEMAND_OFSET']=[1.0,0.9,0.8]\n",
    "\n",
    "print(grunddf.T)"
   ]
  },
  {
   "cell_type": "markdown",
   "metadata": {},
   "source": [
    "# Run the model one experiment at a time \n",
    "As the model is linear, it will converge in one iteration"
   ]
  },
  {
   "cell_type": "code",
   "execution_count": 8,
   "metadata": {},
   "outputs": [
    {
     "data": {
      "text/plain": [
       "False"
      ]
     },
     "execution_count": 8,
     "metadata": {},
     "output_type": "execute_result"
    }
   ],
   "source": [
    "mdm.normalized\n"
   ]
  },
  {
   "cell_type": "code",
   "execution_count": 9,
   "metadata": {
    "scrolled": false
   },
   "outputs": [
    {
     "name": "stdout",
     "output_type": "stream",
     "text": [
      "Will start calculating: A demand/supply model\n",
      "Prepare model for calculate derivatives for Newton solver\n",
      "Model                           : A demand/supply model\n",
      "Number of endogeneus variables  : 3\n",
      "Number of derivatives           : 6\n",
      "A demand/supply model Derivatives  no lags and leads calculated  \n",
      "Iteration  0 Sum of distances        3.000000\n",
      "Iteration  1 Sum of distances        0.000000\n",
      "1 Solved in 1 iterations\n",
      "Iteration  0 Sum of distances        3.100000\n",
      "Iteration  1 Sum of distances        0.000000\n",
      "2 Solved in 1 iterations\n",
      "Iteration  0 Sum of distances        3.200000\n",
      "Iteration  1 Sum of distances        0.000000\n",
      "3 Solved in 1 iterations\n",
      "A demand/supply model solved  \n"
     ]
    }
   ],
   "source": [
    "result0 = mdm(grunddf,max_iterations=30,silent=0,nonlin=2,forcenum=0,solver='newton_un_normalized',timeit=0)"
   ]
  },
  {
   "cell_type": "code",
   "execution_count": 10,
   "metadata": {},
   "outputs": [
    {
     "data": {
      "text/plain": [
       "1    1.0\n",
       "2    0.9\n",
       "3    0.8\n",
       "Name: PRICE, dtype: float64"
      ]
     },
     "execution_count": 10,
     "metadata": {},
     "output_type": "execute_result"
    }
   ],
   "source": [
    "result0.PRICE"
   ]
  },
  {
   "cell_type": "code",
   "execution_count": 11,
   "metadata": {},
   "outputs": [
    {
     "name": "stdout",
     "output_type": "stream",
     "text": [
      "A demand/supply model Derivatives  no lags and leads calculated  \n"
     ]
    },
    {
     "data": {
      "text/plain": [
       "{1:               DEMAND___RES  PRICE___RES  SUPPLY___RES\n",
       " DEMAND___RES          -1.0         -0.5           0.0\n",
       " PRICE___RES            1.0          0.0          -1.0\n",
       " SUPPLY___RES           0.0          0.5          -1.0,\n",
       " 2:               DEMAND___RES  PRICE___RES  SUPPLY___RES\n",
       " DEMAND___RES          -1.0         -0.5           0.0\n",
       " PRICE___RES            1.0          0.0          -1.0\n",
       " SUPPLY___RES           0.0          0.5          -1.0,\n",
       " 3:               DEMAND___RES  PRICE___RES  SUPPLY___RES\n",
       " DEMAND___RES          -1.0         -0.5           0.0\n",
       " PRICE___RES            1.0          0.0          -1.0\n",
       " SUPPLY___RES           0.0          0.5          -1.0}"
      ]
     },
     "execution_count": 11,
     "metadata": {},
     "output_type": "execute_result"
    }
   ],
   "source": [
    "mdm.newton_diff.get_diff_df_1per()"
   ]
  },
  {
   "cell_type": "code",
   "execution_count": 16,
   "metadata": {},
   "outputs": [
    {
     "name": "stdout",
     "output_type": "stream",
     "text": [
      "A demand/supply model Derivatives  no lags and leads calculated  \n"
     ]
    },
    {
     "data": {
      "text/html": [
       "<div>\n",
       "<style scoped>\n",
       "    .dataframe tbody tr th:only-of-type {\n",
       "        vertical-align: middle;\n",
       "    }\n",
       "\n",
       "    .dataframe tbody tr th {\n",
       "        vertical-align: top;\n",
       "    }\n",
       "\n",
       "    .dataframe thead th {\n",
       "        text-align: right;\n",
       "    }\n",
       "</style>\n",
       "<table border=\"1\" class=\"dataframe\">\n",
       "  <thead>\n",
       "    <tr style=\"text-align: right;\">\n",
       "      <th></th>\n",
       "      <th>DEMAND___RES</th>\n",
       "      <th>PRICE___RES</th>\n",
       "      <th>SUPPLY___RES</th>\n",
       "    </tr>\n",
       "  </thead>\n",
       "  <tbody>\n",
       "    <tr>\n",
       "      <th>DEMAND___RES</th>\n",
       "      <td>-1.0</td>\n",
       "      <td>-0.5</td>\n",
       "      <td>0.0</td>\n",
       "    </tr>\n",
       "    <tr>\n",
       "      <th>PRICE___RES</th>\n",
       "      <td>1.0</td>\n",
       "      <td>0.0</td>\n",
       "      <td>-1.0</td>\n",
       "    </tr>\n",
       "    <tr>\n",
       "      <th>SUPPLY___RES</th>\n",
       "      <td>0.0</td>\n",
       "      <td>0.5</td>\n",
       "      <td>-1.0</td>\n",
       "    </tr>\n",
       "  </tbody>\n",
       "</table>\n",
       "</div>"
      ],
      "text/plain": [
       "              DEMAND___RES  PRICE___RES  SUPPLY___RES\n",
       "DEMAND___RES          -1.0         -0.5           0.0\n",
       "PRICE___RES            1.0          0.0          -1.0\n",
       "SUPPLY___RES           0.0          0.5          -1.0"
      ]
     },
     "execution_count": 16,
     "metadata": {},
     "output_type": "execute_result"
    }
   ],
   "source": [
    "mat = mdm.newton_diff.get_diff_df_1per()[1]\n",
    "mat"
   ]
  },
  {
   "cell_type": "code",
   "execution_count": 18,
   "metadata": {},
   "outputs": [
    {
     "data": {
      "text/html": [
       "<div>\n",
       "<style scoped>\n",
       "    .dataframe tbody tr th:only-of-type {\n",
       "        vertical-align: middle;\n",
       "    }\n",
       "\n",
       "    .dataframe tbody tr th {\n",
       "        vertical-align: top;\n",
       "    }\n",
       "\n",
       "    .dataframe thead th {\n",
       "        text-align: right;\n",
       "    }\n",
       "</style>\n",
       "<table border=\"1\" class=\"dataframe\">\n",
       "  <thead>\n",
       "    <tr style=\"text-align: right;\">\n",
       "      <th></th>\n",
       "      <th>DEMAND___RES</th>\n",
       "      <th>PRICE___RES</th>\n",
       "      <th>SUPPLY___RES</th>\n",
       "    </tr>\n",
       "  </thead>\n",
       "  <tbody>\n",
       "    <tr>\n",
       "      <th>DEMAND___RES</th>\n",
       "      <td>-0.5</td>\n",
       "      <td>0.5</td>\n",
       "      <td>-0.5</td>\n",
       "    </tr>\n",
       "    <tr>\n",
       "      <th>PRICE___RES</th>\n",
       "      <td>-1.0</td>\n",
       "      <td>-1.0</td>\n",
       "      <td>1.0</td>\n",
       "    </tr>\n",
       "    <tr>\n",
       "      <th>SUPPLY___RES</th>\n",
       "      <td>-0.5</td>\n",
       "      <td>-0.5</td>\n",
       "      <td>-0.5</td>\n",
       "    </tr>\n",
       "  </tbody>\n",
       "</table>\n",
       "</div>"
      ],
      "text/plain": [
       "              DEMAND___RES  PRICE___RES  SUPPLY___RES\n",
       "DEMAND___RES          -0.5          0.5          -0.5\n",
       "PRICE___RES           -1.0         -1.0           1.0\n",
       "SUPPLY___RES          -0.5         -0.5          -0.5"
      ]
     },
     "execution_count": 18,
     "metadata": {},
     "output_type": "execute_result"
    }
   ],
   "source": [
    "mat_inv = pd.DataFrame(np.linalg.inv(mat.values), mat.columns, mat.index)\n",
    "mat_inv"
   ]
  },
  {
   "cell_type": "code",
   "execution_count": 19,
   "metadata": {},
   "outputs": [
    {
     "data": {
      "text/html": [
       "<div>\n",
       "<style scoped>\n",
       "    .dataframe tbody tr th:only-of-type {\n",
       "        vertical-align: middle;\n",
       "    }\n",
       "\n",
       "    .dataframe tbody tr th {\n",
       "        vertical-align: top;\n",
       "    }\n",
       "\n",
       "    .dataframe thead th {\n",
       "        text-align: right;\n",
       "    }\n",
       "</style>\n",
       "<table border=\"1\" class=\"dataframe\">\n",
       "  <thead>\n",
       "    <tr style=\"text-align: right;\">\n",
       "      <th></th>\n",
       "      <th>DEMAND___RES</th>\n",
       "      <th>PRICE___RES</th>\n",
       "      <th>SUPPLY___RES</th>\n",
       "    </tr>\n",
       "  </thead>\n",
       "  <tbody>\n",
       "    <tr>\n",
       "      <th>DEMAND___RES</th>\n",
       "      <td>1.0</td>\n",
       "      <td>0.0</td>\n",
       "      <td>0.0</td>\n",
       "    </tr>\n",
       "    <tr>\n",
       "      <th>PRICE___RES</th>\n",
       "      <td>0.0</td>\n",
       "      <td>1.0</td>\n",
       "      <td>0.0</td>\n",
       "    </tr>\n",
       "    <tr>\n",
       "      <th>SUPPLY___RES</th>\n",
       "      <td>0.0</td>\n",
       "      <td>0.0</td>\n",
       "      <td>1.0</td>\n",
       "    </tr>\n",
       "  </tbody>\n",
       "</table>\n",
       "</div>"
      ],
      "text/plain": [
       "              DEMAND___RES  PRICE___RES  SUPPLY___RES\n",
       "DEMAND___RES           1.0          0.0           0.0\n",
       "PRICE___RES            0.0          1.0           0.0\n",
       "SUPPLY___RES           0.0          0.0           1.0"
      ]
     },
     "execution_count": 19,
     "metadata": {},
     "output_type": "execute_result"
    }
   ],
   "source": [
    "mat @ mat_inv"
   ]
  },
  {
   "cell_type": "code",
   "execution_count": null,
   "metadata": {},
   "outputs": [],
   "source": []
  },
  {
   "cell_type": "code",
   "execution_count": null,
   "metadata": {},
   "outputs": [],
   "source": []
  },
  {
   "cell_type": "markdown",
   "metadata": {},
   "source": [
    "# Now make the demand nonlinear \n",
    "By setting DEMAND_SECOND to a non-zero value  \n",
    "\n",
    "Now solving requires more iterations and updating of the Jacobi matrix"
   ]
  },
  {
   "cell_type": "code",
   "execution_count": 10,
   "metadata": {},
   "outputs": [
    {
     "name": "stdout",
     "output_type": "stream",
     "text": [
      "   DEMAND_OFSET  DEMAND_SLOPE  DEMAND_SECOND  SUPPLY_OFSET  SUPPLY_SLOPE  \\\n",
      "1           1.0          -0.5            0.2           0.0           0.5   \n",
      "2           0.9          -0.5            0.2           0.0           0.5   \n",
      "3           0.8          -0.5            0.2           0.0           0.5   \n",
      "\n",
      "   SUPPLY_SECOND  PRICE  \n",
      "1            0.0    4.0  \n",
      "2            0.0    4.0  \n",
      "3            0.0    4.0  \n"
     ]
    }
   ],
   "source": [
    "eksdf = model.update_from_list(grunddf,'DEMAND_SECOND = 0.2') \n",
    "print(eksdf)"
   ]
  },
  {
   "cell_type": "code",
   "execution_count": 11,
   "metadata": {},
   "outputs": [
    {
     "name": "stdout",
     "output_type": "stream",
     "text": [
      "Will start calculating: A demand/supply model\n",
      "A demand/supply model Derivatives  no lags and leads calculated  \n",
      "Iteration  0 Sum of distances        4.200000\n",
      "Iteration  1 Sum of distances        0.022222\n",
      "Iteration  2 Sum of distances        0.005213\n",
      "Updating solver, iteration 2\n",
      "A demand/supply model Derivatives  no lags and leads calculated  \n",
      "Iteration  3 Sum of distances        0.000027\n",
      "1 Solved in 3 iterations\n",
      "Iteration  0 Sum of distances        4.100000\n",
      "Iteration  1 Sum of distances        0.022991\n",
      "Iteration  2 Sum of distances        0.003552\n",
      "Updating solver, iteration 2\n",
      "A demand/supply model Derivatives  no lags and leads calculated  \n",
      "Iteration  3 Sum of distances        0.000009\n",
      "2 Solved in 3 iterations\n",
      "Iteration  0 Sum of distances        4.000000\n",
      "Iteration  1 Sum of distances        0.000000\n",
      "3 Solved in 1 iterations\n",
      "A demand/supply model solved  \n"
     ]
    },
    {
     "data": {
      "text/plain": [
       "1    3.618094\n",
       "2    3.822893\n",
       "3    4.000000\n",
       "Name: PRICE, dtype: float64"
      ]
     },
     "execution_count": 11,
     "metadata": {},
     "output_type": "execute_result"
    }
   ],
   "source": [
    "result1 = mdm(eksdf,max_iterations=30,silent=0,nonlin=2,forcenum=0,newton_reset=1)\n",
    "result1.PRICE"
   ]
  },
  {
   "cell_type": "markdown",
   "metadata": {},
   "source": [
    "# Look at the results"
   ]
  },
  {
   "cell_type": "code",
   "execution_count": 12,
   "metadata": {},
   "outputs": [
    {
     "data": {
      "text/plain": [
       "Exogeneous : PRICE:   \n",
       " Values : \n",
       "             1         2    3\n",
       "Base  1.000000  0.900000  0.8\n",
       "Last  3.618094  3.822893  4.0\n",
       "Diff  2.618094  2.922893  3.2"
      ]
     },
     "execution_count": 12,
     "metadata": {},
     "output_type": "execute_result"
    }
   ],
   "source": [
    "mdm.price "
   ]
  },
  {
   "cell_type": "markdown",
   "metadata": {},
   "source": [
    "# Inspect the differential coefficients\n"
   ]
  },
  {
   "cell_type": "code",
   "execution_count": 13,
   "metadata": {},
   "outputs": [
    {
     "name": "stdout",
     "output_type": "stream",
     "text": [
      "A demand/supply model Derivatives  no lags and leads calculated  \n"
     ]
    },
    {
     "data": {
      "text/latex": [
       "$\\begin{eqnarray*} SUPPLY\\_\\_\\_RES_t  & = &  ( SUPPLY\\_OFSET_t + SUPPLY\\_SLOPE_t \\times PRICE_t + SUPPLY\\_SECOND_t \\times PRICE_t ** 2 ) - ( SUPPLY_t ) \\end{eqnarray*}$"
      ],
      "text/plain": [
       "<IPython.core.display.Latex object>"
      ]
     },
     "metadata": {},
     "output_type": "display_data"
    },
    {
     "data": {
      "text/latex": [
       "\\begin{eqnarray*}\\frac{\\partial SUPPLY\\_\\_\\_RES_t}{\\partial PRICE_t} & = & 2 \\times PRICE_t \\times SUPPLY\\_SECOND_t + SUPPLY\\_SLOPE_t\\\\\\frac{\\partial SUPPLY\\_\\_\\_RES_t}{\\partial SUPPLY_t} & = & - 1\\end{eqnarray*} "
      ],
      "text/plain": [
       "<IPython.core.display.Latex object>"
      ]
     },
     "metadata": {},
     "output_type": "display_data"
    },
    {
     "data": {
      "text/markdown": [
       "|                                                        |    1 |    2 |    3 |\n",
       "|:-------------------------------------------------------|-----:|-----:|-----:|\n",
       "| $\\frac{\\partial SUPPLY\\_\\_\\_RES_t}{\\partial PRICE_t}$  |  0.5 |  0.5 |  0.5 |\n",
       "| $\\frac{\\partial SUPPLY\\_\\_\\_RES_t}{\\partial SUPPLY_t}$ | -1   | -1   | -1   |"
      ],
      "text/plain": [
       "<IPython.core.display.Markdown object>"
      ]
     },
     "metadata": {},
     "output_type": "display_data"
    },
    {
     "data": {
      "text/latex": [
       "$\\begin{eqnarray*} PRICE\\_\\_\\_RES_t  & = &  ( DEMAND_t ) - ( SUPPLY_t ) \\end{eqnarray*}$"
      ],
      "text/plain": [
       "<IPython.core.display.Latex object>"
      ]
     },
     "metadata": {},
     "output_type": "display_data"
    },
    {
     "data": {
      "text/latex": [
       "\\begin{eqnarray*}\\frac{\\partial PRICE\\_\\_\\_RES_t}{\\partial DEMAND_t} & = & 1\\\\\\frac{\\partial PRICE\\_\\_\\_RES_t}{\\partial SUPPLY_t} & = & - 1\\end{eqnarray*} "
      ],
      "text/plain": [
       "<IPython.core.display.Latex object>"
      ]
     },
     "metadata": {},
     "output_type": "display_data"
    },
    {
     "data": {
      "text/markdown": [
       "|                                                       |   1 |   2 |   3 |\n",
       "|:------------------------------------------------------|----:|----:|----:|\n",
       "| $\\frac{\\partial PRICE\\_\\_\\_RES_t}{\\partial DEMAND_t}$ |   1 |   1 |   1 |\n",
       "| $\\frac{\\partial PRICE\\_\\_\\_RES_t}{\\partial SUPPLY_t}$ |  -1 |  -1 |  -1 |"
      ],
      "text/plain": [
       "<IPython.core.display.Markdown object>"
      ]
     },
     "metadata": {},
     "output_type": "display_data"
    },
    {
     "data": {
      "text/latex": [
       "$\\begin{eqnarray*} DEMAND\\_\\_\\_RES_t  & = &  ( DEMAND\\_OFSET_t + DEMAND\\_SLOPE_t \\times PRICE_t + DEMAND\\_SECOND_t \\times PRICE_t ** 2 ) - ( DEMAND_t ) \\end{eqnarray*}$"
      ],
      "text/plain": [
       "<IPython.core.display.Latex object>"
      ]
     },
     "metadata": {},
     "output_type": "display_data"
    },
    {
     "data": {
      "text/latex": [
       "\\begin{eqnarray*}\\frac{\\partial DEMAND\\_\\_\\_RES_t}{\\partial DEMAND_t} & = & - 1\\\\\\frac{\\partial DEMAND\\_\\_\\_RES_t}{\\partial PRICE_t} & = & 2 \\times DEMAND\\_SECOND_t \\times PRICE_t + DEMAND\\_SLOPE_t\\end{eqnarray*} "
      ],
      "text/plain": [
       "<IPython.core.display.Latex object>"
      ]
     },
     "metadata": {},
     "output_type": "display_data"
    },
    {
     "data": {
      "text/markdown": [
       "|                                                        |         1 |        2 |    3 |\n",
       "|:-------------------------------------------------------|----------:|---------:|-----:|\n",
       "| $\\frac{\\partial DEMAND\\_\\_\\_RES_t}{\\partial DEMAND_t}$ | -1        | -1       | -1   |\n",
       "| $\\frac{\\partial DEMAND\\_\\_\\_RES_t}{\\partial PRICE_t}$  |  0.947237 |  1.02916 |  1.1 |"
      ],
      "text/plain": [
       "<IPython.core.display.Markdown object>"
      ]
     },
     "metadata": {},
     "output_type": "display_data"
    }
   ],
   "source": [
    "mdm.newton_diff.show_diff_latex()"
   ]
  },
  {
   "cell_type": "code",
   "execution_count": 16,
   "metadata": {},
   "outputs": [
    {
     "name": "stdout",
     "output_type": "stream",
     "text": [
      "A demand/supply model Derivatives  no lags and leads calculated  \n"
     ]
    },
    {
     "data": {
      "text/plain": [
       "{1:               DEMAND___RES  PRICE___RES  SUPPLY___RES\n",
       " DEMAND___RES          -1.0     0.947237           0.0\n",
       " PRICE___RES            1.0     0.000000          -1.0\n",
       " SUPPLY___RES           0.0     0.500000          -1.0,\n",
       " 2:               DEMAND___RES  PRICE___RES  SUPPLY___RES\n",
       " DEMAND___RES          -1.0     1.029157           0.0\n",
       " PRICE___RES            1.0     0.000000          -1.0\n",
       " SUPPLY___RES           0.0     0.500000          -1.0,\n",
       " 3:               DEMAND___RES  PRICE___RES  SUPPLY___RES\n",
       " DEMAND___RES          -1.0          1.1           0.0\n",
       " PRICE___RES            1.0          0.0          -1.0\n",
       " SUPPLY___RES           0.0          0.5          -1.0}"
      ]
     },
     "execution_count": 16,
     "metadata": {},
     "output_type": "execute_result"
    }
   ],
   "source": [
    "mdm.newton_diff.get_diff_df_1per()"
   ]
  },
  {
   "cell_type": "code",
   "execution_count": null,
   "metadata": {},
   "outputs": [],
   "source": []
  },
  {
   "cell_type": "code",
   "execution_count": null,
   "metadata": {},
   "outputs": [],
   "source": []
  }
 ],
 "metadata": {
  "hide_input": false,
  "kernelspec": {
   "display_name": "Python 3 (ipykernel)",
   "language": "python",
   "name": "python3"
  },
  "language_info": {
   "codemirror_mode": {
    "name": "ipython",
    "version": 3
   },
   "file_extension": ".py",
   "mimetype": "text/x-python",
   "name": "python",
   "nbconvert_exporter": "python",
   "pygments_lexer": "ipython3",
   "version": "3.10.11"
  },
  "toc": {
   "base_numbering": 1,
   "nav_menu": {},
   "number_sections": true,
   "sideBar": true,
   "skip_h1_title": true,
   "title_cell": "Table of Contents",
   "title_sidebar": "Contents",
   "toc_cell": false,
   "toc_position": {},
   "toc_section_display": true,
   "toc_window_display": false
  },
  "varInspector": {
   "cols": {
    "lenName": 16,
    "lenType": 16,
    "lenVar": 40
   },
   "kernels_config": {
    "python": {
     "delete_cmd_postfix": "",
     "delete_cmd_prefix": "del ",
     "library": "var_list.py",
     "varRefreshCmd": "print(var_dic_list())"
    },
    "r": {
     "delete_cmd_postfix": ") ",
     "delete_cmd_prefix": "rm(",
     "library": "var_list.r",
     "varRefreshCmd": "cat(var_dic_list()) "
    }
   },
   "types_to_exclude": [
    "module",
    "function",
    "builtin_function_or_method",
    "instance",
    "_Feature"
   ],
   "window_display": false
  }
 },
 "nbformat": 4,
 "nbformat_minor": 4
}
