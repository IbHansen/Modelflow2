{
 "cells": [
  {
   "cell_type": "code",
   "execution_count": 1,
   "metadata": {},
   "outputs": [],
   "source": [
    "%matplotlib inline"
   ]
  },
  {
   "cell_type": "code",
   "execution_count": 30,
   "metadata": {
    "slideshow": {
     "slide_type": "skip"
    }
   },
   "outputs": [],
   "source": [
    "\n",
    "from modelclass import model\n",
    "from modelmanipulation import explode\n",
    "from modelmanipulation import doable "
   ]
  },
  {
   "cell_type": "markdown",
   "metadata": {
    "slideshow": {
     "slide_type": "slide"
    }
   },
   "source": [
    "## LIST command, define list and sublists    \n",
    "\n",
    "Lists are used to direct how the do command explodes a template model. \n",
    "And to define sum functions, and for matrix packing and unpacking. \n",
    "\n",
    "``` \n",
    "List <listname> = <sublistname0> : <sl00> <sl01> .. <sl0n> / \n",
    "                     <sublistname1> : <sl10> <sl11> .. <sl1n> /\n",
    "                     .............................]\n",
    "                     $\n",
    "```\n",
    "**There should always be the same number of elements in sublists**\n",
    "\n",
    "Example with one sublist: \n",
    "\n",
    "```\n",
    "LIST BANKLIST = BANK : ATBAW DEHAS DEHSH LUPCK DELBY DEVWF ESSAB  $\n",
    "```\n",
    "\n",
    "Example with two sublist: \n",
    "\n",
    "```\n",
    "LIST CRCOLIST  =  CRCOUNTRY   : UK DE CH NL BE CA JP KY LU HK  / \n",
    "                  CRMODELGEO  : UK DE CH NL BE CA JP R20 LU HK $\n",
    "``` \n",
    "\n",
    "If a list name is created several times, the first time is the used. This makes it more easy to make prototypes for a few banks.\n"
   ]
  },
  {
   "cell_type": "markdown",
   "metadata": {
    "slideshow": {
     "slide_type": "skip"
    }
   },
   "source": [
    "## DO ...  ENDDO, loop over lists   \n",
    "\n",
    "```\n",
    "do <listname> $\n",
    "stuff \n",
    "enddo $\n",
    "```\n",
    "\n",
    "Will take take the stuff and make a copy for each element of the sublists in list name. "
   ]
  },
  {
   "cell_type": "code",
   "execution_count": 3,
   "metadata": {
    "slideshow": {
     "slide_type": "slide"
    }
   },
   "outputs": [
    {
     "name": "stdout",
     "output_type": "stream",
     "text": [
      "LIST BANKLIST = BANK : IB SOREN $\n",
      "PROFIT_IB = REVENUE_IB - EXPENSES_IB $\n",
      "PROFIT_SOREN = REVENUE_SOREN - EXPENSES_SOREN $\n"
     ]
    }
   ],
   "source": [
    "mtest = ''' \n",
    "list banklist = bank : ib soren $\n",
    "do banklist $\n",
    "     profit_{bank} = revenue_{bank} - expenses_{bank} $\n",
    "enddo $ \n",
    "'''\n",
    "\n",
    "print(explode(mtest))"
   ]
  },
  {
   "cell_type": "markdown",
   "metadata": {},
   "source": [
    "### Use of sublist to inject additional information "
   ]
  },
  {
   "cell_type": "code",
   "execution_count": 5,
   "metadata": {
    "slideshow": {
     "slide_type": "slide"
    }
   },
   "outputs": [
    {
     "name": "stdout",
     "output_type": "stream",
     "text": [
      "LIST BANKLIST = BANK    : IB      SOREN  MARIE /\n",
      "                COUNTRY : DENMARK SWEDEN DENMARK  $\n",
      "FRML <> PROFIT_IB = REVENUE_IB - EXPENSES_IB $\n",
      "FRML <> EXPENSES_IB = FACTOR_DENMARK * REVENUE_IB $\n",
      "FRML <> PROFIT_SOREN = REVENUE_SOREN - EXPENSES_SOREN $\n",
      "FRML <> EXPENSES_SOREN = FACTOR_SWEDEN * REVENUE_SOREN $\n",
      "FRML <> PROFIT_MARIE = REVENUE_MARIE - EXPENSES_MARIE $\n",
      "FRML <> EXPENSES_MARIE = FACTOR_DENMARK * REVENUE_MARIE $\n"
     ]
    }
   ],
   "source": [
    "mtest = ''' \n",
    "list banklist = bank    : ib      soren  marie /\n",
    "                country : denmark sweden denmark  $\n",
    "                \n",
    "do banklist $\n",
    "    frml <> profit_{bank} = revenue_{bank} - expenses_{bank} $\n",
    "    frml <> expenses_{bank} = factor_{country} * revenue_{bank} $\n",
    "enddo $ \n",
    "'''\n",
    "\n",
    "print(explode(mtest))"
   ]
  },
  {
   "cell_type": "markdown",
   "metadata": {
    "slideshow": {
     "slide_type": "slide"
    }
   },
   "source": [
    "### Nested do\n",
    "\n",
    "Do loops can be nested.\n",
    "\n",
    "One just have to take care that there is no duplication of sublist names. "
   ]
  },
  {
   "cell_type": "code",
   "execution_count": 25,
   "metadata": {
    "slideshow": {
     "slide_type": "skip"
    }
   },
   "outputs": [
    {
     "name": "stdout",
     "output_type": "stream",
     "text": [
      "LIST BANKLIST = BANK    : IB      SOREN  MARIE /\n",
      "                COUNTRY : DENMARK SWEDEN DENMARK  $\n",
      "LIST ASSETLIST = ASSET  : NFC SME HH             $\n",
      "£ BANK = IB\n",
      "PROFIT_IB = REVENUE_IB - EXPENSES_IB-LOSS_IB $\n",
      "EXPENSES_IB = FACTOR_DENMARK * REVENUE_IB $\n",
      "LOSS_NFC_IB = 0.02 * STOCK_NFC_IB $\n",
      "LOSS_SME_IB = 0.02 * STOCK_SME_IB $\n",
      "LOSS_HH_IB = 0.02 * STOCK_HH_IB $\n",
      "£ FIND THE SUM FOR IB\n",
      "LOSS_IB = (LOSS_NFC_IB+LOSS_SME_IB+LOSS_HH_IB)    $\n",
      "£ BANK = SOREN\n",
      "PROFIT_SOREN = REVENUE_SOREN - EXPENSES_SOREN-LOSS_SOREN $\n",
      "EXPENSES_SOREN = FACTOR_SWEDEN * REVENUE_SOREN $\n",
      "LOSS_NFC_SOREN = 0.02 * STOCK_NFC_SOREN $\n",
      "LOSS_SME_SOREN = 0.02 * STOCK_SME_SOREN $\n",
      "LOSS_HH_SOREN = 0.02 * STOCK_HH_SOREN $\n",
      "£ FIND THE SUM FOR SOREN\n",
      "LOSS_SOREN = (LOSS_NFC_SOREN+LOSS_SME_SOREN+LOSS_HH_SOREN)    $\n",
      "£ BANK = MARIE\n",
      "PROFIT_MARIE = REVENUE_MARIE - EXPENSES_MARIE-LOSS_MARIE $\n",
      "EXPENSES_MARIE = FACTOR_DENMARK * REVENUE_MARIE $\n",
      "LOSS_NFC_MARIE = 0.02 * STOCK_NFC_MARIE $\n",
      "LOSS_SME_MARIE = 0.02 * STOCK_SME_MARIE $\n",
      "LOSS_HH_MARIE = 0.02 * STOCK_HH_MARIE $\n",
      "£ FIND THE SUM FOR MARIE\n",
      "LOSS_MARIE = (LOSS_NFC_MARIE+LOSS_SME_MARIE+LOSS_HH_MARIE)    $\n"
     ]
    }
   ],
   "source": [
    "mtest = ''' \n",
    "list banklist = bank    : ib      soren  marie /\n",
    "                country : denmark sweden denmark  $\n",
    "                \n",
    "list assetlist = asset  : nfc sme hh             $\n",
    "                \n",
    "                \n",
    "do banklist $\n",
    "  £ bank = {bank}\n",
    "    profit_{bank} = revenue_{bank} - expenses_{bank}-loss_{bank} $\n",
    "    expenses_{bank} = factor_{country} * revenue_{bank} $\n",
    "    do assetlist $\n",
    "      loss_{asset}_{bank} = 0.02 * stock_{asset}_{bank} $\n",
    "    enddo $\n",
    "    £ find the sum for {bank}\n",
    "    loss_{bank} = sum(assetlist,loss_{asset}_{bank})    $\n",
    "\n",
    "enddo $ \n",
    "'''\n",
    "\n",
    "print(explode(mtest))"
   ]
  },
  {
   "cell_type": "markdown",
   "metadata": {
    "slideshow": {
     "slide_type": "slide"
    }
   },
   "source": [
    "### Use of sublist to do conditional Loop\n",
    "\n",
    "By using \n",
    "\n",
    "`DO listname sublist = value $`\n",
    "\n",
    "the looping will only be performed on the members of list where the value of the corresponding sublist match the value in the do statement.\n",
    "\n",
    "This can be useful for instance when treating portfolios differently depending on some information. An example could be the different treatment of portfolios depending on regulatory approach. "
   ]
  },
  {
   "cell_type": "code",
   "execution_count": 7,
   "metadata": {},
   "outputs": [
    {
     "name": "stdout",
     "output_type": "stream",
     "text": [
      "LIST PORTDIC = PORT  : HOUSEHOLDS ,  NFC ,   RE,  SOV  /\n",
      "               REG   :       AIRB , AIRB ,  STA,  STA $\n",
      "FRML X HOUSEHOLDS_REA_W = CALC_RW(HOUSEHOLDS_PD ,HOUSEHOLDS_LGD) $\n",
      "FRML X NFC_REA_W = CALC_RW(NFC_PD ,NFC_LGD) $\n",
      "FRML X RE_REA_W = RE_REA_W(-1) $\n",
      "FRML X SOV_REA_W = SOV_REA_W(-1) $\n"
     ]
    }
   ],
   "source": [
    "mtest='''\n",
    "list portdic = port  : households ,  NFC ,   RE,  sov  /\n",
    "               reg   :       AIRB , AIRB ,  STA,  STA $\n",
    "    do portdic reg = airb $ \n",
    "    frml x {port}_REA_W = calc_rw({port}_pd ,{port}_lgd) $\n",
    "    enddo $ \n",
    "    do portdic reg = sta $ \n",
    "    frml x {port}_REA_W = {port}_REA_W(-1) $\n",
    "    enddo $ \n",
    " '''\n",
    "print(explode(mtest))"
   ]
  },
  {
   "cell_type": "markdown",
   "metadata": {
    "slideshow": {
     "slide_type": "slide"
    }
   },
   "source": [
    "### Dynamic defined lists to utilize sparsity\n",
    "Often not all the potential dimensions in a model contains data. For instance all banks don't have positions in all potential countries. \n",
    "\n",
    "In order to speed up calculations and to avoid bloating dataframes, we want to avoid calculating and carrying a lot of zeros around. \n",
    "\n",
    "This can be achieved by using dynamic naming of lists. For instance create a separate list of countries for each bank. \n",
    "\n",
    "The list for each country can be created by using the pandas library to identify in which countries \n",
    "there are non-zero positions - straight forward but beyond the scope of this notebook. \n",
    "\n",
    "Below is an example where there are two banks which each has exposures in different countries. "
   ]
  },
  {
   "cell_type": "code",
   "execution_count": 8,
   "metadata": {},
   "outputs": [
    {
     "name": "stdout",
     "output_type": "stream",
     "text": [
      "LIST BANKDIC = BANK : DANSKE , NORDEA $\n",
      "LIST COUNTRY_DANSKE_DIC = COUNTRY : UK , DK, IR $\n",
      "LIST COUNTRY_NORDEA_DIC = COUNTRY: SE , DK $\n",
      "FRML X DANSKE_INCOME = DANSKE_A +DANSKE_B $\n",
      "FRML X VALUE_DANSKE_UK = 42 $\n",
      "FRML X VALUE_DANSKE_DK = 42 $\n",
      "FRML X VALUE_DANSKE_IR = 42 $\n",
      "FRML <> TOTAL_DANSKE = (VALUE_DANSKE_UK+VALUE_DANSKE_DK+VALUE_DANSKE_IR)  $\n",
      "FRML X NORDEA_INCOME = NORDEA_A +NORDEA_B $\n",
      "FRML X VALUE_NORDEA_SE = 42 $\n",
      "FRML X VALUE_NORDEA_DK = 42 $\n",
      "FRML <> TOTAL_NORDEA = (VALUE_NORDEA_SE+VALUE_NORDEA_DK)  $\n"
     ]
    }
   ],
   "source": [
    "    stest='''\n",
    "    list BANKDIC = bank : Danske , Nordea $                                 \n",
    "    list country_danske_dic = country : uk , DK, IR $\n",
    "    list country_nordea_dic = country: SE , DK $\n",
    "    do bankdic $ \n",
    "        frml x {bank}_income = {bank}_a +{bank}_b $\n",
    "        do country_{bank}_dic $\n",
    "            frml x value_{bank}_{country} = 42 $\n",
    "        enddo $ \n",
    "        frml <> total_{bank} = sum(country_{bank}_dic,value_{bank}_{country})  $\n",
    "      enddo $ '''\n",
    "    \n",
    "    print(explode(stest))"
   ]
  },
  {
   "cell_type": "markdown",
   "metadata": {},
   "source": [
    "## Sum, sum over list \n",
    "sum(LIST,expression) = sums expression over the elements of a list substitution the sublist names.  "
   ]
  },
  {
   "cell_type": "code",
   "execution_count": 28,
   "metadata": {
    "slideshow": {
     "slide_type": "slide"
    }
   },
   "outputs": [
    {
     "name": "stdout",
     "output_type": "stream",
     "text": [
      "LIST BANKLIST = BANK    : IB      SOREN  MARIE /\n",
      "                COUNTRY : DENMARK SWEDEN DENMARK  $\n",
      "LIST ASSETLIST = ASSET  : NFC SME HH             $\n",
      "£\n",
      "£ BANK IB\n",
      "LOSS_NFC_IB = 0.02 * STOCK_NFC_IB $\n",
      "LOSS_SME_IB = 0.02 * STOCK_SME_IB $\n",
      "LOSS_HH_IB = 0.02 * STOCK_HH_IB $\n",
      "LOSS_IB = (LOSS_NFC_IB+LOSS_SME_IB+LOSS_HH_IB)   $\n",
      "£\n",
      "£ BANK SOREN\n",
      "LOSS_NFC_SOREN = 0.02 * STOCK_NFC_SOREN $\n",
      "LOSS_SME_SOREN = 0.02 * STOCK_SME_SOREN $\n",
      "LOSS_HH_SOREN = 0.02 * STOCK_HH_SOREN $\n",
      "LOSS_SOREN = (LOSS_NFC_SOREN+LOSS_SME_SOREN+LOSS_HH_SOREN)   $\n",
      "£\n",
      "£ BANK MARIE\n",
      "LOSS_NFC_MARIE = 0.02 * STOCK_NFC_MARIE $\n",
      "LOSS_SME_MARIE = 0.02 * STOCK_SME_MARIE $\n",
      "LOSS_HH_MARIE = 0.02 * STOCK_HH_MARIE $\n",
      "LOSS_MARIE = (LOSS_NFC_MARIE+LOSS_SME_MARIE+LOSS_HH_MARIE)   $\n",
      "£\n",
      "£ SUM FOR ALL BANKS \n",
      "£\n",
      "LOSS_TOTAL =  ((LOSS_NFC_IB+LOSS_SME_IB+LOSS_HH_IB)+(LOSS_NFC_SOREN+LOSS_SME_SOREN+LOSS_HH_SOREN)+(LOSS_NFC_MARIE+LOSS_SME_MARIE+LOSS_HH_MARIE))$\n"
     ]
    }
   ],
   "source": [
    "mtest = ''' \n",
    "list banklist = bank    : ib      soren  marie /\n",
    "                country : denmark sweden denmark  $\n",
    "                \n",
    "list assetlist = asset  : nfc sme hh             $\n",
    "                \n",
    "do banklist $\n",
    "    £\n",
    "    £ bank {bank}\n",
    "    do assetlist $\n",
    "      loss_{asset}_{bank} = 0.02 * stock_{asset}_{bank} $\n",
    "    enddo $\n",
    "    loss_{bank} = sum(assetlist,loss_{asset}_{bank})   $\n",
    "enddo $ \n",
    "£\n",
    "£ sum for all banks \n",
    "£\n",
    "loss_total =  sum(banklist,sum(assetlist,loss_{asset}_{bank}))$\n",
    "'''\n",
    "\n",
    "print(explode(mtest))"
   ]
  },
  {
   "cell_type": "markdown",
   "metadata": {},
   "source": [
    "## A little more high level \n",
    "\n",
    "All the do .. enddo statements introduces some visual noise. \n",
    "To handle the situation, where we just want to loop over some indexes and do calculations the **doable** function can handle some of the details. It will extract the indicies from the left hand side and loop over these indicies. \n",
    "ALso if the option sum= is provided the the sums of all the resulting left hand sides will be calculated. \n"
   ]
  },
  {
   "cell_type": "code",
   "execution_count": 54,
   "metadata": {},
   "outputs": [
    {
     "name": "stdout",
     "output_type": "stream",
     "text": [
      "Original equations:\n",
      "------------------\n",
      "\n",
      "LIST SECTORS_LIST = SECTORS : A B\n",
      "LIST BANKS_LIST   = BANKS : HEST KO\n",
      "\n",
      "<SUM= ALL> LOSS_{BANKS}__{SECTORS} =HOLDING__{BANKS}__{SECTORS} * PD__{BANKS}__{SECTORS}\n",
      "<SUM= ALL>    B__{SECTORS}__{BANKS}  = B\n",
      "<SUM= ALL>    DIFF(XX__{SECTORS}__{BANKS})  = 42 \n",
      "        \n",
      "\n",
      "DO injected:\n",
      "------------\n",
      "LIST SECTORS_LIST = SECTORS : A B  \n",
      "LIST BANKS_LIST   = BANKS : HEST KO  \n",
      "Do BANKS_list  \n",
      "  Do SECTORS_list  \n",
      "    <SUM= ALL> LOSS_{BANKS}__{SECTORS} =HOLDING__{BANKS}__{SECTORS} * PD__{BANKS}__{SECTORS}  \n",
      "  Enddo  \n",
      "Enddo  \n",
      "\n",
      "LOSS_ALL = sum(BANKS_list,sum(SECTORS_list,LOSS_{BANKS}__{SECTORS}))  \n",
      "\n",
      "Do SECTORS_list  \n",
      "  Do BANKS_list  \n",
      "    <SUM= ALL>    B__{SECTORS}__{BANKS}  = B  \n",
      "  Enddo  \n",
      "Enddo  \n",
      "\n",
      "B__ALL = sum(SECTORS_list,sum(BANKS_list,B__{SECTORS}__{BANKS}))  \n",
      "\n",
      "Do SECTORS_list  \n",
      "  Do BANKS_list  \n",
      "    <SUM= ALL>    DIFF(XX__{SECTORS}__{BANKS})  = 42  \n",
      "  Enddo  \n",
      "Enddo  \n",
      "\n",
      "XX__ALL = sum(SECTORS_list,sum(BANKS_list,XX__{SECTORS}__{BANKS}))  \n",
      "\n",
      "\n",
      "Resulting Equations:\n",
      "--------------------\n",
      "\n",
      "  LIST SECTORS_LIST = SECTORS : A B  $\n",
      "LIST BANKS_LIST   = BANKS : HEST KO  $\n",
      "FRML <SUM= ALL> LOSS_HEST__A =HOLDING__HEST__A * PD__HEST__A   $\n",
      "FRML <SUM= ALL> LOSS_HEST__B =HOLDING__HEST__B * PD__HEST__B   $\n",
      "FRML <SUM= ALL> LOSS_KO__A =HOLDING__KO__A * PD__KO__A   $\n",
      "FRML <SUM= ALL> LOSS_KO__B =HOLDING__KO__B * PD__KO__B   $\n",
      "FRML <> LOSS_ALL = ((LOSS_HEST__A+LOSS_HEST__B)+(LOSS_KO__A+LOSS_KO__B))   $\n",
      "FRML <SUM= ALL> B__A__HEST  = B   $\n",
      "FRML <SUM= ALL> B__A__KO  = B   $\n",
      "FRML <SUM= ALL> B__B__HEST  = B   $\n",
      "FRML <SUM= ALL> B__B__KO  = B   $\n",
      "FRML <> B__ALL = ((B__A__HEST+B__A__KO)+(B__B__HEST+B__B__KO))   $\n",
      "FRML <SUM= ALL> XX__A__HEST=XX__A__HEST(-1)+(42)$\n",
      "FRML <SUM= ALL> XX__A__KO=XX__A__KO(-1)+(42)$\n",
      "FRML <SUM= ALL> XX__B__HEST=XX__B__HEST(-1)+(42)$\n",
      "FRML <SUM= ALL> XX__B__KO=XX__B__KO(-1)+(42)$\n",
      "FRML <> XX__ALL = ((XX__A__HEST+XX__A__KO)+(XX__B__HEST+XX__B__KO))   $         \n",
      "          \n"
     ]
    }
   ],
   "source": [
    "frml = '''\n",
    "list sectors_list = sectors : a b\n",
    "list banks_list   = banks : hest ko\n",
    "\n",
    "<sum= all> loss_{banks}__{sectors} =holding__{banks}__{sectors} * pd__{banks}__{sectors}\n",
    "<sum= all>    b__{sectors}__{banks}  = b\n",
    "<sum= all>    diff(xx__{sectors}__{banks})  = 42 \n",
    "        '''.upper()\n",
    "frml_1 = (doable(frml))\n",
    "frml_2  = explode(frml_1)\n",
    "\n",
    "print(f'''\\\n",
    "Original equations:\n",
    "------------------\n",
    "{frml}\\n\n",
    "DO injected:\n",
    "------------\n",
    "{frml_1}\n",
    "Resulting Equations:\n",
    "--------------------\n",
    "\\n  {frml_2}         \n",
    "          ''')\n"
   ]
  },
  {
   "cell_type": "markdown",
   "metadata": {
    "slideshow": {
     "slide_type": "skip"
    }
   },
   "source": [
    "## Pack values into matrices (a cvxopt class)"
   ]
  },
  {
   "cell_type": "code",
   "execution_count": 10,
   "metadata": {
    "slideshow": {
     "slide_type": "skip"
    }
   },
   "outputs": [
    {
     "name": "stdout",
     "output_type": "stream",
     "text": [
      "LIST BANKLIST  = BANK : IB SOREN $\n",
      "LIST BANKLIST2 = BANK2 : IB SOREN $\n",
      "VECTOR FRML <MATRIX> VBANK = MATRIX(\n",
      "[PROFIT_IB,PROFIT_SOREN])  $\n",
      "MATRICES FRML <MATRIX> MBANK = MATRIX(\n",
      "[[LOANFROM_IB_TO_IB,LOANFROM_IB_TO_SOREN],\n",
      "[LOANFROM_SOREN_TO_IB,LOANFROM_SOREN_TO_SOREN]])  $\n"
     ]
    }
   ],
   "source": [
    "mtest2 = ''' \n",
    "list banklist  = bank : ib soren $\n",
    "list banklist2 = bank2 : ib soren $\n",
    "! vector \n",
    "frml <matrix> vbank = to_matrix(banklist,profit_{bank})  $\n",
    "! matrices \n",
    "frml <matrix> Mbank = to_matrix(banklist,banklist2,loanfrom_{bank}_to_{bank2})  $\n",
    "'''\n",
    "\n",
    "print(explode(mtest2))"
   ]
  },
  {
   "cell_type": "markdown",
   "metadata": {
    "slideshow": {
     "slide_type": "skip"
    }
   },
   "source": [
    "## Pack values into arrays (a numpy class)"
   ]
  },
  {
   "cell_type": "code",
   "execution_count": 11,
   "metadata": {
    "slideshow": {
     "slide_type": "slide"
    }
   },
   "outputs": [
    {
     "name": "stdout",
     "output_type": "stream",
     "text": [
      "LIST BANKLIST  = BANK : IB SOREN $\n",
      "LIST BANKLIST2 = BANK2 : IB SOREN $\n",
      "VECTOR FRML <MATRIX> VBANK = ARRAY(\n",
      "[PROFIT_IB,PROFIT_SOREN])  $\n",
      "MATRICES FRML <MATRIX> MBANK = ARRAY(\n",
      "[[LOANFROM_IB_TO_IB,LOANFROM_IB_TO_SOREN],\n",
      "[LOANFROM_SOREN_TO_IB,LOANFROM_SOREN_TO_SOREN]])  $\n"
     ]
    }
   ],
   "source": [
    "mtest2 = ''' \n",
    "list banklist  = bank : ib soren $\n",
    "list banklist2 = bank2 : ib soren $\n",
    "! vector \n",
    "frml <matrix> vbank = to_array(banklist,profit_{bank})  $\n",
    "! matrices \n",
    "frml <matrix> Mbank = to_array(banklist,banklist2,loanfrom_{bank}_to_{bank2})  $\n",
    "'''\n",
    "\n",
    "print(explode(mtest2))"
   ]
  },
  {
   "cell_type": "markdown",
   "metadata": {},
   "source": [
    "## Unpack values - Argexpand "
   ]
  },
  {
   "cell_type": "code",
   "execution_count": 13,
   "metadata": {
    "slideshow": {
     "slide_type": "skip"
    }
   },
   "outputs": [
    {
     "name": "stdout",
     "output_type": "stream",
     "text": [
      "LIST BANKLIST  = BANK : IB SOREN $\n",
      "LIST BANKLIST2 = BANK2 : IB SOREN $\n",
      "VECTOR FRML <> TEST_IB,TEST_SOREN = MATRIX(\n",
      "[PROFIT_IB,PROFIT_SOREN])  $\n",
      "MATRICES FRML <> LOANFROM_IB_IB,LOANFROM_SOREN_IB,LOANFROM_IB_SOREN,LOANFROM_SOREN_SOREN = 0  $\n"
     ]
    }
   ],
   "source": [
    "mtest2 = ''' \n",
    "list banklist  = bank : ib soren $\n",
    "list banklist2 = bank2 : ib soren $\n",
    "! vector \n",
    "frml <> argexpand(banklist,test_{bank}) = to_matrix(banklist,profit_{bank})  $\n",
    "! matrices \n",
    "frml <> argexpand(banklist,argexpand(banklist2,loanfrom_{bank2}_{bank})) = 0  $\n",
    "'''\n",
    "\n",
    "print(explode(mtest2))"
   ]
  },
  {
   "cell_type": "code",
   "execution_count": 15,
   "metadata": {
    "slideshow": {
     "slide_type": "skip"
    }
   },
   "outputs": [
    {
     "name": "stdout",
     "output_type": "stream",
     "text": [
      "LIST LISTDEVS  = DEVS : DEV_YER DEV_UTS $\n",
      "LIST LISTSHOCKS = SHOCKS : IB SOREN $\n",
      "FRML <MATRIX> DEV_YER,DEV_UTS = STE(MATRIX(\n",
      "[IB(-3),SOREN(-3)]),    MATRIX(\n",
      "[IB(-2 ),SOREN(-2 )]),     MATRIX(\n",
      "[IB(-1),SOREN(-1)]),\n",
      "    MATRIX(\n",
      "[IB,SOREN])  ) $\n"
     ]
    }
   ],
   "source": [
    "mtest2 = ''' \n",
    "list listdevs  = devs : dev_yer dev_uts $\n",
    "list listshocks = shocks : ib soren $\n",
    "    frml <matrix> ARGEXPAND(listdevs,{devs}) = STE(to_matrix(LISTSHOCKS,{SHOCKS}(-3)),\\\n",
    "    to_matrix(LISTSHOCKS,{SHOCKS}(-2 )), \\\n",
    "    to_matrix(LISTSHOCKS,{SHOCKS}(-1)),\n",
    "    to_matrix(LISTSHOCKS,{SHOCKS})  ) $\n",
    "    '''.upper() \n",
    "\n",
    "print(explode(mtest2))"
   ]
  },
  {
   "cell_type": "markdown",
   "metadata": {},
   "source": []
  },
  {
   "cell_type": "markdown",
   "metadata": {},
   "source": [
    "## Create an array of lagged or leaded variables - lag_array\n",
    "lag_array(<number>,<expression>) will create an numpy array with length = |number|, positive number \n",
    "    will give an array of leaded values, negative numbers an array of lagged values "
   ]
  },
  {
   "cell_type": "code",
   "execution_count": 16,
   "metadata": {},
   "outputs": [
    {
     "name": "stdout",
     "output_type": "stream",
     "text": [
      "PD_PIT_ARRAY_LEADED = ARRAY([PD_PIT(+1),PD_PIT(+2),PD_PIT(+3)]) $\n"
     ]
    }
   ],
   "source": [
    "mtest3 = '''\n",
    "pd_pit_array_leaded   = lag_array(3,pd_pit) $ \n",
    "'''\n",
    "print(explode(mtest3))"
   ]
  },
  {
   "cell_type": "code",
   "execution_count": 18,
   "metadata": {},
   "outputs": [
    {
     "name": "stdout",
     "output_type": "stream",
     "text": [
      "PD_PIT_ARRAY_LAGGED = ARRAY([PD_PIT(-1),PD_PIT(-2),PD_PIT(-3)]) $\n"
     ]
    }
   ],
   "source": [
    "mtest3 = '''\n",
    "pd_pit_array_lagged   = lag_array(-3,pd_pit) $ \n",
    "'''\n",
    "print(explode(mtest3))"
   ]
  }
 ],
 "metadata": {
  "hide_input": false,
  "kernelspec": {
   "display_name": "Python 3 (ipykernel)",
   "language": "python",
   "name": "python3"
  },
  "language_info": {
   "codemirror_mode": {
    "name": "ipython",
    "version": 3
   },
   "file_extension": ".py",
   "mimetype": "text/x-python",
   "name": "python",
   "nbconvert_exporter": "python",
   "pygments_lexer": "ipython3",
   "version": "3.9.13"
  },
  "toc": {
   "base_numbering": 1,
   "nav_menu": {},
   "number_sections": true,
   "sideBar": true,
   "skip_h1_title": false,
   "title_cell": "Table of Contents",
   "title_sidebar": "Contents",
   "toc_cell": false,
   "toc_position": {
    "height": "calc(100% - 180px)",
    "left": "10px",
    "top": "150px",
    "width": "293.841px"
   },
   "toc_section_display": true,
   "toc_window_display": true
  },
  "varInspector": {
   "cols": {
    "lenName": 16,
    "lenType": 16,
    "lenVar": 40
   },
   "kernels_config": {
    "python": {
     "delete_cmd_postfix": "",
     "delete_cmd_prefix": "del ",
     "library": "var_list.py",
     "varRefreshCmd": "print(var_dic_list())"
    },
    "r": {
     "delete_cmd_postfix": ") ",
     "delete_cmd_prefix": "rm(",
     "library": "var_list.r",
     "varRefreshCmd": "cat(var_dic_list()) "
    }
   },
   "oldHeight": 489.31922199999997,
   "position": {
    "height": "40px",
    "left": "702.8px",
    "right": "20px",
    "top": "51px",
    "width": "524.708px"
   },
   "types_to_exclude": [
    "module",
    "function",
    "builtin_function_or_method",
    "instance",
    "_Feature"
   ],
   "varInspector_section_display": "none",
   "window_display": true
  }
 },
 "nbformat": 4,
 "nbformat_minor": 2
}
