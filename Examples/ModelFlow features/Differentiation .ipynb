{
 "cells": [
  {
   "cell_type": "code",
   "execution_count": 1,
   "metadata": {},
   "outputs": [],
   "source": [
    "%matplotlib inline\n",
    "\n",
    "import pandas as pd\n",
    "import numpy as np\n",
    "\n",
    "from modelclass import model\n"
   ]
  },
  {
   "cell_type": "code",
   "execution_count": null,
   "metadata": {},
   "outputs": [],
   "source": []
  },
  {
   "cell_type": "markdown",
   "metadata": {},
   "source": [
    "# A very small model and some data "
   ]
  },
  {
   "cell_type": "code",
   "execution_count": 12,
   "metadata": {
    "scrolled": true
   },
   "outputs": [
    {
     "data": {
      "text/html": [
       "<div>\n",
       "<style scoped>\n",
       "    .dataframe tbody tr th:only-of-type {\n",
       "        vertical-align: middle;\n",
       "    }\n",
       "\n",
       "    .dataframe tbody tr th {\n",
       "        vertical-align: top;\n",
       "    }\n",
       "\n",
       "    .dataframe thead th {\n",
       "        text-align: right;\n",
       "    }\n",
       "</style>\n",
       "<table border=\"1\" class=\"dataframe\">\n",
       "  <thead>\n",
       "    <tr style=\"text-align: right;\">\n",
       "      <th></th>\n",
       "      <th>B</th>\n",
       "      <th>C</th>\n",
       "      <th>E</th>\n",
       "      <th>D1</th>\n",
       "      <th>A</th>\n",
       "      <th>D3</th>\n",
       "      <th>X</th>\n",
       "    </tr>\n",
       "  </thead>\n",
       "  <tbody>\n",
       "    <tr>\n",
       "      <th>2018</th>\n",
       "      <td>1.0</td>\n",
       "      <td>1.0</td>\n",
       "      <td>4.0</td>\n",
       "      <td>0.0</td>\n",
       "      <td>0.0</td>\n",
       "      <td>0.0</td>\n",
       "      <td>0.0</td>\n",
       "    </tr>\n",
       "    <tr>\n",
       "      <th>2019</th>\n",
       "      <td>1.0</td>\n",
       "      <td>2.0</td>\n",
       "      <td>4.0</td>\n",
       "      <td>498.0</td>\n",
       "      <td>450.0</td>\n",
       "      <td>2681746.0</td>\n",
       "      <td>8.0</td>\n",
       "    </tr>\n",
       "    <tr>\n",
       "      <th>2020</th>\n",
       "      <td>1.0</td>\n",
       "      <td>3.0</td>\n",
       "      <td>4.0</td>\n",
       "      <td>1880.0</td>\n",
       "      <td>1795.0</td>\n",
       "      <td>43.0</td>\n",
       "      <td>16.0</td>\n",
       "    </tr>\n",
       "    <tr>\n",
       "      <th>2021</th>\n",
       "      <td>1.0</td>\n",
       "      <td>4.0</td>\n",
       "      <td>4.0</td>\n",
       "      <td>0.0</td>\n",
       "      <td>0.0</td>\n",
       "      <td>0.0</td>\n",
       "      <td>0.0</td>\n",
       "    </tr>\n",
       "  </tbody>\n",
       "</table>\n",
       "</div>"
      ],
      "text/plain": [
       "        B    C    E      D1       A         D3     X\n",
       "2018  1.0  1.0  4.0     0.0     0.0        0.0   0.0\n",
       "2019  1.0  2.0  4.0   498.0   450.0  2681746.0   8.0\n",
       "2020  1.0  3.0  4.0  1880.0  1795.0       43.0  16.0\n",
       "2021  1.0  4.0  4.0     0.0     0.0        0.0   0.0"
      ]
     },
     "execution_count": 12,
     "metadata": {},
     "output_type": "execute_result"
    }
   ],
   "source": [
    "fmodel      = '''\n",
    "frml <> a = c(-1) + b  + 7* x**2 $ \n",
    "frml <> d1 = 4*x + 3 * e(-1)+ c **2 +a  $ \n",
    "frml <> d3 = x + 3 * d1*a(+1)+c **3 $  \n",
    "Frml <> x = 0.5 *e**2+x(-1)  $'''\n",
    "mmodel = model(fmodel,modelname = 'My first model')\n",
    "df = pd.DataFrame({'B': [1,1,1,1],'C':[1,2,3,4],'E':[4,4,4,4]},index=[2018,2019,2020,2021])\n",
    "base = mmodel(df)\n",
    "base"
   ]
  },
  {
   "cell_type": "markdown",
   "metadata": {},
   "source": [
    "# Create two newton instances one with symbolic one with numerical differentiation "
   ]
  },
  {
   "cell_type": "code",
   "execution_count": 13,
   "metadata": {},
   "outputs": [],
   "source": [
    "from modelnewton import newton_diff\n",
    "newton = newton_diff(mmodel,forcenum = 0 ) # symbolic differentiation if possible \n",
    "newton_num = newton_diff(mmodel,forcenum = 1)  # Numerical differensation "
   ]
  },
  {
   "cell_type": "markdown",
   "metadata": {},
   "source": [
    "# Show the models which generates the derivatives \n",
    "\n",
    "A model is generated to evaluate all relevant derivatives\n",
    "\n",
    "\n",
    "\n",
    "All possible derivatives involviong **lags** are constructed like this : \n",
    "$\\frac{\\partial{var_t}}{\\partial{lhs\\_var_{t-lag}}}= expression$  are constructed as: \n",
    "\n",
    "`frml <> <var>__p__<lhs_var>___lag___<lag> = expression`\n",
    "    \n",
    "All possible derivatives involviong **leads** lags are constructed like this : \n",
    "$\\frac{\\partial{var_t}}{\\partial{lhs\\_var_{t+lead}}}= expression$  are constructed as: \n",
    "\n",
    "`frml <> <var>__p__<lhs_var>___lead___<lead> = expression`\n"
   ]
  },
  {
   "cell_type": "code",
   "execution_count": 14,
   "metadata": {},
   "outputs": [
    {
     "name": "stdout",
     "output_type": "stream",
     "text": [
      "FRML  <> A__p__X___lag___0 = 14*X   $\n",
      "FRML  <> D1__p__A___lag___0 = 1   $\n",
      "FRML  <> D1__p__X___lag___0 = 4   $\n",
      "FRML  <> D3__p__A___lead___1 = 3*D1   $\n",
      "FRML  <> D3__p__D1___lag___0 = 3*A(+1)   $\n",
      "FRML  <> D3__p__X___lag___0 = 1   $\n",
      "FRML  <> X__p__X___lag___1 = 1   $\n"
     ]
    }
   ],
   "source": [
    "print(newton.diff_model.equations)  # Symbolic differentiation "
   ]
  },
  {
   "cell_type": "code",
   "execution_count": 5,
   "metadata": {},
   "outputs": [
    {
     "name": "stdout",
     "output_type": "stream",
     "text": [
      "FRML  <> A__p__X___lag___0 = ((C(-1)+B+7*(X+0.0025)**2)-(C(-1)+B+7*(X-0.0025)**2))/0.005   $\n",
      "FRML  <> D1__p__A___lag___0 = ((4*X+3*E(-1)+C**2+(A+0.0025))-(4*X+3*E(-1)+C**2+(A-0.0025)))/0.005   $\n",
      "FRML  <> D1__p__X___lag___0 = ((4*(X+0.0025)+3*E(-1)+C**2+A)-(4*(X-0.0025)+3*E(-1)+C**2+A))/0.005   $\n",
      "FRML  <> D3__p__A___lag___1 = ((X+3*(A(-1)+0.0025)+C**3)-(X+3*(A(-1)-0.0025)+C**3))/0.005   $\n",
      "FRML  <> D3__p__X___lag___0 = (((X+0.0025)+3*A(-1)+C**3)-((X-0.0025)+3*A(-1)+C**3))/0.005   $\n",
      "FRML  <> X__p__X___lag___1 = ((0.5*E**2+(X(-1)+0.0025))-(0.5*E**2+(X(-1)-0.0025)))/0.005   $\n"
     ]
    }
   ],
   "source": [
    "print(newton_num.diff_model.equations) # Numerical differentiation "
   ]
  },
  {
   "cell_type": "code",
   "execution_count": 6,
   "metadata": {},
   "outputs": [
    {
     "data": {
      "text/html": [
       "<div>\n",
       "<style scoped>\n",
       "    .dataframe tbody tr th:only-of-type {\n",
       "        vertical-align: middle;\n",
       "    }\n",
       "\n",
       "    .dataframe tbody tr th {\n",
       "        vertical-align: top;\n",
       "    }\n",
       "\n",
       "    .dataframe thead tr th {\n",
       "        text-align: left;\n",
       "    }\n",
       "\n",
       "    .dataframe thead tr:last-of-type th {\n",
       "        text-align: right;\n",
       "    }\n",
       "</style>\n",
       "<table border=\"1\" class=\"dataframe\">\n",
       "  <thead>\n",
       "    <tr>\n",
       "      <th></th>\n",
       "      <th>per</th>\n",
       "      <th colspan=\"4\" halign=\"left\">2019</th>\n",
       "      <th colspan=\"4\" halign=\"left\">2020</th>\n",
       "      <th colspan=\"4\" halign=\"left\">2021</th>\n",
       "    </tr>\n",
       "    <tr>\n",
       "      <th></th>\n",
       "      <th>var</th>\n",
       "      <th>A</th>\n",
       "      <th>D1</th>\n",
       "      <th>D3</th>\n",
       "      <th>X</th>\n",
       "      <th>A</th>\n",
       "      <th>D1</th>\n",
       "      <th>D3</th>\n",
       "      <th>X</th>\n",
       "      <th>A</th>\n",
       "      <th>D1</th>\n",
       "      <th>D3</th>\n",
       "      <th>X</th>\n",
       "    </tr>\n",
       "    <tr>\n",
       "      <th>per</th>\n",
       "      <th>var</th>\n",
       "      <th></th>\n",
       "      <th></th>\n",
       "      <th></th>\n",
       "      <th></th>\n",
       "      <th></th>\n",
       "      <th></th>\n",
       "      <th></th>\n",
       "      <th></th>\n",
       "      <th></th>\n",
       "      <th></th>\n",
       "      <th></th>\n",
       "      <th></th>\n",
       "    </tr>\n",
       "  </thead>\n",
       "  <tbody>\n",
       "    <tr>\n",
       "      <th rowspan=\"4\" valign=\"top\">2019</th>\n",
       "      <th>A</th>\n",
       "      <td>-1.00</td>\n",
       "      <td></td>\n",
       "      <td></td>\n",
       "      <td>112.00</td>\n",
       "      <td></td>\n",
       "      <td></td>\n",
       "      <td></td>\n",
       "      <td></td>\n",
       "      <td></td>\n",
       "      <td></td>\n",
       "      <td></td>\n",
       "      <td></td>\n",
       "    </tr>\n",
       "    <tr>\n",
       "      <th>D1</th>\n",
       "      <td>1.00</td>\n",
       "      <td>-1.00</td>\n",
       "      <td></td>\n",
       "      <td>4.00</td>\n",
       "      <td></td>\n",
       "      <td></td>\n",
       "      <td></td>\n",
       "      <td></td>\n",
       "      <td></td>\n",
       "      <td></td>\n",
       "      <td></td>\n",
       "      <td></td>\n",
       "    </tr>\n",
       "    <tr>\n",
       "      <th>D3</th>\n",
       "      <td></td>\n",
       "      <td></td>\n",
       "      <td>-1.00</td>\n",
       "      <td>1.00</td>\n",
       "      <td></td>\n",
       "      <td></td>\n",
       "      <td></td>\n",
       "      <td></td>\n",
       "      <td></td>\n",
       "      <td></td>\n",
       "      <td></td>\n",
       "      <td></td>\n",
       "    </tr>\n",
       "    <tr>\n",
       "      <th>X</th>\n",
       "      <td></td>\n",
       "      <td></td>\n",
       "      <td></td>\n",
       "      <td>-1.00</td>\n",
       "      <td></td>\n",
       "      <td></td>\n",
       "      <td></td>\n",
       "      <td></td>\n",
       "      <td></td>\n",
       "      <td></td>\n",
       "      <td></td>\n",
       "      <td></td>\n",
       "    </tr>\n",
       "    <tr>\n",
       "      <th rowspan=\"4\" valign=\"top\">2020</th>\n",
       "      <th>A</th>\n",
       "      <td></td>\n",
       "      <td></td>\n",
       "      <td></td>\n",
       "      <td></td>\n",
       "      <td>-1.00</td>\n",
       "      <td></td>\n",
       "      <td></td>\n",
       "      <td>224.00</td>\n",
       "      <td></td>\n",
       "      <td></td>\n",
       "      <td></td>\n",
       "      <td></td>\n",
       "    </tr>\n",
       "    <tr>\n",
       "      <th>D1</th>\n",
       "      <td></td>\n",
       "      <td></td>\n",
       "      <td></td>\n",
       "      <td></td>\n",
       "      <td>1.00</td>\n",
       "      <td>-1.00</td>\n",
       "      <td></td>\n",
       "      <td>4.00</td>\n",
       "      <td></td>\n",
       "      <td></td>\n",
       "      <td></td>\n",
       "      <td></td>\n",
       "    </tr>\n",
       "    <tr>\n",
       "      <th>D3</th>\n",
       "      <td>3.00</td>\n",
       "      <td></td>\n",
       "      <td></td>\n",
       "      <td></td>\n",
       "      <td></td>\n",
       "      <td></td>\n",
       "      <td>-1.00</td>\n",
       "      <td>1.00</td>\n",
       "      <td></td>\n",
       "      <td></td>\n",
       "      <td></td>\n",
       "      <td></td>\n",
       "    </tr>\n",
       "    <tr>\n",
       "      <th>X</th>\n",
       "      <td></td>\n",
       "      <td></td>\n",
       "      <td></td>\n",
       "      <td>1.00</td>\n",
       "      <td></td>\n",
       "      <td></td>\n",
       "      <td></td>\n",
       "      <td>-1.00</td>\n",
       "      <td></td>\n",
       "      <td></td>\n",
       "      <td></td>\n",
       "      <td></td>\n",
       "    </tr>\n",
       "    <tr>\n",
       "      <th rowspan=\"4\" valign=\"top\">2021</th>\n",
       "      <th>A</th>\n",
       "      <td></td>\n",
       "      <td></td>\n",
       "      <td></td>\n",
       "      <td></td>\n",
       "      <td></td>\n",
       "      <td></td>\n",
       "      <td></td>\n",
       "      <td></td>\n",
       "      <td>-1.00</td>\n",
       "      <td></td>\n",
       "      <td></td>\n",
       "      <td>336.00</td>\n",
       "    </tr>\n",
       "    <tr>\n",
       "      <th>D1</th>\n",
       "      <td></td>\n",
       "      <td></td>\n",
       "      <td></td>\n",
       "      <td></td>\n",
       "      <td></td>\n",
       "      <td></td>\n",
       "      <td></td>\n",
       "      <td></td>\n",
       "      <td>1.00</td>\n",
       "      <td>-1.00</td>\n",
       "      <td></td>\n",
       "      <td>4.00</td>\n",
       "    </tr>\n",
       "    <tr>\n",
       "      <th>D3</th>\n",
       "      <td></td>\n",
       "      <td></td>\n",
       "      <td></td>\n",
       "      <td></td>\n",
       "      <td>3.00</td>\n",
       "      <td></td>\n",
       "      <td></td>\n",
       "      <td></td>\n",
       "      <td></td>\n",
       "      <td></td>\n",
       "      <td>-1.00</td>\n",
       "      <td>1.00</td>\n",
       "    </tr>\n",
       "    <tr>\n",
       "      <th>X</th>\n",
       "      <td></td>\n",
       "      <td></td>\n",
       "      <td></td>\n",
       "      <td></td>\n",
       "      <td></td>\n",
       "      <td></td>\n",
       "      <td></td>\n",
       "      <td>1.00</td>\n",
       "      <td></td>\n",
       "      <td></td>\n",
       "      <td></td>\n",
       "      <td>-1.00</td>\n",
       "    </tr>\n",
       "  </tbody>\n",
       "</table>\n",
       "</div>"
      ],
      "text/plain": [
       "per        2019                         2020                         2021  \\\n",
       "var           A     D1     D3       X      A     D1     D3       X      A   \n",
       "per  var                                                                    \n",
       "2019 A    -1.00                112.00                                       \n",
       "     D1    1.00  -1.00           4.00                                       \n",
       "     D3                 -1.00    1.00                                       \n",
       "     X                          -1.00                                       \n",
       "2020 A                                 -1.00                224.00          \n",
       "     D1                                 1.00  -1.00           4.00          \n",
       "     D3    3.00                                      -1.00    1.00          \n",
       "     X                           1.00                        -1.00          \n",
       "2021 A                                                              -1.00   \n",
       "     D1                                                              1.00   \n",
       "     D3                                 3.00                                \n",
       "     X                                                        1.00          \n",
       "\n",
       "per                             \n",
       "var          D1     D3       X  \n",
       "per  var                        \n",
       "2019 A                          \n",
       "     D1                         \n",
       "     D3                         \n",
       "     X                          \n",
       "2020 A                          \n",
       "     D1                         \n",
       "     D3                         \n",
       "     X                          \n",
       "2021 A                  336.00  \n",
       "     D1   -1.00           4.00  \n",
       "     D3          -1.00    1.00  \n",
       "     X                   -1.00  "
      ]
     },
     "execution_count": 6,
     "metadata": {},
     "output_type": "execute_result"
    }
   ],
   "source": [
    "stacked_df = newton.get_diff_df_tot()\n",
    "stacked_df.applymap(lambda x:f'{x:,.2f}' if x != 0.0 else ' ')"
   ]
  },
  {
   "cell_type": "code",
   "execution_count": 7,
   "metadata": {},
   "outputs": [
    {
     "data": {
      "text/latex": [
       "$\\begin{eqnarray*} D1_t  & = &  4 \\times X_t + 3 \\times E_{t-1} + C_t ** 2 + A_t \\end{eqnarray*}$"
      ],
      "text/plain": [
       "<IPython.core.display.Latex object>"
      ]
     },
     "metadata": {},
     "output_type": "display_data"
    },
    {
     "data": {
      "text/latex": [
       "\\begin{eqnarray*}\\frac{\\partial D1_t}{\\partial A_t} & = & 1\\\\\\frac{\\partial D1_t}{\\partial X_t} & = & 4\\end{eqnarray*} "
      ],
      "text/plain": [
       "<IPython.core.display.Latex object>"
      ]
     },
     "metadata": {},
     "output_type": "display_data"
    },
    {
     "data": {
      "text/markdown": [
       "|                                      |   2019 |   2020 |   2021 |\n",
       "|:-------------------------------------|-------:|-------:|-------:|\n",
       "| $\\frac{\\partial D1_t}{\\partial A_t}$ |      1 |      1 |      1 |\n",
       "| $\\frac{\\partial D1_t}{\\partial X_t}$ |      4 |      4 |      4 |"
      ],
      "text/plain": [
       "<IPython.core.display.Markdown object>"
      ]
     },
     "metadata": {},
     "output_type": "display_data"
    },
    {
     "data": {
      "text/latex": [
       "$\\begin{eqnarray*} A_t  & = &  C_{t-1} + B_t + 7 \\times X_t ** 2 \\end{eqnarray*}$"
      ],
      "text/plain": [
       "<IPython.core.display.Latex object>"
      ]
     },
     "metadata": {},
     "output_type": "display_data"
    },
    {
     "data": {
      "text/latex": [
       "\\begin{eqnarray*}\\frac{\\partial A_t}{\\partial X_t} & = & 14 \\times X_t\\end{eqnarray*} "
      ],
      "text/plain": [
       "<IPython.core.display.Latex object>"
      ]
     },
     "metadata": {},
     "output_type": "display_data"
    },
    {
     "data": {
      "text/markdown": [
       "|                                     |   2019 |   2020 |   2021 |\n",
       "|:------------------------------------|-------:|-------:|-------:|\n",
       "| $\\frac{\\partial A_t}{\\partial X_t}$ |    112 |    224 |    336 |"
      ],
      "text/plain": [
       "<IPython.core.display.Markdown object>"
      ]
     },
     "metadata": {},
     "output_type": "display_data"
    },
    {
     "data": {
      "text/latex": [
       "$\\begin{eqnarray*} D3_t  & = &  X_t + 3 \\times A_{t-1} + C_t ** 3 \\end{eqnarray*}$"
      ],
      "text/plain": [
       "<IPython.core.display.Latex object>"
      ]
     },
     "metadata": {},
     "output_type": "display_data"
    },
    {
     "data": {
      "text/latex": [
       "\\begin{eqnarray*}\\frac{\\partial D3_t}{\\partial A_{t-1}} & = & 3\\\\\\frac{\\partial D3_t}{\\partial X_t} & = & 1\\end{eqnarray*} "
      ],
      "text/plain": [
       "<IPython.core.display.Latex object>"
      ]
     },
     "metadata": {},
     "output_type": "display_data"
    },
    {
     "data": {
      "text/markdown": [
       "|                                          |   2019 |   2020 |   2021 |\n",
       "|:-----------------------------------------|-------:|-------:|-------:|\n",
       "| $\\frac{\\partial D3_t}{\\partial A_{t-1}}$ |      3 |      3 |      3 |\n",
       "| $\\frac{\\partial D3_t}{\\partial X_t}$     |      1 |      1 |      1 |"
      ],
      "text/plain": [
       "<IPython.core.display.Markdown object>"
      ]
     },
     "metadata": {},
     "output_type": "display_data"
    },
    {
     "data": {
      "text/latex": [
       "$\\begin{eqnarray*} X_t  & = &  0.5 \\times E_t ** 2 + X_{t-1} \\end{eqnarray*}$"
      ],
      "text/plain": [
       "<IPython.core.display.Latex object>"
      ]
     },
     "metadata": {},
     "output_type": "display_data"
    },
    {
     "data": {
      "text/latex": [
       "\\begin{eqnarray*}\\frac{\\partial X_t}{\\partial X_{t-1}} & = & 1\\end{eqnarray*} "
      ],
      "text/plain": [
       "<IPython.core.display.Latex object>"
      ]
     },
     "metadata": {},
     "output_type": "display_data"
    },
    {
     "data": {
      "text/markdown": [
       "|                                         |   2019 |   2020 |   2021 |\n",
       "|:----------------------------------------|-------:|-------:|-------:|\n",
       "| $\\frac{\\partial X_t}{\\partial X_{t-1}}$ |      1 |      1 |      1 |"
      ],
      "text/plain": [
       "<IPython.core.display.Markdown object>"
      ]
     },
     "metadata": {},
     "output_type": "display_data"
    }
   ],
   "source": [
    "newton.show_diff_latex()"
   ]
  },
  {
   "cell_type": "code",
   "execution_count": 8,
   "metadata": {},
   "outputs": [
    {
     "data": {
      "text/plain": [
       "0"
      ]
     },
     "execution_count": 8,
     "metadata": {},
     "output_type": "execute_result"
    }
   ],
   "source": [
    "from subprocess import call\n",
    "call(['python', '-m', 'nbconvert', 'Differentiation .ipynb'])"
   ]
  },
  {
   "cell_type": "code",
   "execution_count": null,
   "metadata": {},
   "outputs": [],
   "source": []
  }
 ],
 "metadata": {
  "hide_input": false,
  "kernelspec": {
   "display_name": "Python 3 (ipykernel)",
   "language": "python",
   "name": "python3"
  },
  "language_info": {
   "codemirror_mode": {
    "name": "ipython",
    "version": 3
   },
   "file_extension": ".py",
   "mimetype": "text/x-python",
   "name": "python",
   "nbconvert_exporter": "python",
   "pygments_lexer": "ipython3",
   "version": "3.8.8"
  },
  "toc": {
   "base_numbering": 1,
   "nav_menu": {},
   "number_sections": true,
   "sideBar": true,
   "skip_h1_title": false,
   "title_cell": "Table of Contents",
   "title_sidebar": "Contents",
   "toc_cell": false,
   "toc_position": {},
   "toc_section_display": true,
   "toc_window_display": false
  },
  "varInspector": {
   "cols": {
    "lenName": 16,
    "lenType": 16,
    "lenVar": 40
   },
   "kernels_config": {
    "python": {
     "delete_cmd_postfix": "",
     "delete_cmd_prefix": "del ",
     "library": "var_list.py",
     "varRefreshCmd": "print(var_dic_list())"
    },
    "r": {
     "delete_cmd_postfix": ") ",
     "delete_cmd_prefix": "rm(",
     "library": "var_list.r",
     "varRefreshCmd": "cat(var_dic_list()) "
    }
   },
   "types_to_exclude": [
    "module",
    "function",
    "builtin_function_or_method",
    "instance",
    "_Feature"
   ],
   "window_display": false
  }
 },
 "nbformat": 4,
 "nbformat_minor": 2
}
