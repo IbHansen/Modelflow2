{
 "cells": [
  {
   "cell_type": "code",
   "execution_count": 1,
   "metadata": {
    "slideshow": {
     "slide_type": "skip"
    }
   },
   "outputs": [
    {
     "data": {
      "text/html": [
       "\n",
       "        <style>\n",
       "            div#notebook-container    { width: 95%; }\n",
       "            div#menubar-container     { width: 65%; }\n",
       "            div#maintoolbar-container { width: 99%; }\n",
       "        </style>\n",
       "        "
      ],
      "text/plain": [
       "<IPython.core.display.HTML object>"
      ]
     },
     "metadata": {},
     "output_type": "display_data"
    }
   ],
   "source": [
    "%matplotlib inline\n",
    "\n",
    "import pandas as pd\n",
    "import numpy as np\n",
    "\n",
    "from modelclass import model\n",
    "model.widescreen()"
   ]
  },
  {
   "cell_type": "markdown",
   "metadata": {
    "slideshow": {
     "slide_type": "slide"
    }
   },
   "source": [
    "# Create a Samuleson multiplier accelerator model "
   ]
  },
  {
   "cell_type": "code",
   "execution_count": 2,
   "metadata": {
    "slideshow": {
     "slide_type": "fragment"
    }
   },
   "outputs": [],
   "source": [
    "fma   = f'''\n",
    "gdp = consumption+investment  \n",
    "consumption = mul * gdp(-1)\n",
    "investment = acc * (consumption-consumption(-1)) + exo_investment'''\n",
    "mma = model.from_eq(fma,modelname = 'Accelerator multiplicator model')"
   ]
  },
  {
   "cell_type": "code",
   "execution_count": 3,
   "metadata": {
    "slideshow": {
     "slide_type": "slide"
    }
   },
   "outputs": [
    {
     "data": {
      "image/svg+xml": [
       "<svg xmlns=\"http://www.w3.org/2000/svg\" xmlns:xlink=\"http://www.w3.org/1999/xlink\" width=\"432pt\" height=\"99pt\" viewBox=\"0.00 0.00 432.00 99.35\">\n",
       "<g id=\"graph0\" class=\"graph\" transform=\"scale(0.469055 0.469055) rotate(0) translate(4 207.8)\">\n",
       "<title>TD</title>\n",
       "<polygon fill=\"white\" stroke=\"none\" points=\"-4,4 -4,-207.8 917,-207.8 917,4 -4,4\"/>\n",
       "<text text-anchor=\"middle\" x=\"456.5\" y=\"-7.8\" font-family=\"Times New Roman,serif\" font-size=\"14.00\">A_model_graph</text>\n",
       "<!-- EXO_INVESTMENT -->\n",
       "<g id=\"node1\" class=\"node\">\n",
       "<title>EXO_INVESTMENT</title>\n",
       "<g id=\"a_node1\"><a xlink:title=\"EXO_INVESTMENT\n",
       "Exogen\">\n",
       "<polygon fill=\"yellow\" stroke=\"black\" points=\"137,-203.8 0,-203.8 0,-167.8 137,-167.8 137,-203.8\"/>\n",
       "<text text-anchor=\"start\" x=\"6.5\" y=\"-181.6\" font-family=\"Times New Roman,serif\" font-size=\"14.00\" fill=\"blue\">EXO_INVESTMENT:</text>\n",
       "</a>\n",
       "</g>\n",
       "</g>\n",
       "<!-- INVESTMENT -->\n",
       "<g id=\"node5\" class=\"node\">\n",
       "<title>INVESTMENT</title>\n",
       "<g id=\"a_node5\"><a xlink:title=\"INVESTMENT\n",
       "FRML &lt;&gt; INVESTMENT = ACC * (CONSUMPTION-CONSUMPTION(-1)) + EXO_INVESTMENT $\">\n",
       "<polygon fill=\"#63b8ff\" stroke=\"black\" points=\"276,-176.8 173,-176.8 173,-140.8 276,-140.8 276,-176.8\"/>\n",
       "<text text-anchor=\"start\" x=\"179.5\" y=\"-154.6\" font-family=\"Times New Roman,serif\" font-size=\"14.00\" fill=\"blue\">INVESTMENT:</text>\n",
       "</a>\n",
       "</g>\n",
       "</g>\n",
       "<!-- EXO_INVESTMENT&#45;&gt;INVESTMENT -->\n",
       "<g id=\"edge4\" class=\"edge\">\n",
       "<title>EXO_INVESTMENT-&gt;INVESTMENT</title>\n",
       "<g id=\"a_edge4\"><a xlink:href=\"bogus\" xlink:title=\"NA\">\n",
       "<path fill=\"none\" stroke=\"black\" stroke-width=\"0.5\" d=\"M137.49,-173.88C145.67,-172.45 153.99,-170.99 162.07,-169.57\"/>\n",
       "<polygon fill=\"black\" stroke=\"black\" stroke-width=\"0.5\" points=\"162.53,-173.05 171.78,-167.87 161.32,-166.15 162.53,-173.05\"/>\n",
       "</a>\n",
       "</g>\n",
       "</g>\n",
       "<!-- CONSUMPTION -->\n",
       "<g id=\"node2\" class=\"node\">\n",
       "<title>CONSUMPTION</title>\n",
       "<g id=\"a_node2\"><a xlink:title=\"CONSUMPTION\n",
       "FRML &lt;&gt; CONSUMPTION = MUL * GDP(-1) $\">\n",
       "<polygon fill=\"#63b8ff\" stroke=\"black\" points=\"644,-130.8 529,-130.8 529,-94.8 644,-94.8 644,-130.8\"/>\n",
       "<text text-anchor=\"start\" x=\"535.5\" y=\"-108.6\" font-family=\"Times New Roman,serif\" font-size=\"14.00\" fill=\"blue\">CONSUMPTION:</text>\n",
       "</a>\n",
       "</g>\n",
       "</g>\n",
       "<!-- CONSUMPTION(&#45;1) -->\n",
       "<g id=\"node4\" class=\"node\">\n",
       "<title>CONSUMPTION(-1)</title>\n",
       "<g id=\"a_node4\"><a xlink:title=\"CONSUMPTION\n",
       "FRML &lt;&gt; CONSUMPTION = MUL * GDP(-1) $\">\n",
       "<polygon fill=\"springgreen\" stroke=\"black\" points=\"913,-172.8 680,-172.8 680,-136.8 913,-136.8 913,-172.8\"/>\n",
       "<text text-anchor=\"start\" x=\"686.5\" y=\"-150.6\" font-family=\"Times New Roman,serif\" font-size=\"14.00\" fill=\"blue\">CONSUMPTION(-1):CONSUMPTION</text>\n",
       "</a>\n",
       "</g>\n",
       "</g>\n",
       "<!-- CONSUMPTION&#45;&gt;CONSUMPTION(&#45;1) -->\n",
       "<g id=\"edge6\" class=\"edge\">\n",
       "<title>CONSUMPTION-&gt;CONSUMPTION(-1)</title>\n",
       "<g id=\"a_edge6\"><a xlink:href=\"bogus\" xlink:title=\"NA\">\n",
       "<path fill=\"none\" stroke=\"black\" stroke-width=\"0.5\" d=\"M644.34,-124.28C659.58,-127.36 676.53,-130.78 693.42,-134.19\"/>\n",
       "<polygon fill=\"black\" stroke=\"black\" stroke-width=\"0.5\" points=\"692.67,-137.61 703.17,-136.16 694.06,-130.75 692.67,-137.61\"/>\n",
       "</a>\n",
       "</g>\n",
       "</g>\n",
       "<!-- CONSUMPTION&#45;&gt;INVESTMENT -->\n",
       "<g id=\"edge1\" class=\"edge\">\n",
       "<title>CONSUMPTION-&gt;INVESTMENT</title>\n",
       "<g id=\"a_edge1\"><a xlink:href=\"bogus\" xlink:title=\"NA\">\n",
       "<path fill=\"none\" stroke=\"black\" stroke-width=\"0.5\" d=\"M529.21,-131.3C517.36,-134.61 504.86,-137.68 493,-139.8 422.97,-152.36 341.23,-156.7 286.71,-158.15\"/>\n",
       "<polygon fill=\"black\" stroke=\"black\" stroke-width=\"0.5\" points=\"286.85,-154.65 276.94,-158.39 287.02,-161.65 286.85,-154.65\"/>\n",
       "</a>\n",
       "</g>\n",
       "</g>\n",
       "<!-- GDP -->\n",
       "<g id=\"node8\" class=\"node\">\n",
       "<title>GDP</title>\n",
       "<g id=\"a_node8\"><a xlink:title=\"GDP\n",
       "FRML &lt;&gt; GDP = CONSUMPTION+INVESTMENT   $\">\n",
       "<polygon fill=\"#63b8ff\" stroke=\"black\" points=\"366,-76.8 312,-76.8 312,-40.8 366,-40.8 366,-76.8\"/>\n",
       "<text text-anchor=\"start\" x=\"324\" y=\"-54.6\" font-family=\"Times New Roman,serif\" font-size=\"14.00\" fill=\"blue\">GDP:</text>\n",
       "</a>\n",
       "</g>\n",
       "</g>\n",
       "<!-- CONSUMPTION&#45;&gt;GDP -->\n",
       "<g id=\"edge2\" class=\"edge\">\n",
       "<title>CONSUMPTION-&gt;GDP</title>\n",
       "<g id=\"a_edge2\"><a xlink:href=\"bogus\" xlink:title=\"NA\">\n",
       "<path fill=\"none\" stroke=\"black\" stroke-width=\"0.5\" d=\"M571.54,-94.43C555.21,-74.63 526.17,-44.27 493,-31.8 455.14,-17.57 441.59,-23.56 402,-31.8 393.34,-33.61 384.4,-36.69 376.11,-40.14\"/>\n",
       "<polygon fill=\"black\" stroke=\"black\" stroke-width=\"0.5\" points=\"374.77,-36.9 367.06,-44.16 377.62,-43.3 374.77,-36.9\"/>\n",
       "</a>\n",
       "</g>\n",
       "</g>\n",
       "<!-- GDP(&#45;1) -->\n",
       "<g id=\"node3\" class=\"node\">\n",
       "<title>GDP(-1)</title>\n",
       "<g id=\"a_node3\"><a xlink:title=\"GDP\n",
       "FRML &lt;&gt; GDP = CONSUMPTION+INVESTMENT   $\">\n",
       "<polygon fill=\"springgreen\" stroke=\"black\" points=\"493,-76.8 402,-76.8 402,-40.8 493,-40.8 493,-76.8\"/>\n",
       "<text text-anchor=\"start\" x=\"408.5\" y=\"-54.6\" font-family=\"Times New Roman,serif\" font-size=\"14.00\" fill=\"blue\">GDP(-1):GDP</text>\n",
       "</a>\n",
       "</g>\n",
       "</g>\n",
       "<!-- GDP(&#45;1)&#45;&gt;CONSUMPTION -->\n",
       "<g id=\"edge8\" class=\"edge\">\n",
       "<title>GDP(-1)-&gt;CONSUMPTION</title>\n",
       "<g id=\"a_edge8\"><a xlink:href=\"bogus\" xlink:title=\"NA\">\n",
       "<path fill=\"none\" stroke=\"black\" stroke-width=\"0.5\" d=\"M493.36,-76.49C504.7,-80.96 517.02,-85.81 528.86,-90.48\"/>\n",
       "<polygon fill=\"black\" stroke=\"black\" stroke-width=\"0.5\" points=\"527.37,-93.65 537.95,-94.06 529.93,-87.14 527.37,-93.65\"/>\n",
       "</a>\n",
       "</g>\n",
       "</g>\n",
       "<!-- CONSUMPTION(&#45;1)&#45;&gt;INVESTMENT -->\n",
       "<g id=\"edge9\" class=\"edge\">\n",
       "<title>CONSUMPTION(-1)-&gt;INVESTMENT</title>\n",
       "<g id=\"a_edge9\"><a xlink:href=\"bogus\" xlink:title=\"NA\">\n",
       "<path fill=\"none\" stroke=\"black\" stroke-width=\"0.5\" d=\"M679.77,-159.94C593.34,-163.51 472.31,-167.95 366,-169.8 342,-170.22 335.95,-171.32 312,-169.8 303.82,-169.29 295.23,-168.5 286.77,-167.57\"/>\n",
       "<polygon fill=\"black\" stroke=\"black\" stroke-width=\"0.5\" points=\"287.26,-164.1 276.92,-166.42 286.45,-171.06 287.26,-164.1\"/>\n",
       "</a>\n",
       "</g>\n",
       "</g>\n",
       "<!-- INVESTMENT&#45;&gt;GDP -->\n",
       "<g id=\"edge3\" class=\"edge\">\n",
       "<title>INVESTMENT-&gt;GDP</title>\n",
       "<g id=\"a_edge3\"><a xlink:href=\"bogus\" xlink:title=\"NA\">\n",
       "<path fill=\"none\" stroke=\"black\" stroke-width=\"0.5\" d=\"M246.13,-140.46C263.97,-124.6 289.94,-101.53 309.71,-83.95\"/>\n",
       "<polygon fill=\"black\" stroke=\"black\" stroke-width=\"0.5\" points=\"311.78,-86.79 316.93,-77.53 307.13,-81.56 311.78,-86.79\"/>\n",
       "</a>\n",
       "</g>\n",
       "</g>\n",
       "<!-- ACC -->\n",
       "<g id=\"node6\" class=\"node\">\n",
       "<title>ACC</title>\n",
       "<g id=\"a_node6\"><a xlink:title=\"ACC\n",
       "Exogen\">\n",
       "<polygon fill=\"yellow\" stroke=\"black\" points=\"95.5,-149.8 41.5,-149.8 41.5,-113.8 95.5,-113.8 95.5,-149.8\"/>\n",
       "<text text-anchor=\"start\" x=\"52.5\" y=\"-127.6\" font-family=\"Times New Roman,serif\" font-size=\"14.00\" fill=\"blue\">ACC:</text>\n",
       "</a>\n",
       "</g>\n",
       "</g>\n",
       "<!-- ACC&#45;&gt;INVESTMENT -->\n",
       "<g id=\"edge10\" class=\"edge\">\n",
       "<title>ACC-&gt;INVESTMENT</title>\n",
       "<g id=\"a_edge10\"><a xlink:href=\"bogus\" xlink:title=\"NA\">\n",
       "<path fill=\"none\" stroke=\"black\" stroke-width=\"0.5\" d=\"M95.97,-136.45C114.17,-139.64 139.11,-144.01 162.11,-148.04\"/>\n",
       "<polygon fill=\"black\" stroke=\"black\" stroke-width=\"0.5\" points=\"161.3,-151.45 171.76,-149.73 162.51,-144.56 161.3,-151.45\"/>\n",
       "</a>\n",
       "</g>\n",
       "</g>\n",
       "<!-- MUL -->\n",
       "<g id=\"node7\" class=\"node\">\n",
       "<title>MUL</title>\n",
       "<g id=\"a_node7\"><a xlink:title=\"MUL\n",
       "Exogen\">\n",
       "<polygon fill=\"yellow\" stroke=\"black\" points=\"474.5,-130.8 420.5,-130.8 420.5,-94.8 474.5,-94.8 474.5,-130.8\"/>\n",
       "<text text-anchor=\"start\" x=\"430.5\" y=\"-108.6\" font-family=\"Times New Roman,serif\" font-size=\"14.00\" fill=\"blue\">MUL:</text>\n",
       "</a>\n",
       "</g>\n",
       "</g>\n",
       "<!-- MUL&#45;&gt;CONSUMPTION -->\n",
       "<g id=\"edge7\" class=\"edge\">\n",
       "<title>MUL-&gt;CONSUMPTION</title>\n",
       "<g id=\"a_edge7\"><a xlink:href=\"bogus\" xlink:title=\"NA\">\n",
       "<path fill=\"none\" stroke=\"black\" stroke-width=\"0.5\" d=\"M474.91,-112.8C487.3,-112.8 502.68,-112.8 517.99,-112.8\"/>\n",
       "<polygon fill=\"black\" stroke=\"black\" stroke-width=\"0.5\" points=\"517.78,-116.3 527.78,-112.8 517.78,-109.3 517.78,-116.3\"/>\n",
       "</a>\n",
       "</g>\n",
       "</g>\n",
       "<!-- GDP&#45;&gt;GDP(&#45;1) -->\n",
       "<g id=\"edge5\" class=\"edge\">\n",
       "<title>GDP-&gt;GDP(-1)</title>\n",
       "<g id=\"a_edge5\"><a xlink:href=\"bogus\" xlink:title=\"NA\">\n",
       "<path fill=\"none\" stroke=\"black\" stroke-width=\"0.5\" d=\"M366.33,-58.8C373.95,-58.8 382.56,-58.8 391.25,-58.8\"/>\n",
       "<polygon fill=\"black\" stroke=\"black\" stroke-width=\"0.5\" points=\"391.07,-62.3 401.07,-58.8 391.07,-55.3 391.07,-62.3\"/>\n",
       "</a>\n",
       "</g>\n",
       "</g>\n",
       "</g>\n",
       "</svg>"
      ],
      "text/plain": [
       "<IPython.core.display.SVG object>"
      ]
     },
     "metadata": {},
     "output_type": "display_data"
    }
   ],
   "source": [
    "mma.drawmodel()"
   ]
  },
  {
   "cell_type": "markdown",
   "metadata": {
    "slideshow": {
     "slide_type": "slide"
    }
   },
   "source": [
    "# A function which generates a dataframe with values"
   ]
  },
  {
   "cell_type": "code",
   "execution_count": 4,
   "metadata": {},
   "outputs": [
    {
     "data": {
      "text/html": [
       "<div>\n",
       "<style scoped>\n",
       "    .dataframe tbody tr th:only-of-type {\n",
       "        vertical-align: middle;\n",
       "    }\n",
       "\n",
       "    .dataframe tbody tr th {\n",
       "        vertical-align: top;\n",
       "    }\n",
       "\n",
       "    .dataframe thead th {\n",
       "        text-align: right;\n",
       "    }\n",
       "</style>\n",
       "<table border=\"1\" class=\"dataframe\">\n",
       "  <thead>\n",
       "    <tr style=\"text-align: right;\">\n",
       "      <th></th>\n",
       "      <th>GDP</th>\n",
       "      <th>MUL</th>\n",
       "      <th>ACC</th>\n",
       "      <th>CONSUMPTION</th>\n",
       "      <th>EXO_INVESTMENT</th>\n",
       "    </tr>\n",
       "  </thead>\n",
       "  <tbody>\n",
       "    <tr>\n",
       "      <th>2018</th>\n",
       "      <td>1000</td>\n",
       "      <td>0.9</td>\n",
       "      <td>0.5</td>\n",
       "      <td>900.0</td>\n",
       "      <td>200</td>\n",
       "    </tr>\n",
       "    <tr>\n",
       "      <th>2019</th>\n",
       "      <td>1000</td>\n",
       "      <td>0.9</td>\n",
       "      <td>0.5</td>\n",
       "      <td>900.0</td>\n",
       "      <td>200</td>\n",
       "    </tr>\n",
       "    <tr>\n",
       "      <th>2020</th>\n",
       "      <td>1000</td>\n",
       "      <td>0.9</td>\n",
       "      <td>0.5</td>\n",
       "      <td>900.0</td>\n",
       "      <td>200</td>\n",
       "    </tr>\n",
       "    <tr>\n",
       "      <th>2021</th>\n",
       "      <td>1000</td>\n",
       "      <td>0.9</td>\n",
       "      <td>0.5</td>\n",
       "      <td>900.0</td>\n",
       "      <td>200</td>\n",
       "    </tr>\n",
       "    <tr>\n",
       "      <th>2022</th>\n",
       "      <td>1000</td>\n",
       "      <td>0.9</td>\n",
       "      <td>0.5</td>\n",
       "      <td>900.0</td>\n",
       "      <td>200</td>\n",
       "    </tr>\n",
       "  </tbody>\n",
       "</table>\n",
       "</div>"
      ],
      "text/plain": [
       "       GDP  MUL  ACC  CONSUMPTION  EXO_INVESTMENT\n",
       "2018  1000  0.9  0.5        900.0             200\n",
       "2019  1000  0.9  0.5        900.0             200\n",
       "2020  1000  0.9  0.5        900.0             200\n",
       "2021  1000  0.9  0.5        900.0             200\n",
       "2022  1000  0.9  0.5        900.0             200"
      ]
     },
     "execution_count": 4,
     "metadata": {},
     "output_type": "execute_result"
    }
   ],
   "source": [
    "def get_df(mul=0.9,acc=0.5,gdp=1000,im=200,years=100):\n",
    "    'Creates imput dataframe to accelerator multiplier model '\n",
    "    df = pd.DataFrame([[gdp]]*years,index=range(2018,2018+years),columns=['GDP'])\n",
    "    df.loc[:,'MUL']= mul\n",
    "    df.loc[:,'ACC']= acc\n",
    "    df.loc[:,'CONSUMPTION']= gdp*mul\n",
    "    df.loc[:,'EXO_INVESTMENT']= im\n",
    "    return df\n",
    "base = get_df()\n",
    "base.head()"
   ]
  },
  {
   "cell_type": "markdown",
   "metadata": {},
   "source": [
    "# a function to forecast and calculate eigenvalues "
   ]
  },
  {
   "cell_type": "code",
   "execution_count": 16,
   "metadata": {
    "slideshow": {
     "slide_type": "slide"
    }
   },
   "outputs": [],
   "source": [
    "def geteigen(mul,acc,years=30,show=False):\n",
    "    from copy import copy \n",
    "    from modelnewton import newton_diff\n",
    "\n",
    "    '''Function which creates a Samuelson Multiplier accelerator model, runs it and \n",
    "    calculates the eigenvalues for the compaignion matrix in order to evaluate stability'''\n",
    "    \n",
    "    first = get_df(mul,acc,years=years)\n",
    "    base  = mma(first,silent=True)     # Solve the model \n",
    "    mma_newton = newton_diff(mma)      # create a newton_diff instance which contains derivatives \n",
    "    eig_dic = mma_newton.get_eigenvectors() #  \n",
    "    mma_newton.eigplot(eig_dic);\n",
    "\n",
    "    if show:\n",
    "        _ = mma['gdp consumption investment'].plot(top=0.8,title='Values',colrow=3,sharey=False)  # Show the solution\n",
    "    return  mma_newton"
   ]
  },
  {
   "cell_type": "markdown",
   "metadata": {
    "slideshow": {
     "slide_type": "slide"
    }
   },
   "source": [
    "## Stability   "
   ]
  },
  {
   "cell_type": "code",
   "execution_count": 17,
   "metadata": {
    "slideshow": {
     "slide_type": "fragment"
    }
   },
   "outputs": [],
   "source": [
    "geteigen(mul=0.8,acc=0,show=1);"
   ]
  },
  {
   "cell_type": "markdown",
   "metadata": {
    "slideshow": {
     "slide_type": "slide"
    }
   },
   "source": [
    "## Explosion "
   ]
  },
  {
   "cell_type": "code",
   "execution_count": 15,
   "metadata": {},
   "outputs": [],
   "source": [
    "geteigen(mul=0.9,acc=2,show=1);"
   ]
  },
  {
   "cell_type": "markdown",
   "metadata": {
    "slideshow": {
     "slide_type": "slide"
    }
   },
   "source": [
    "## Exploding oscillations"
   ]
  },
  {
   "cell_type": "code",
   "execution_count": 11,
   "metadata": {},
   "outputs": [
    {
     "data": {
      "text/plain": [
       "<modelnewton.newton_diff at 0x137dceddf70>"
      ]
     },
     "execution_count": 11,
     "metadata": {},
     "output_type": "execute_result"
    }
   ],
   "source": [
    "geteigen(mul=0.6,acc=2,show=1);"
   ]
  },
  {
   "cell_type": "markdown",
   "metadata": {
    "slideshow": {
     "slide_type": "slide"
    }
   },
   "source": [
    "## Perpetual oscillations "
   ]
  },
  {
   "cell_type": "code",
   "execution_count": 9,
   "metadata": {},
   "outputs": [],
   "source": [
    "geteigen(mul=0.5,acc=2,show=1);"
   ]
  },
  {
   "cell_type": "markdown",
   "metadata": {
    "slideshow": {
     "slide_type": "slide"
    }
   },
   "source": [
    "## Dampened oscillations "
   ]
  },
  {
   "cell_type": "code",
   "execution_count": 10,
   "metadata": {},
   "outputs": [],
   "source": [
    "geteigen(mul=0.7,acc=1,show=1);"
   ]
  }
 ],
 "metadata": {
  "celltoolbar": "Slideshow",
  "hide_input": false,
  "kernelspec": {
   "display_name": "Python 3 (ipykernel)",
   "language": "python",
   "name": "python3"
  },
  "language_info": {
   "codemirror_mode": {
    "name": "ipython",
    "version": 3
   },
   "file_extension": ".py",
   "mimetype": "text/x-python",
   "name": "python",
   "nbconvert_exporter": "python",
   "pygments_lexer": "ipython3",
   "version": "3.10.11"
  },
  "toc": {
   "base_numbering": 1,
   "nav_menu": {},
   "number_sections": true,
   "sideBar": true,
   "skip_h1_title": false,
   "title_cell": "Table of Contents",
   "title_sidebar": "Contents",
   "toc_cell": false,
   "toc_position": {},
   "toc_section_display": true,
   "toc_window_display": false
  },
  "varInspector": {
   "cols": {
    "lenName": 16,
    "lenType": 16,
    "lenVar": 40
   },
   "kernels_config": {
    "python": {
     "delete_cmd_postfix": "",
     "delete_cmd_prefix": "del ",
     "library": "var_list.py",
     "varRefreshCmd": "print(var_dic_list())"
    },
    "r": {
     "delete_cmd_postfix": ") ",
     "delete_cmd_prefix": "rm(",
     "library": "var_list.r",
     "varRefreshCmd": "cat(var_dic_list()) "
    }
   },
   "types_to_exclude": [
    "module",
    "function",
    "builtin_function_or_method",
    "instance",
    "_Feature"
   ],
   "window_display": false
  }
 },
 "nbformat": 4,
 "nbformat_minor": 2
}
