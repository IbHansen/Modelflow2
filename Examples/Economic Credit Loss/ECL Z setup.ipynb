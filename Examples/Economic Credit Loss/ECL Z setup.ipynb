{
 "cells": [
  {
   "cell_type": "markdown",
   "metadata": {
    "slideshow": {
     "slide_type": "slide"
    }
   },
   "source": [
    "# This notebook shows how to extract a model from a Latex document and simulate the mode. "
   ]
  },
  {
   "cell_type": "markdown",
   "metadata": {
    "slideshow": {
     "slide_type": "subslide"
    }
   },
   "source": [
    "## Why specify a model in Latex? \n",
    "\n",
    "Sometime the **implementation** of a model in software don't match the **specification** of the model in \n",
    "the text in which the model is presented. It can be a challenge to make sure that the specification is \n",
    "updated in order to reflect changes made in the implementation. \n",
    "\n",
    "By extracting the model from a Latex script which describes and specify the model a one can always be sure that simulations reflect the model as described in the paper. \n",
    "\n",
    "Also the author is forced to make a complete specification of the model, else it won't run. "
   ]
  },
  {
   "cell_type": "markdown",
   "metadata": {
    "slideshow": {
     "slide_type": "skip"
    }
   },
   "source": [
    "## The Economic Credit Loss model \n",
    "This jupyter notebook is inspired by IMF working paper (WP/20/111) The Expected Credit Loss Modeling from a Top-Down Stress Testing Perspective by Marco Gross, Dimitrios Laliotis, Mindaugas Leika, Pavel Lukyantsau. The working paper and the associated material is located https://www.imf.org/en/Publications/WP/Issues/2020/07/03/Expected-Credit-Loss-Modeling-from-a-Top-Down-Stress-Testing-Perspective-49545\n",
    "\n",
    "from the abstract of the paper: \n",
    "> The objective of this paper is to present an integrated tool suite for IFRS 9- and CECL compatible\n",
    "estimation in top-down solvency stress tests. The tool suite serves as an\n",
    "illustration for institutions wishing to include accounting-based approaches for credit risk\n",
    "modeling in top-down stress tests.\n",
    "\n",
    "This is a jupyter notebook build with the purpose of illustrating the conversion of a model from Latex to ModelFlow. The purpose is testing so take very much care.  "
   ]
  },
  {
   "cell_type": "markdown",
   "metadata": {
    "slideshow": {
     "slide_type": "skip"
    }
   },
   "source": [
    "## Import libraries "
   ]
  },
  {
   "cell_type": "code",
   "execution_count": 1,
   "metadata": {
    "scrolled": false,
    "slideshow": {
     "slide_type": "skip"
    }
   },
   "outputs": [
    {
     "data": {
      "text/html": [
       "\n",
       "        <style>\n",
       "            div#notebook-container    { width: 95%; }\n",
       "            div#menubar-container     { width: 65%; }\n",
       "            div#maintoolbar-container { width: 99%; }\n",
       "        </style>\n",
       "        "
      ],
      "text/plain": [
       "<IPython.core.display.HTML object>"
      ]
     },
     "metadata": {},
     "output_type": "display_data"
    },
    {
     "ename": "OptionError",
     "evalue": "'Pattern matched multiple keys'",
     "output_type": "error",
     "traceback": [
      "\u001b[1;31m---------------------------------------------------------------------------\u001b[0m",
      "\u001b[1;31mOptionError\u001b[0m                               Traceback (most recent call last)",
      "Cell \u001b[1;32mIn [1], line 12\u001b[0m\n\u001b[0;32m     10\u001b[0m \u001b[38;5;66;03m# some useful stuf\u001b[39;00m\n\u001b[0;32m     11\u001b[0m model\u001b[38;5;241m.\u001b[39mwidescreen()\n\u001b[1;32m---> 12\u001b[0m \u001b[43mpd\u001b[49m\u001b[38;5;241;43m.\u001b[39;49m\u001b[43mset_option\u001b[49m\u001b[43m(\u001b[49m\u001b[38;5;124;43m'\u001b[39;49m\u001b[38;5;124;43mdisplay.max_rows\u001b[39;49m\u001b[38;5;124;43m'\u001b[39;49m\u001b[43m,\u001b[49m\u001b[43m \u001b[49m\u001b[38;5;28;43;01mNone\u001b[39;49;00m\u001b[43m,\u001b[49m\u001b[43m \u001b[49m\u001b[38;5;124;43m'\u001b[39;49m\u001b[38;5;124;43mdisplay.max_columns\u001b[39;49m\u001b[38;5;124;43m'\u001b[39;49m\u001b[43m,\u001b[49m\u001b[43m \u001b[49m\u001b[38;5;241;43m10\u001b[39;49m\u001b[43m,\u001b[49m\u001b[43m \u001b[49m\u001b[38;5;124;43m'\u001b[39;49m\u001b[38;5;124;43mprecision\u001b[39;49m\u001b[38;5;124;43m'\u001b[39;49m\u001b[43m,\u001b[49m\u001b[43m \u001b[49m\u001b[38;5;241;43m2\u001b[39;49m\u001b[43m)\u001b[49m\n\u001b[0;32m     13\u001b[0m sortdf \u001b[38;5;241m=\u001b[39m \u001b[38;5;28;01mlambda\u001b[39;00m df: df[\u001b[38;5;28msorted\u001b[39m([c \u001b[38;5;28;01mfor\u001b[39;00m c \u001b[38;5;129;01min\u001b[39;00m df\u001b[38;5;241m.\u001b[39mcolumns])]\n",
      "File \u001b[1;32m~\\anaconda3\\envs\\mfdoc39\\lib\\site-packages\\pandas\\_config\\config.py:256\u001b[0m, in \u001b[0;36mCallableDynamicDoc.__call__\u001b[1;34m(self, *args, **kwds)\u001b[0m\n\u001b[0;32m    255\u001b[0m \u001b[38;5;28;01mdef\u001b[39;00m \u001b[38;5;21m__call__\u001b[39m(\u001b[38;5;28mself\u001b[39m, \u001b[38;5;241m*\u001b[39margs, \u001b[38;5;241m*\u001b[39m\u001b[38;5;241m*\u001b[39mkwds):\n\u001b[1;32m--> 256\u001b[0m     \u001b[38;5;28;01mreturn\u001b[39;00m \u001b[38;5;28mself\u001b[39m\u001b[38;5;241m.\u001b[39m\u001b[38;5;18m__func__\u001b[39m(\u001b[38;5;241m*\u001b[39margs, \u001b[38;5;241m*\u001b[39m\u001b[38;5;241m*\u001b[39mkwds)\n",
      "File \u001b[1;32m~\\anaconda3\\envs\\mfdoc39\\lib\\site-packages\\pandas\\_config\\config.py:149\u001b[0m, in \u001b[0;36m_set_option\u001b[1;34m(*args, **kwargs)\u001b[0m\n\u001b[0;32m    146\u001b[0m     \u001b[38;5;28;01mraise\u001b[39;00m \u001b[38;5;167;01mTypeError\u001b[39;00m(\u001b[38;5;124mf\u001b[39m\u001b[38;5;124m'\u001b[39m\u001b[38;5;124m_set_option() got an unexpected keyword argument \u001b[39m\u001b[38;5;124m\"\u001b[39m\u001b[38;5;132;01m{\u001b[39;00mkwarg\u001b[38;5;132;01m}\u001b[39;00m\u001b[38;5;124m\"\u001b[39m\u001b[38;5;124m'\u001b[39m)\n\u001b[0;32m    148\u001b[0m \u001b[38;5;28;01mfor\u001b[39;00m k, v \u001b[38;5;129;01min\u001b[39;00m \u001b[38;5;28mzip\u001b[39m(args[::\u001b[38;5;241m2\u001b[39m], args[\u001b[38;5;241m1\u001b[39m::\u001b[38;5;241m2\u001b[39m]):\n\u001b[1;32m--> 149\u001b[0m     key \u001b[38;5;241m=\u001b[39m \u001b[43m_get_single_key\u001b[49m\u001b[43m(\u001b[49m\u001b[43mk\u001b[49m\u001b[43m,\u001b[49m\u001b[43m \u001b[49m\u001b[43msilent\u001b[49m\u001b[43m)\u001b[49m\n\u001b[0;32m    151\u001b[0m     o \u001b[38;5;241m=\u001b[39m _get_registered_option(key)\n\u001b[0;32m    152\u001b[0m     \u001b[38;5;28;01mif\u001b[39;00m o \u001b[38;5;129;01mand\u001b[39;00m o\u001b[38;5;241m.\u001b[39mvalidator:\n",
      "File \u001b[1;32m~\\anaconda3\\envs\\mfdoc39\\lib\\site-packages\\pandas\\_config\\config.py:116\u001b[0m, in \u001b[0;36m_get_single_key\u001b[1;34m(pat, silent)\u001b[0m\n\u001b[0;32m    114\u001b[0m     \u001b[38;5;28;01mraise\u001b[39;00m OptionError(\u001b[38;5;124mf\u001b[39m\u001b[38;5;124m\"\u001b[39m\u001b[38;5;124mNo such keys(s): \u001b[39m\u001b[38;5;132;01m{\u001b[39;00m\u001b[38;5;28mrepr\u001b[39m(pat)\u001b[38;5;132;01m}\u001b[39;00m\u001b[38;5;124m\"\u001b[39m)\n\u001b[0;32m    115\u001b[0m \u001b[38;5;28;01mif\u001b[39;00m \u001b[38;5;28mlen\u001b[39m(keys) \u001b[38;5;241m>\u001b[39m \u001b[38;5;241m1\u001b[39m:\n\u001b[1;32m--> 116\u001b[0m     \u001b[38;5;28;01mraise\u001b[39;00m OptionError(\u001b[38;5;124m\"\u001b[39m\u001b[38;5;124mPattern matched multiple keys\u001b[39m\u001b[38;5;124m\"\u001b[39m)\n\u001b[0;32m    117\u001b[0m key \u001b[38;5;241m=\u001b[39m keys[\u001b[38;5;241m0\u001b[39m]\n\u001b[0;32m    119\u001b[0m \u001b[38;5;28;01mif\u001b[39;00m \u001b[38;5;129;01mnot\u001b[39;00m silent:\n",
      "\u001b[1;31mOptionError\u001b[0m: 'Pattern matched multiple keys'"
     ]
    }
   ],
   "source": [
    "%load_ext autoreload\n",
    "%autoreload 2\n",
    "import pandas as pd\n",
    "from IPython.core.display import HTML,Markdown\n",
    "\n",
    "\n",
    "from modelclass import model\n",
    "import modeljupytermagic\n",
    "\n",
    "# some useful stuf\n",
    "model.widescreen()\n",
    "pd.set_option('display.max_rows', None, 'display.max_columns', 10, 'precision', 2)\n",
    "sortdf = lambda df: df[sorted([c for c in df.columns])]"
   ]
  },
  {
   "cell_type": "markdown",
   "metadata": {
    "slideshow": {
     "slide_type": "slide"
    }
   },
   "source": [
    "## Write a latex script\n",
    "The model consists of the equations and the lists \n",
    "\n",
    "The jupyter magic command **%%latexflow** will extract the model. then it will  transform the equations to **ModelFlow** equations and finaly it will create a modelflow **model** instance. \n",
    "\n",
    "The **model** instance will be able to solve the model. "
   ]
  },
  {
   "cell_type": "code",
   "execution_count": null,
   "metadata": {
    "scrolled": false,
    "slideshow": {
     "slide_type": "fragment"
    }
   },
   "outputs": [],
   "source": [
    "%%latexflow ecl\n",
    "\n",
    "\n",
    "### Loans can be in 3 stages\n",
    "Loans can be in 3 stages, s1,s2 and s3. \n",
    "New loans will be generated and loans will mature. \n",
    "\n",
    "\n",
    "Two lists of stages are defined: \n",
    "    \n",
    "List $stage=\\{s1, s2,s3\\}$\n",
    "\n",
    "List $stage\\_from=\\{s1, s2,s3\\}$\n",
    "\n",
    "### A share of the loans in each stage wil transition to the same or another stage in the next time frame:  \n",
    "\n",
    "\\begin{equation}\n",
    "\\label{eq:loanfromto}\n",
    "loan\\_transition\\_from\\_to^{stage\\_from,stage}_{t} = loan^{stage\\_from}_{t-1} \\times TR^{stage\\_from,stage}_{t} \n",
    "\\end{equation}\n",
    "\n",
    "\\begin{equation}\n",
    "\\label{eq:transition}\n",
    "loan\\_transition\\_to^{stage}_{t}  = \\underbrace{\\sum_{stage\\_from}(loan\\_transition\\_from\\_to^{stage\\_from,stage}_{t})}_{Transition}\n",
    "\\end{equation}\n",
    "\n",
    "### A share of the loans in each stage will mature another share will have to be written off\n",
    "\n",
    "\\begin{equation}\n",
    "\\label{eq:maturing}\n",
    "loan\\_maturing^{stage}_{t}  = M^{stage}_{t} \\times loan^{stage}_{t-1}\n",
    "\\end{equation}\n",
    "\n",
    "\\begin{equation}\n",
    "\\label{eq:writeoff}\n",
    "loan\\_writeoff^{stage}_{t}  = WRO^{stage}_{t} \\times loan^{stage}_{t-1}\n",
    "\\end{equation}\n",
    "\n",
    "### So loans in a stage will reflect the inflow and outflow\n",
    "\n",
    "\\begin{equation}\n",
    "\\label{eq:E}\n",
    "loan^{stage}_{t}  = \\underbrace{loan\\_transition\\_to^{stage}_{t} }_{Transition}\n",
    "-\\underbrace{loan\\_maturing^{stage}_{t}}_{Maturing}\n",
    "-\\underbrace{loan\\_writeoff^{stage}_{t}}_{Writeoff}\n",
    "+\\underbrace{loan\\_new^{stage}_{t}}_{New loans}\n",
    "\\end{equation}\n",
    "\n",
    "\n",
    "\\begin{equation}\n",
    "\\label{eq:new}\n",
    "loan\\_new^{stage}_{t}  = new^{stage}_{t} \\times loan^{stage}_{t-1}\n",
    "\\end{equation}\n",
    " \n",
    "\\begin{equation}\n",
    "\\label{eq:g}\n",
    "loan\\_total_{t}  =  \\sum_{stage}(loan^{stage}_{t})\n",
    "\\end{equation}\n",
    "\n",
    "\n",
    "### New loans are only generated in stage 1.\n",
    "\n",
    "\\begin{equation}\n",
    "\\label{eq:E2}\n",
    "new\\_s1_{t} = \\frac{loan\\_growth_{t} \\times loan\\_total_{t-1} + \n",
    "                \\sum_{stage}((M^{stage}_{t}+WRO^{stage}_{t})\\times loan^{stage}_{t-1})}{(loan\\_s1_{t-1})}\n",
    "\\end{equation}\n",
    "\n",
    "### Performing Loans \n",
    "\n",
    "\\begin{equation}\n",
    "\\label{eq:Performing}\n",
    "loan\\_performing_{t} = loan\\_s1_{t}+loan\\_s2_{t}\n",
    "\\end{equation}\n",
    "\n",
    "### Cure \n",
    "\n",
    "\\begin{equation}\n",
    "\\label{eq:cure}\n",
    "loan\\_cure = loan\\_transition\\_from\\_to\\_s3\\_s1+loan\\_transition\\_from\\_to\\_s3\\_s2\n",
    "\\end{equation}\n",
    "\n",
    "### Probability of default (PD)\n",
    "\n",
    "The point in time PD is the fraction of loans in stage s1 and s2 going into stage s3 \n",
    "\\begin{equation}\n",
    "\\label{eq:PDPIT}\n",
    "PD\\_pit= \\frac{loan\\_transition\\_from\\_to\\_s1\\_s3+loan\\_transition\\_from\\_to\\_s2\\_s3}{loan\\_s1+loan\\_s2}\n",
    "\\end{equation}\n",
    "\n",
    "The Troug The  Cycle PD is a slow mowing average of the Point in time PD. The \n",
    "\n",
    "\n",
    "\\begin{equation}\n",
    "\\label{eq:PDTTC}\n",
    "PD\\_TTC = logit^{-1}(logit(PD\\_TTC(-1)) + alfa \\times \\Delta{PD\\_pit})\n",
    "\\end{equation}\n",
    "\n",
    "### And we can specify the dynamic of the transition matrix, based on Z score\n",
    "\n",
    "Let $\\Phi$ be the normal cumulative distribution $\\frac{1}{\\sqrt{2\\pi}}\n",
    "\\int_{-\\infty}^x e^{\n",
    "-\\frac{t^2}{2}}dt$\n",
    "\n",
    "\n",
    "\n",
    "\\begin{equation}\n",
    "\\label{eq:tr}\n",
    "TR^{stage\\_from,stage}_{t} = \\Phi{\\left(\\frac{bound\\_upper^{stage\\_from,stage}-\\sqrt{\\rho}\\times Z_{t}}{\\sqrt{1-\\rho}}\\right)}-\\Phi{\\left(\\frac{bound\\_lower^{stage\\_from,stage}-\\sqrt{\\rho}\\times Z_{t}}{\\sqrt{1-\\rho}}\\right)}\n",
    "\\end{equation}\n",
    "\n",
    "\n"
   ]
  },
  {
   "cell_type": "markdown",
   "metadata": {
    "slideshow": {
     "slide_type": "slide"
    }
   },
   "source": [
    "## The equations in Macro business logic language can be inspected"
   ]
  },
  {
   "cell_type": "code",
   "execution_count": null,
   "metadata": {
    "scrolled": false,
    "slideshow": {
     "slide_type": "-"
    }
   },
   "outputs": [],
   "source": [
    "print(ecl.equations_original)"
   ]
  },
  {
   "cell_type": "markdown",
   "metadata": {
    "slideshow": {
     "slide_type": "slide"
    }
   },
   "source": [
    "### The equations in business logic language can be inspected"
   ]
  },
  {
   "cell_type": "code",
   "execution_count": null,
   "metadata": {},
   "outputs": [],
   "source": [
    "print(ecl.equations)"
   ]
  },
  {
   "cell_type": "markdown",
   "metadata": {
    "slideshow": {
     "slide_type": "slide"
    }
   },
   "source": [
    "### The model structure can be inspected "
   ]
  },
  {
   "cell_type": "code",
   "execution_count": null,
   "metadata": {
    "slideshow": {
     "slide_type": "-"
    }
   },
   "outputs": [],
   "source": [
    "ecl.drawmodel(sink='LOAN_TOTAL',HR=0,pdf=0,att=0,size=(12,12))"
   ]
  },
  {
   "cell_type": "markdown",
   "metadata": {
    "slideshow": {
     "slide_type": "skip"
    }
   },
   "source": [
    "## load data\n",
    "The data is copy-pasted from the excel sheet \n",
    "### Load data common for baseline and adverse"
   ]
  },
  {
   "cell_type": "code",
   "execution_count": null,
   "metadata": {
    "slideshow": {
     "slide_type": "skip"
    }
   },
   "outputs": [],
   "source": [
    "%%dataframe T0tr noshow  prefix=TR_  periods=1 melt \n",
    "\tS1\tS2\tS3\n",
    "S1\t89%\t9%\t2%\n",
    "S2\t15%\t79%\t6%\n",
    "S3\t2%\t24%\t74%"
   ]
  },
  {
   "cell_type": "code",
   "execution_count": null,
   "metadata": {
    "slideshow": {
     "slide_type": "skip"
    }
   },
   "outputs": [],
   "source": [
    "%%dataframe  startvalues  show  periods=1 \n",
    "     pd_pit lgd_pit\n",
    "        1.6%   20%"
   ]
  },
  {
   "cell_type": "code",
   "execution_count": null,
   "metadata": {
    "slideshow": {
     "slide_type": "skip"
    }
   },
   "outputs": [],
   "source": [
    "%%dataframe  Loan_t0  show periods=1 melt \n",
    "S1\tS2\tS3 total \n",
    "loan 500\t180\t30 710\n"
   ]
  },
  {
   "cell_type": "code",
   "execution_count": null,
   "metadata": {
    "slideshow": {
     "slide_type": "skip"
    }
   },
   "outputs": [],
   "source": [
    "%%dataframe upper_bin prefix=bound_upper_ nshow periods=7 melt \n",
    "\tS1\tS2\tS3\n",
    "S1\t10000\t-1,34\t-2,33\n",
    "S2\t10000\t1,08\t-1,64\n",
    "S3\t10000\t1,88\t0,58\n",
    " "
   ]
  },
  {
   "cell_type": "code",
   "execution_count": null,
   "metadata": {
    "slideshow": {
     "slide_type": "skip"
    }
   },
   "outputs": [],
   "source": [
    "%%dataframe lower_bin prefix=bound_lower_ show periods=7 melt \n",
    "\tS1\tS2\tS3\n",
    "S1\t-1,34\t-2,33\t-10000\n",
    "S2\t1,08\t-1,64\t-10000\n",
    "S3\t1,88\t0,58\t-10000"
   ]
  },
  {
   "cell_type": "code",
   "execution_count": null,
   "metadata": {
    "slideshow": {
     "slide_type": "skip"
    }
   },
   "outputs": [],
   "source": [
    "%%dataframe parameters show periods=7  \n",
    "rho\n",
    "0.2"
   ]
  },
  {
   "cell_type": "markdown",
   "metadata": {
    "slideshow": {
     "slide_type": "skip"
    }
   },
   "source": [
    "### Create the Static dataframe, common to scenarios"
   ]
  },
  {
   "cell_type": "code",
   "execution_count": null,
   "metadata": {
    "slideshow": {
     "slide_type": "skip"
    }
   },
   "outputs": [],
   "source": [
    "staticdf = pd.concat([T0tr_melted,Loan_t0_melted,startvalues,upper_bin_melted, \n",
    "                      lower_bin_melted,parameters],axis=1)\n",
    "HTML(staticdf.T.style.render().replace('nan',''))"
   ]
  },
  {
   "cell_type": "markdown",
   "metadata": {
    "slideshow": {
     "slide_type": "skip"
    }
   },
   "source": [
    "### Load data specific for the scenarios"
   ]
  },
  {
   "cell_type": "code",
   "execution_count": null,
   "metadata": {
    "scrolled": false,
    "slideshow": {
     "slide_type": "skip"
    }
   },
   "outputs": [],
   "source": [
    "%%dataframe  inf_baseline  nshow t periods=7 melt\n",
    "    m     wro\n",
    "s1  5%   0\n",
    "s2  3.8%   0\n",
    "s3  0    7.5%"
   ]
  },
  {
   "cell_type": "code",
   "execution_count": null,
   "metadata": {
    "scrolled": false,
    "slideshow": {
     "slide_type": "skip"
    }
   },
   "outputs": [],
   "source": [
    "%%dataframe  inf_adverse  nshow t periods=7 melt\n",
    "    m     wro\n",
    "s1  3.8%   0\n",
    "s2  2.5%   0\n",
    "s3  0    6.3%"
   ]
  },
  {
   "cell_type": "code",
   "execution_count": null,
   "metadata": {
    "slideshow": {
     "slide_type": "skip"
    }
   },
   "outputs": [],
   "source": [
    "%%dataframe projection_baseline nshow\n",
    "Z  loan_growth\n",
    " 0          0.01 \n",
    "-0,47\t    0.01   \n",
    "-0,42\t    0.01\n",
    "-0,38\t    0.01\n",
    "-0,36\t    0.01\n",
    "-0,34\t    0.01\n",
    "-0,33\t    0.01"
   ]
  },
  {
   "cell_type": "code",
   "execution_count": null,
   "metadata": {
    "slideshow": {
     "slide_type": "skip"
    }
   },
   "outputs": [],
   "source": [
    "%%dataframe projection_adverse nshow\n",
    " Z        loan_growth\n",
    " 0          0.01\n",
    "  -0,65     -0.01\n",
    "  -0,84     -0.008\n",
    "   -0,99    -0.006\n",
    "    -0,69   -0.004\n",
    "    -0,39   -0.002\n",
    "    -0,24   -0.0"
   ]
  },
  {
   "cell_type": "markdown",
   "metadata": {
    "slideshow": {
     "slide_type": "skip"
    }
   },
   "source": [
    "### Create a dataframe for baseline and adverse scenario "
   ]
  },
  {
   "cell_type": "code",
   "execution_count": null,
   "metadata": {
    "slideshow": {
     "slide_type": "skip"
    }
   },
   "outputs": [],
   "source": [
    "baseupdate    = pd.concat([inf_baseline_melted, projection_baseline],axis=1).pipe(sortdf)\n",
    "adverseupdate =  pd.concat([inf_adverse_melted, projection_adverse],axis=1).pipe(sortdf)\n",
    "getnotnul = lambda x: x.loc[:,(x!=0.0).any(axis=0)] \n",
    "\n",
    "display(Markdown('## Baseline scenario'))\n",
    "display(baseupdate.pipe(getnotnul))\n",
    "display(Markdown('## Adverse scenario'))\n",
    "display(adverseupdate.pipe(getnotnul))"
   ]
  },
  {
   "cell_type": "code",
   "execution_count": null,
   "metadata": {
    "scrolled": false,
    "slideshow": {
     "slide_type": "skip"
    }
   },
   "outputs": [],
   "source": [
    "baseline = pd.concat([staticdf, inf_baseline_melted, projection_baseline],axis=1)\n",
    "adverse  = pd.concat([staticdf, inf_adverse_melted, projection_adverse],axis=1)\n",
    "baseline.index = pd.period_range(start=2021,freq = 'Y',periods=7)\n",
    "adverse.index  = pd.period_range(start=2021,freq = 'Y',periods=7)\n",
    "\n",
    "display(baseline.pipe(sortdf).T)"
   ]
  },
  {
   "cell_type": "markdown",
   "metadata": {
    "slideshow": {
     "slide_type": "slide"
    }
   },
   "source": [
    "## Run baseline "
   ]
  },
  {
   "cell_type": "code",
   "execution_count": null,
   "metadata": {
    "slideshow": {
     "slide_type": "slide"
    }
   },
   "outputs": [],
   "source": [
    "base_result  = ecl(baseline,keep='Baseline')"
   ]
  },
  {
   "cell_type": "markdown",
   "metadata": {
    "slideshow": {
     "slide_type": "skip"
    }
   },
   "source": [
    "### Save model and baseline results"
   ]
  },
  {
   "cell_type": "code",
   "execution_count": null,
   "metadata": {
    "slideshow": {
     "slide_type": "skip"
    }
   },
   "outputs": [],
   "source": [
    "ecl.modeldump('ecl.pcim')"
   ]
  },
  {
   "cell_type": "markdown",
   "metadata": {
    "slideshow": {
     "slide_type": "slide"
    }
   },
   "source": [
    "## Run adverse"
   ]
  },
  {
   "cell_type": "code",
   "execution_count": null,
   "metadata": {
    "slideshow": {
     "slide_type": "fragment"
    }
   },
   "outputs": [],
   "source": [
    "adverse_result = ecl(adverse,keep = 'Adverse')"
   ]
  },
  {
   "cell_type": "markdown",
   "metadata": {
    "slideshow": {
     "slide_type": "slide"
    }
   },
   "source": [
    "## Inspect Results"
   ]
  },
  {
   "cell_type": "code",
   "execution_count": null,
   "metadata": {
    "slideshow": {
     "slide_type": "skip"
    }
   },
   "outputs": [],
   "source": [
    "with ecl.set_smpl('2021','2027'):\n",
    "    ecl.keep_plot('loan_total',showtype='growth',legend=False);"
   ]
  },
  {
   "cell_type": "code",
   "execution_count": null,
   "metadata": {
    "scrolled": false,
    "slideshow": {
     "slide_type": "subslide"
    }
   },
   "outputs": [],
   "source": [
    "ecl.keep_plot('tr_*',showtype='level',legend=False);"
   ]
  },
  {
   "cell_type": "code",
   "execution_count": null,
   "metadata": {
    "scrolled": true
   },
   "outputs": [],
   "source": [
    "ecl.PD_PIT.tracepre(up=4,HR=1,filter=30,pdf=1)"
   ]
  },
  {
   "cell_type": "code",
   "execution_count": null,
   "metadata": {},
   "outputs": [],
   "source": []
  }
 ],
 "metadata": {
  "celltoolbar": "Slideshow",
  "hide_input": false,
  "kernelspec": {
   "display_name": "Python 3 (ipykernel)",
   "language": "python",
   "name": "python3"
  },
  "language_info": {
   "codemirror_mode": {
    "name": "ipython",
    "version": 3
   },
   "file_extension": ".py",
   "mimetype": "text/x-python",
   "name": "python",
   "nbconvert_exporter": "python",
   "pygments_lexer": "ipython3",
   "version": "3.9.13"
  },
  "toc": {
   "base_numbering": 1,
   "nav_menu": {},
   "number_sections": true,
   "sideBar": true,
   "skip_h1_title": true,
   "title_cell": "Table of Contents",
   "title_sidebar": "Contents",
   "toc_cell": false,
   "toc_position": {
    "height": "496.25px",
    "left": "166px",
    "top": "110.156px",
    "width": "184.971px"
   },
   "toc_section_display": true,
   "toc_window_display": false
  },
  "varInspector": {
   "cols": {
    "lenName": 16,
    "lenType": 16,
    "lenVar": 40
   },
   "kernels_config": {
    "python": {
     "delete_cmd_postfix": "",
     "delete_cmd_prefix": "del ",
     "library": "var_list.py",
     "varRefreshCmd": "print(var_dic_list())"
    },
    "r": {
     "delete_cmd_postfix": ") ",
     "delete_cmd_prefix": "rm(",
     "library": "var_list.r",
     "varRefreshCmd": "cat(var_dic_list()) "
    }
   },
   "types_to_exclude": [
    "module",
    "function",
    "builtin_function_or_method",
    "instance",
    "_Feature"
   ],
   "window_display": false
  }
 },
 "nbformat": 4,
 "nbformat_minor": 4
}
